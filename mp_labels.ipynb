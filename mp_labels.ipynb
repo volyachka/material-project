{
 "cells": [
  {
   "cell_type": "code",
   "execution_count": null,
   "metadata": {},
   "outputs": [],
   "source": [
    "mp_id = ['554076', '532413', '569782', '558219', '15797', '29410', '676361', '643069', '7744', '34477', '676109', '559238', '866665'\n",
    "         '8751', '15789', '15790', '15791', '561095', '8430', '22905']\n",
    "\n",
    "\n",
    "evidence_for_correct_model_prediction = [\n",
    "    'no', 'yes', 'marginal', 'no', 'marginal', 'yes', 'yes', \n",
    "    'yes', 'yes', 'no', 'yes', 'yes', 'yes', 'no', 'no', 'no', \n",
    "    'no', 'no', 'no', 'no']\n"
   ]
  },
  {
   "cell_type": "code",
   "execution_count": null,
   "metadata": {},
   "outputs": [],
   "source": [
    "mp_id = ['6674', '8609', '28567', '12160', '6787', '560072', '7941', '13772', '8452', '770932',\n",
    "         '12829', '27811', '8180', '7971', '8449', '558045', '562394', '510073', '7744', '989562', '8892']\n",
    "\n",
    "true_labels = ['no', 'no', 'no', 'no', 'no', 'no', 'no', 'no', 'no', 'no', 'no', \n",
    "               'no', 'no', 'no', 'no', 'no', 'no', 'no', 'yes', 'no', 'no']\n",
    "\n"
   ]
  }
 ],
 "metadata": {
  "language_info": {
   "name": "python"
  }
 },
 "nbformat": 4,
 "nbformat_minor": 2
}
