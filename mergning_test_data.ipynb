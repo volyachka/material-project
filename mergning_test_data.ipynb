{
 "cells": [
  {
   "cell_type": "code",
   "execution_count": 1,
   "metadata": {},
   "outputs": [],
   "source": [
    "import os\n",
    "import io\n",
    "import sys\n",
    "import re\n",
    "import time\n",
    "import math\n",
    "import pickle\n",
    "\n",
    "import numpy as np\n",
    "import pandas as pd\n",
    "\n",
    "from numpy import nan as Nan\n",
    "from numpy import inf as inf\n",
    "from tqdm import notebook as tqdm\n",
    "from scipy.sparse import csr_matrix\n",
    "from sklearn.preprocessing import StandardScaler\n",
    "import matplotlib.pyplot as plt\n",
    "from sklearn.decomposition import PCA\n"
   ]
  },
  {
   "cell_type": "code",
   "execution_count": 2,
   "metadata": {},
   "outputs": [],
   "source": [
    "from data_preprocessing import *"
   ]
  },
  {
   "cell_type": "code",
   "execution_count": 3,
   "metadata": {},
   "outputs": [],
   "source": [
    "def make_features(path):\n",
    "    valid_features_df = pd.DataFrame()\n",
    "    files = sorted(os.listdir(path))\n",
    "    feature_list = list()\n",
    "    cnt_of_nan_features = list()\n",
    "    for file in files:\n",
    "        print(file)\n",
    "        # remove the .npy extension\n",
    "        filename = file[0:-4]\n",
    "        if re.search('SOAP', file):\n",
    "            features = csr_matrix(np.load(io.BytesIO(open('{}/{}'.format(path, file), 'rb').read()), allow_pickle=True).all())\n",
    "            lost_features_count, valid_features = nan_and_inf_finder_SOAP(features)\n",
    "            # save the sparse representation\n",
    "            save_path = os.path.join(os.getcwd(), 'mpr_test/sparse_features/{}.pkl'.format(filename))\n",
    "            save_file = open(save_path, 'wb')\n",
    "            pickle.dump(features, save_file)\n",
    "            save_file.close()\n",
    "        elif re.search('ipynb_checkpoints', file):\n",
    "            next\n",
    "        else:\n",
    "            features = np.load('{}/{}'.format(path, file), allow_pickle=True)\n",
    "            feature_list.append(features)\n",
    "            lost_features_count, valid_features = nan_and_inf_finder(features)\n",
    "            # create a sparse representation for each feature\n",
    "            sparse_features = save_sparse_features(features, filename)\n",
    "            # feature_list.append(sparse_features)\n",
    "        print(features.shape)\n",
    "        valid_features_df[filename] = valid_features\n",
    "        if lost_features_count != 0:\n",
    "            print(\"{} rows are lost in the feature: {}\".format(lost_features_count, file))\n",
    "        cnt_of_nan_features.append(lost_features_count)\n",
    "    return files, feature_list, cnt_of_nan_features\n"
   ]
  },
  {
   "cell_type": "code",
   "execution_count": 4,
   "metadata": {},
   "outputs": [
    {
     "name": "stdout",
     "output_type": "stream",
     "text": [
      "ape_features_mode-structure_CAMN.npy\n",
      "(70, 5)\n",
      "bc_features_mode-structure_CAMN.npy\n",
      "(70, 1)\n",
      "bf_features_mode-structure_CAMN.npy\n",
      "(70, 43)\n",
      "co_features_mode-structure_CAMN.npy\n",
      "(70, 3)\n",
      "4 rows are lost in the feature: co_features_mode-structure_CAMN.npy\n",
      "density_features_mode-structure_CAMN.npy\n",
      "(70, 3)\n",
      "ee_features_mode-structure_CAMN.npy\n",
      "(70, 1)\n",
      "end_features_mode-structure.npy\n",
      "(70, 5)\n",
      "gii_features_rcut-20_mode-structure.npy\n",
      "(70, 1)\n",
      "70 rows are lost in the feature: gii_features_rcut-20_mode-structure.npy\n",
      "md_features_mode-structure_CAMN.npy\n",
      "(70, 120)\n",
      "mpe_features_mode-structure_CAMN.npy\n",
      "(70, 1)\n",
      "os_features_mode-structure_CAMN.npy\n",
      "(70, 4)\n",
      "rdf_features_cutoff-10_binsize-0.1_mode-structure_CAMN.npy\n",
      "(70, 100)\n",
      "sc_features_mode-structure.npy\n",
      "(70, 2)\n",
      "scm_features_mode-structure.npy\n",
      "(70, 160)\n",
      "sh_features_mode-structure.npy\n",
      "(70, 9)\n",
      "4 rows are lost in the feature: sh_features_mode-structure.npy\n",
      "vo_features_mode-structure.npy\n",
      "(70, 8)\n",
      "xrd_features_pattern_length-451_mode-structure_CAMN.npy\n",
      "(70, 451)\n",
      "yss_features_mode-structure.npy\n",
      "(70, 2)\n",
      "15 rows are lost in the feature: yss_features_mode-structure.npy\n"
     ]
    }
   ],
   "source": [
    "nan_features = set()\n",
    "path_to_csv = 'mpr_test/testing_structures_oxi_state.pkl'\n",
    "path_to_folder = 'mpr_test/features'\n",
    "labels_df = load_csv(path_to_csv)\n",
    "files, feature_list, cnt_of_nan_features = make_features(path_to_folder)\n",
    "for i, feature in enumerate(feature_list):\n",
    "    labels_df[files[i] + str(i)] = feature.tolist()\n",
    "    if cnt_of_nan_features[i] != 0:\n",
    "        nan_features.add('feature_' + str(i))\n",
    "    path_to_save = 'mpr_test/structure_with_features.pkl'\n",
    "    save_csv(labels_df, path_to_save)"
   ]
  },
  {
   "cell_type": "code",
   "execution_count": 27,
   "metadata": {},
   "outputs": [],
   "source": [
    "def load_csv(path):\n",
    "    save_path = os.path.join(os.getcwd(), path)\n",
    "    open_file = open(save_path, 'rb')\n",
    "    labels_df = pickle.load(open_file)\n",
    "    open_file.close()\n",
    "    return labels_df\n",
    "\n",
    "\n",
    "df = load_csv(f\"groups_and_oxi_states_starting_structure/starting_structure_with_features.pkl\")\n"
   ]
  },
  {
   "cell_type": "code",
   "execution_count": 30,
   "metadata": {},
   "outputs": [],
   "source": [
    "def make_plane(labels_df):\n",
    "  features = labels_df.drop(['label', 'src_id', 'group'], axis = 1).columns\n",
    "  df_t = pd.DataFrame()\n",
    "  last_index = 0\n",
    "  print(features.shape)\n",
    "  for i, feature in enumerate(features):\n",
    "      data = labels_df[feature].to_numpy()\n",
    "      data = np.array([np.array(x) for x in data]).T\n",
    "      lenn = data.shape[0]\n",
    "      columns = np.arange(last_index, last_index + lenn)\n",
    "      last_index += lenn\n",
    "      dictionary = dict(zip(columns, data))\n",
    "      df = pd.DataFrame(dictionary)\n",
    "      df_t = pd.concat([df_t, df], axis = 1)\n",
    "\n",
    "  labels_df = pd.concat([df_t, labels_df], axis = 1)\n",
    "  labels_df = labels_df.drop(features, axis = 1)\n",
    "  zero_columns = list()\n",
    "  for column in labels_df.columns:\n",
    "    if labels_df[column].nunique() == 1:\n",
    "        zero_columns.append(column)\n",
    "  return labels_df, zero_columns"
   ]
  },
  {
   "cell_type": "code",
   "execution_count": 31,
   "metadata": {},
   "outputs": [
    {
     "name": "stdout",
     "output_type": "stream",
     "text": [
      "(121, 21)\n",
      "(121, 17)\n",
      "(14,)\n"
     ]
    }
   ],
   "source": [
    "grand_zero_columns = set()\n",
    "df = df.drop(['starting_structure', 'structure_A', 'structure_AM',\n",
    "       'structure_CAN', 'structure_CAMN', 'structure_A40', 'structure_AM40',\n",
    "       'structure_CAN40', 'structure_CAMN40'], axis = 1)\n",
    "print(df.shape)\n",
    "df = df.drop(nan_features, axis = 1)\n",
    "print(df.shape)\n",
    "df, zero_columns = make_plane(df)\n",
    "grand_zero_columns.update(zero_columns)"
   ]
  },
  {
   "cell_type": "code",
   "execution_count": null,
   "metadata": {},
   "outputs": [],
   "source": [
    "df = df.drop(grand_zero_columns, axis = 1)\n",
    "df = df[df['group'] != 'group_D']\n",
    "df['is_good'] = (df['group'] == 'group_A') | (df['group'] == 'group_B') | (df['group'] == 'group_E')\n",
    "df = df.drop(['group'], axis = 1)\n",
    "# path_to_save = 'groups_and_oxi_states_starting_structure/starting_structure_with_features.pkl'.format(i)\n",
    "# print(path_to_save)\n",
    "# save_csv(df, path_to_save)"
   ]
  }
 ],
 "metadata": {
  "kernelspec": {
   "display_name": "Python 3",
   "language": "python",
   "name": "python3"
  },
  "language_info": {
   "codemirror_mode": {
    "name": "ipython",
    "version": 3
   },
   "file_extension": ".py",
   "mimetype": "text/x-python",
   "name": "python",
   "nbconvert_exporter": "python",
   "pygments_lexer": "ipython3",
   "version": "3.8.10"
  },
  "orig_nbformat": 4
 },
 "nbformat": 4,
 "nbformat_minor": 2
}
