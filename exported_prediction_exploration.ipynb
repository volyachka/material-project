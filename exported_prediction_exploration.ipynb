{
 "cells": [
  {
   "cell_type": "code",
   "execution_count": 35,
   "metadata": {},
   "outputs": [],
   "source": [
    "import pandas as pd\n",
    "from utils import load_csv\n",
    "import os\n",
    "import pickle\n",
    "import numpy as np\n",
    "import pandas as pd\n",
    "from numpy import nan as Nan\n",
    "from numpy import inf as inf\n",
    "from tqdm import notebook as tqdm\n",
    "from scipy.sparse import csr_matrix\n",
    "from sklearn.model_selection import cross_val_predict\n",
    "from catboost import CatBoostClassifier\n",
    "from sklearn.model_selection import train_test_split\n",
    "from sklearn.metrics import roc_auc_score\n",
    "\n",
    "from sklearn.preprocessing import StandardScaler\n",
    "from sklearn.decomposition import PCA\n",
    "\n",
    "from sklearn.model_selection import LeaveOneOut\n",
    "from sklearn.feature_selection import SelectFromModel\n",
    "\n",
    "from catboost import CatBoostClassifier\n",
    "from sklearn.ensemble import GradientBoostingClassifier\n",
    "from sklearn.linear_model import LogisticRegression\n",
    "from sklearn.tree import DecisionTreeClassifier\n",
    "from sklearn.neighbors import KNeighborsClassifier\n",
    "\n",
    "from data_preprocessing import *\n",
    "from scoring import bootstrap_roc_auc\n",
    "from sklearn.ensemble import GradientBoostingClassifier\n",
    "from catboost import CatBoostRegressor, Pool, EShapCalcType, EFeaturesSelectionAlgorithm\n",
    "from tqdm import tqdm"
   ]
  },
  {
   "cell_type": "code",
   "execution_count": 36,
   "metadata": {},
   "outputs": [],
   "source": [
    "df = pd.read_csv('exported.predictions.Kahle2020.csv')\n",
    "groups = load_csv(f\"groups_and_oxi_states_5_frames/df_features_step_0.pkl\")\n",
    "df = df.merge(groups, left_on=['src_id'], right_on=['stru_id'])\n",
    "df = df.drop(['starting_structure', 'src_database', 'src_id', 'diffusion_mean_cm2_s'], axis = 1)"
   ]
  },
  {
   "cell_type": "code",
   "execution_count": 46,
   "metadata": {},
   "outputs": [
    {
     "name": "stderr",
     "output_type": "stream",
     "text": [
      "116it [02:05,  1.08s/it]\n"
     ]
    },
    {
     "name": "stdout",
     "output_type": "stream",
     "text": [
      "0.7305235919585873 0.04865745949323294\n"
     ]
    }
   ],
   "source": [
    "X, y = (df['barrier'].to_numpy().reshape(-1, 1), df['is_good'].astype(int).to_numpy())\n",
    "scaler = StandardScaler()\n",
    "X_scaled = scaler.fit_transform(X)\n",
    "\n",
    "loo = LeaveOneOut()\n",
    "loo.get_n_splits(X_scaled)\n",
    "preds = np.zeros(len(y))\n",
    "for i, (train_index, test_index) in enumerate(tqdm(loo.split(X))):\n",
    "    model = CatBoostClassifier(eval_metric='AUC', verbose = False, random_state = 42)\n",
    "    model.fit(X_scaled[train_index, :], y[train_index])\n",
    "    preds[test_index] = model.predict_proba(X_scaled[test_index])[:, 1]\n",
    "estimated_mean, estimated_std = bootstrap_roc_auc(1000, y, preds)\n",
    "print(estimated_mean, estimated_std)"
   ]
  },
  {
   "cell_type": "code",
   "execution_count": 45,
   "metadata": {},
   "outputs": [
    {
     "name": "stderr",
     "output_type": "stream",
     "text": [
      "116it [02:04,  1.08s/it]\n"
     ]
    },
    {
     "name": "stdout",
     "output_type": "stream",
     "text": [
      "0.7341029824964577 0.049085469809764394\n"
     ]
    }
   ],
   "source": [
    "X, y = (df['fv_1p0_disconnected'].to_numpy().reshape(-1, 1), df['is_good'].astype(int).to_numpy())\n",
    "scaler = StandardScaler()\n",
    "X_scaled = scaler.fit_transform(X)\n",
    "\n",
    "loo = LeaveOneOut()\n",
    "loo.get_n_splits(X_scaled)\n",
    "preds = np.zeros(len(y))\n",
    "for i, (train_index, test_index) in enumerate(tqdm(loo.split(X))):\n",
    "    model = CatBoostClassifier(eval_metric='AUC', verbose = False, random_state = 42)\n",
    "    model.fit(X_scaled[train_index, :], y[train_index])\n",
    "    preds[test_index] = model.predict_proba(X_scaled[test_index])[:, 1]\n",
    "estimated_mean, estimated_std = bootstrap_roc_auc(1000, y, preds)\n",
    "print(estimated_mean, estimated_std)"
   ]
  },
  {
   "cell_type": "code",
   "execution_count": 47,
   "metadata": {},
   "outputs": [
    {
     "name": "stderr",
     "output_type": "stream",
     "text": [
      "116it [02:05,  1.08s/it]\n"
     ]
    },
    {
     "name": "stdout",
     "output_type": "stream",
     "text": [
      "0.7751256623913735 0.04818280232694281\n"
     ]
    }
   ],
   "source": [
    "X, y = (df['fv_2p0_disconnected'].to_numpy().reshape(-1, 1), df['is_good'].astype(int).to_numpy())\n",
    "scaler = StandardScaler()\n",
    "X_scaled = scaler.fit_transform(X)\n",
    "\n",
    "loo = LeaveOneOut()\n",
    "loo.get_n_splits(X_scaled)\n",
    "preds = np.zeros(len(y))\n",
    "for i, (train_index, test_index) in enumerate(tqdm(loo.split(X))):\n",
    "    model = CatBoostClassifier(eval_metric='AUC', verbose = False, random_state = 42)\n",
    "    model.fit(X_scaled[train_index, :], y[train_index])\n",
    "    preds[test_index] = model.predict_proba(X_scaled[test_index])[:, 1]\n",
    "estimated_mean, estimated_std = bootstrap_roc_auc(1000, y, preds)\n",
    "print(estimated_mean, estimated_std)"
   ]
  },
  {
   "cell_type": "code",
   "execution_count": 48,
   "metadata": {},
   "outputs": [
    {
     "name": "stderr",
     "output_type": "stream",
     "text": [
      "116it [02:05,  1.08s/it]\n"
     ]
    },
    {
     "name": "stdout",
     "output_type": "stream",
     "text": [
      "0.7227192284433122 0.045017607602623445\n"
     ]
    }
   ],
   "source": [
    "X, y = (df['fv_3p0_disconnected'].to_numpy().reshape(-1, 1), df['is_good'].astype(int).to_numpy())\n",
    "scaler = StandardScaler()\n",
    "X_scaled = scaler.fit_transform(X)\n",
    "\n",
    "loo = LeaveOneOut()\n",
    "loo.get_n_splits(X_scaled)\n",
    "preds = np.zeros(len(y))\n",
    "for i, (train_index, test_index) in enumerate(tqdm(loo.split(X))):\n",
    "    model = CatBoostClassifier(eval_metric='AUC', verbose = False, random_state = 42)\n",
    "    model.fit(X_scaled[train_index, :], y[train_index])\n",
    "    preds[test_index] = model.predict_proba(X_scaled[test_index])[:, 1]\n",
    "estimated_mean, estimated_std = bootstrap_roc_auc(1000, y, preds)\n",
    "print(estimated_mean, estimated_std)"
   ]
  },
  {
   "cell_type": "code",
   "execution_count": 49,
   "metadata": {},
   "outputs": [
    {
     "name": "stderr",
     "output_type": "stream",
     "text": [
      "116it [02:05,  1.08s/it]\n"
     ]
    },
    {
     "name": "stdout",
     "output_type": "stream",
     "text": [
      "0.629968810206653 0.05458774950291143\n"
     ]
    }
   ],
   "source": [
    "X, y = (df['fv_4p0_disconnected'].to_numpy().reshape(-1, 1), df['is_good'].astype(int).to_numpy())\n",
    "scaler = StandardScaler()\n",
    "X_scaled = scaler.fit_transform(X)\n",
    "\n",
    "loo = LeaveOneOut()\n",
    "loo.get_n_splits(X_scaled)\n",
    "preds = np.zeros(len(y))\n",
    "for i, (train_index, test_index) in enumerate(tqdm(loo.split(X))):\n",
    "    model = CatBoostClassifier(eval_metric='AUC', verbose = False, random_state = 42)\n",
    "    model.fit(X_scaled[train_index, :], y[train_index])\n",
    "    preds[test_index] = model.predict_proba(X_scaled[test_index])[:, 1]\n",
    "estimated_mean, estimated_std = bootstrap_roc_auc(1000, y, preds)\n",
    "print(estimated_mean, estimated_std)"
   ]
  },
  {
   "cell_type": "code",
   "execution_count": 50,
   "metadata": {},
   "outputs": [
    {
     "name": "stderr",
     "output_type": "stream",
     "text": [
      "116it [02:05,  1.08s/it]\n"
     ]
    },
    {
     "name": "stdout",
     "output_type": "stream",
     "text": [
      "0.7522408883091427 0.04944344967156948\n"
     ]
    }
   ],
   "source": [
    "X, y = (df['fv_1p0_connected'].to_numpy().reshape(-1, 1), df['is_good'].astype(int).to_numpy())\n",
    "scaler = StandardScaler()\n",
    "X_scaled = scaler.fit_transform(X)\n",
    "\n",
    "loo = LeaveOneOut()\n",
    "loo.get_n_splits(X_scaled)\n",
    "preds = np.zeros(len(y))\n",
    "for i, (train_index, test_index) in enumerate(tqdm(loo.split(X))):\n",
    "    model = CatBoostClassifier(eval_metric='AUC', verbose = False, random_state = 42)\n",
    "    model.fit(X_scaled[train_index, :], y[train_index])\n",
    "    preds[test_index] = model.predict_proba(X_scaled[test_index])[:, 1]\n",
    "estimated_mean, estimated_std = bootstrap_roc_auc(1000, y, preds)\n",
    "print(estimated_mean, estimated_std)"
   ]
  },
  {
   "cell_type": "code",
   "execution_count": 51,
   "metadata": {},
   "outputs": [
    {
     "name": "stderr",
     "output_type": "stream",
     "text": [
      "116it [02:05,  1.08s/it]\n"
     ]
    },
    {
     "name": "stdout",
     "output_type": "stream",
     "text": [
      "0.767612822912814 0.04493416211182906\n"
     ]
    }
   ],
   "source": [
    "X, y = (df['fv_2p0_connected'].to_numpy().reshape(-1, 1), df['is_good'].astype(int).to_numpy())\n",
    "scaler = StandardScaler()\n",
    "X_scaled = scaler.fit_transform(X)\n",
    "\n",
    "loo = LeaveOneOut()\n",
    "loo.get_n_splits(X_scaled)\n",
    "preds = np.zeros(len(y))\n",
    "for i, (train_index, test_index) in enumerate(tqdm(loo.split(X))):\n",
    "    model = CatBoostClassifier(eval_metric='AUC', verbose = False, random_state = 42)\n",
    "    model.fit(X_scaled[train_index, :], y[train_index])\n",
    "    preds[test_index] = model.predict_proba(X_scaled[test_index])[:, 1]\n",
    "estimated_mean, estimated_std = bootstrap_roc_auc(1000, y, preds)\n",
    "print(estimated_mean, estimated_std)"
   ]
  },
  {
   "cell_type": "code",
   "execution_count": 52,
   "metadata": {},
   "outputs": [
    {
     "name": "stderr",
     "output_type": "stream",
     "text": [
      "116it [02:05,  1.09s/it]\n"
     ]
    },
    {
     "name": "stdout",
     "output_type": "stream",
     "text": [
      "0.7505651982254903 0.04534117335416335\n"
     ]
    }
   ],
   "source": [
    "X, y = (df['fv_3p0_connected'].to_numpy().reshape(-1, 1), df['is_good'].astype(int).to_numpy())\n",
    "scaler = StandardScaler()\n",
    "X_scaled = scaler.fit_transform(X)\n",
    "\n",
    "loo = LeaveOneOut()\n",
    "loo.get_n_splits(X_scaled)\n",
    "preds = np.zeros(len(y))\n",
    "for i, (train_index, test_index) in enumerate(tqdm(loo.split(X))):\n",
    "    model = CatBoostClassifier(eval_metric='AUC', verbose = False, random_state = 42)\n",
    "    model.fit(X_scaled[train_index, :], y[train_index])\n",
    "    preds[test_index] = model.predict_proba(X_scaled[test_index])[:, 1]\n",
    "estimated_mean, estimated_std = bootstrap_roc_auc(1000, y, preds)\n",
    "print(estimated_mean, estimated_std)"
   ]
  },
  {
   "cell_type": "code",
   "execution_count": 53,
   "metadata": {},
   "outputs": [
    {
     "name": "stderr",
     "output_type": "stream",
     "text": [
      "116it [02:05,  1.09s/it]\n"
     ]
    },
    {
     "name": "stdout",
     "output_type": "stream",
     "text": [
      "0.7438843816103258 0.046370987380953126\n"
     ]
    }
   ],
   "source": [
    "X, y = (df['fv_4p0_connected'].to_numpy().reshape(-1, 1), df['is_good'].astype(int).to_numpy())\n",
    "scaler = StandardScaler()\n",
    "X_scaled = scaler.fit_transform(X)\n",
    "\n",
    "loo = LeaveOneOut()\n",
    "loo.get_n_splits(X_scaled)\n",
    "preds = np.zeros(len(y))\n",
    "for i, (train_index, test_index) in enumerate(tqdm(loo.split(X))):\n",
    "    model = CatBoostClassifier(eval_metric='AUC', verbose = False, random_state = 42)\n",
    "    model.fit(X_scaled[train_index, :], y[train_index])\n",
    "    preds[test_index] = model.predict_proba(X_scaled[test_index])[:, 1]\n",
    "estimated_mean, estimated_std = bootstrap_roc_auc(1000, y, preds)\n",
    "print(estimated_mean, estimated_std)"
   ]
  },
  {
   "cell_type": "code",
   "execution_count": 38,
   "metadata": {},
   "outputs": [
    {
     "name": "stderr",
     "output_type": "stream",
     "text": [
      "116it [02:23,  1.24s/it]\n"
     ]
    },
    {
     "name": "stdout",
     "output_type": "stream",
     "text": [
      "0.7879612569819576 0.04237337365066213\n"
     ]
    }
   ],
   "source": [
    "X, y = df[[\n",
    "'fv_1p0_disconnected',\n",
    "'fv_1p0_connected',\n",
    "'fv_2p0_disconnected',\n",
    "'fv_2p0_connected',\n",
    "'fv_3p0_disconnected',\n",
    "'fv_3p0_connected',\n",
    "'fv_4p0_disconnected',\n",
    "'fv_4p0_connected',\n",
    "'barrier']].to_numpy(), df['is_good'].astype(int).to_numpy()\n",
    "scaler = StandardScaler()\n",
    "X_scaled = scaler.fit_transform(X)\n",
    "\n",
    "loo = LeaveOneOut()\n",
    "loo.get_n_splits(X_scaled)\n",
    "preds = np.zeros(len(y))\n",
    "for i, (train_index, test_index) in enumerate(tqdm(loo.split(X))):\n",
    "    model = CatBoostClassifier(eval_metric='AUC', verbose = False, random_state = 42)\n",
    "    model.fit(X_scaled[train_index, :], y[train_index])\n",
    "    preds[test_index] = model.predict_proba(X_scaled[test_index])[:, 1]\n",
    "estimated_mean, estimated_std = bootstrap_roc_auc(1000, y, preds)\n",
    "print(estimated_mean, estimated_std)"
   ]
  },
  {
   "cell_type": "code",
   "execution_count": 6,
   "metadata": {},
   "outputs": [],
   "source": [
    "df = pd.read_csv('fv.v2.Kahle2020.csv')\n",
    "groups = load_csv(f\"groups_and_oxi_states_5_frames/df_features_step_0.pkl\")\n",
    "\n",
    "df = df[df['temperature'] == 1000][['fv_0.100', 'fv_0.200', 'fv_0.300',\n",
    "       'fv_0.400', 'fv_0.500', 'fv_0.600', 'fv_0.700', 'fv_0.800', 'fv_0.900',\n",
    "       'fv_1.000', 'fv_1.100', 'fv_1.200', 'fv_1.300', 'fv_1.400', 'fv_1.500', 'label',\n",
    "       'src_id']]\n",
    "       \n",
    "df = df.merge(groups, left_on=['src_id'], right_on=['stru_id'])\n",
    "df = df.drop(['src_id'], axis = 1)\n",
    "df.drop_duplicates(subset=['stru_id', 'stru_label'], keep='first', inplace=True, ignore_index=False)"
   ]
  },
  {
   "cell_type": "code",
   "execution_count": 8,
   "metadata": {},
   "outputs": [
    {
     "name": "stderr",
     "output_type": "stream",
     "text": [
      "0it [00:00, ?it/s]"
     ]
    },
    {
     "name": "stderr",
     "output_type": "stream",
     "text": [
      "116it [02:02,  1.06s/it]\n"
     ]
    },
    {
     "name": "stdout",
     "output_type": "stream",
     "text": [
      "0.5596898615535912 0.058004675384938406\n"
     ]
    }
   ],
   "source": [
    "X, y = (df['fv_0.100'].to_numpy().reshape(-1, 1), df['is_good'].astype(int).to_numpy())\n",
    "scaler = StandardScaler()\n",
    "X_scaled = scaler.fit_transform(X)\n",
    "\n",
    "loo = LeaveOneOut()\n",
    "loo.get_n_splits(X_scaled)\n",
    "preds = np.zeros(len(y))\n",
    "for i, (train_index, test_index) in enumerate(tqdm(loo.split(X))):\n",
    "    model = CatBoostClassifier(eval_metric='AUC', verbose = False, random_state = 42)\n",
    "    model.fit(X_scaled[train_index, :], y[train_index])\n",
    "    preds[test_index] = model.predict_proba(X_scaled[test_index])[:, 1]\n",
    "estimated_mean, estimated_std = bootstrap_roc_auc(1000, y, preds)\n",
    "print(estimated_mean, estimated_std)"
   ]
  },
  {
   "cell_type": "code",
   "execution_count": 9,
   "metadata": {},
   "outputs": [
    {
     "name": "stderr",
     "output_type": "stream",
     "text": [
      "116it [02:03,  1.06s/it]\n"
     ]
    },
    {
     "name": "stdout",
     "output_type": "stream",
     "text": [
      "0.5218228425477452 0.0620034693452312\n"
     ]
    }
   ],
   "source": [
    "X, y = (df['fv_0.200'].to_numpy().reshape(-1, 1), df['is_good'].astype(int).to_numpy())\n",
    "scaler = StandardScaler()\n",
    "X_scaled = scaler.fit_transform(X)\n",
    "\n",
    "loo = LeaveOneOut()\n",
    "loo.get_n_splits(X_scaled)\n",
    "preds = np.zeros(len(y))\n",
    "for i, (train_index, test_index) in enumerate(tqdm(loo.split(X))):\n",
    "    model = CatBoostClassifier(eval_metric='AUC', verbose = False, random_state = 42)\n",
    "    model.fit(X_scaled[train_index, :], y[train_index])\n",
    "    preds[test_index] = model.predict_proba(X_scaled[test_index])[:, 1]\n",
    "estimated_mean, estimated_std = bootstrap_roc_auc(1000, y, preds)\n",
    "print(estimated_mean, estimated_std)"
   ]
  },
  {
   "cell_type": "code",
   "execution_count": 10,
   "metadata": {},
   "outputs": [
    {
     "name": "stderr",
     "output_type": "stream",
     "text": [
      "116it [02:03,  1.06s/it]\n"
     ]
    },
    {
     "name": "stdout",
     "output_type": "stream",
     "text": [
      "0.6317402529973404 0.059921677078567534\n"
     ]
    }
   ],
   "source": [
    "X, y = (df['fv_0.300'].to_numpy().reshape(-1, 1), df['is_good'].astype(int).to_numpy())\n",
    "scaler = StandardScaler()\n",
    "X_scaled = scaler.fit_transform(X)\n",
    "\n",
    "loo = LeaveOneOut()\n",
    "loo.get_n_splits(X_scaled)\n",
    "preds = np.zeros(len(y))\n",
    "for i, (train_index, test_index) in enumerate(tqdm(loo.split(X))):\n",
    "    model = CatBoostClassifier(eval_metric='AUC', verbose = False, random_state = 42)\n",
    "    model.fit(X_scaled[train_index, :], y[train_index])\n",
    "    preds[test_index] = model.predict_proba(X_scaled[test_index])[:, 1]\n",
    "estimated_mean, estimated_std = bootstrap_roc_auc(1000, y, preds)\n",
    "print(estimated_mean, estimated_std)"
   ]
  },
  {
   "cell_type": "code",
   "execution_count": 11,
   "metadata": {},
   "outputs": [
    {
     "name": "stderr",
     "output_type": "stream",
     "text": [
      "116it [02:02,  1.06s/it]\n"
     ]
    },
    {
     "name": "stdout",
     "output_type": "stream",
     "text": [
      "0.7070403301304498 0.05204598638779097\n"
     ]
    }
   ],
   "source": [
    "X, y = (df['fv_0.400'].to_numpy().reshape(-1, 1), df['is_good'].astype(int).to_numpy())\n",
    "scaler = StandardScaler()\n",
    "X_scaled = scaler.fit_transform(X)\n",
    "\n",
    "loo = LeaveOneOut()\n",
    "loo.get_n_splits(X_scaled)\n",
    "preds = np.zeros(len(y))\n",
    "for i, (train_index, test_index) in enumerate(tqdm(loo.split(X))):\n",
    "    model = CatBoostClassifier(eval_metric='AUC', verbose = False, random_state = 42)\n",
    "    model.fit(X_scaled[train_index, :], y[train_index])\n",
    "    preds[test_index] = model.predict_proba(X_scaled[test_index])[:, 1]\n",
    "estimated_mean, estimated_std = bootstrap_roc_auc(1000, y, preds)\n",
    "print(estimated_mean, estimated_std)"
   ]
  },
  {
   "cell_type": "code",
   "execution_count": 11,
   "metadata": {},
   "outputs": [
    {
     "name": "stderr",
     "output_type": "stream",
     "text": [
      "116it [03:13,  1.67s/it]\n"
     ]
    },
    {
     "name": "stdout",
     "output_type": "stream",
     "text": [
      "0.752189124659244 0.04908134246712006\n"
     ]
    }
   ],
   "source": [
    "X, y = (df['fv_0.500'].to_numpy().reshape(-1, 1), df['is_good'].astype(int).to_numpy())\n",
    "scaler = StandardScaler()\n",
    "X_scaled = scaler.fit_transform(X)\n",
    "\n",
    "loo = LeaveOneOut()\n",
    "loo.get_n_splits(X_scaled)\n",
    "preds = np.zeros(len(y))\n",
    "for i, (train_index, test_index) in enumerate(tqdm(loo.split(X))):\n",
    "    model = CatBoostClassifier(eval_metric='AUC', verbose = False, random_state = 42)\n",
    "    model.fit(X_scaled[train_index, :], y[train_index])\n",
    "    preds[test_index] = model.predict_proba(X_scaled[test_index])[:, 1]\n",
    "estimated_mean, estimated_std = bootstrap_roc_auc(1000, y, preds)\n",
    "print(estimated_mean, estimated_std)"
   ]
  },
  {
   "cell_type": "code",
   "execution_count": 10,
   "metadata": {},
   "outputs": [
    {
     "name": "stderr",
     "output_type": "stream",
     "text": [
      "116it [03:14,  1.68s/it]\n"
     ]
    },
    {
     "name": "stdout",
     "output_type": "stream",
     "text": [
      "0.7419905693054731 0.05026561982689851\n"
     ]
    }
   ],
   "source": [
    "X, y = (df['fv_0.600'].to_numpy().reshape(-1, 1), df['is_good'].astype(int).to_numpy())\n",
    "scaler = StandardScaler()\n",
    "X_scaled = scaler.fit_transform(X)\n",
    "\n",
    "loo = LeaveOneOut()\n",
    "loo.get_n_splits(X_scaled)\n",
    "preds = np.zeros(len(y))\n",
    "for i, (train_index, test_index) in enumerate(tqdm(loo.split(X))):\n",
    "    model = CatBoostClassifier(eval_metric='AUC', verbose = False, random_state = 42)\n",
    "    model.fit(X_scaled[train_index, :], y[train_index])\n",
    "    preds[test_index] = model.predict_proba(X_scaled[test_index])[:, 1]\n",
    "estimated_mean, estimated_std = bootstrap_roc_auc(1000, y, preds)\n",
    "print(estimated_mean, estimated_std)"
   ]
  },
  {
   "cell_type": "code",
   "execution_count": 12,
   "metadata": {},
   "outputs": [
    {
     "name": "stderr",
     "output_type": "stream",
     "text": [
      "116it [03:13,  1.67s/it]\n"
     ]
    },
    {
     "name": "stdout",
     "output_type": "stream",
     "text": [
      "0.6984949559331919 0.05637629711409953\n"
     ]
    }
   ],
   "source": [
    "X, y = (df['fv_0.700'].to_numpy().reshape(-1, 1), df['is_good'].astype(int).to_numpy())\n",
    "scaler = StandardScaler()\n",
    "X_scaled = scaler.fit_transform(X)\n",
    "\n",
    "loo = LeaveOneOut()\n",
    "loo.get_n_splits(X_scaled)\n",
    "preds = np.zeros(len(y))\n",
    "for i, (train_index, test_index) in enumerate(tqdm(loo.split(X))):\n",
    "    model = CatBoostClassifier(eval_metric='AUC', verbose = False, random_state = 42)\n",
    "    model.fit(X_scaled[train_index, :], y[train_index])\n",
    "    preds[test_index] = model.predict_proba(X_scaled[test_index])[:, 1]\n",
    "estimated_mean, estimated_std = bootstrap_roc_auc(1000, y, preds)\n",
    "print(estimated_mean, estimated_std)"
   ]
  },
  {
   "cell_type": "code",
   "execution_count": 4,
   "metadata": {},
   "outputs": [
    {
     "name": "stderr",
     "output_type": "stream",
     "text": [
      "0it [00:00, ?it/s]"
     ]
    },
    {
     "name": "stderr",
     "output_type": "stream",
     "text": [
      "116it [03:15,  1.69s/it]\n"
     ]
    },
    {
     "name": "stdout",
     "output_type": "stream",
     "text": [
      "0.7642219586284149 0.049213865581426285\n"
     ]
    }
   ],
   "source": [
    "X, y = (df['fv_0.800'].to_numpy().reshape(-1, 1), df['is_good'].astype(int).to_numpy())\n",
    "scaler = StandardScaler()\n",
    "X_scaled = scaler.fit_transform(X)\n",
    "\n",
    "loo = LeaveOneOut()\n",
    "loo.get_n_splits(X_scaled)\n",
    "preds = np.zeros(len(y))\n",
    "for i, (train_index, test_index) in enumerate(tqdm(loo.split(X))):\n",
    "    model = CatBoostClassifier(eval_metric='AUC', verbose = False, random_state = 42)\n",
    "    model.fit(X_scaled[train_index, :], y[train_index])\n",
    "    preds[test_index] = model.predict_proba(X_scaled[test_index])[:, 1]\n",
    "estimated_mean, estimated_std = bootstrap_roc_auc(1000, y, preds)\n",
    "print(estimated_mean, estimated_std)"
   ]
  },
  {
   "cell_type": "code",
   "execution_count": 6,
   "metadata": {},
   "outputs": [
    {
     "name": "stderr",
     "output_type": "stream",
     "text": [
      "116it [03:15,  1.68s/it]\n"
     ]
    },
    {
     "name": "stdout",
     "output_type": "stream",
     "text": [
      "0.737869102511661 0.049458450130512026\n"
     ]
    }
   ],
   "source": [
    "X, y = (df['fv_0.900'].to_numpy().reshape(-1, 1), df['is_good'].astype(int).to_numpy())\n",
    "scaler = StandardScaler()\n",
    "X_scaled = scaler.fit_transform(X)\n",
    "\n",
    "loo = LeaveOneOut()\n",
    "loo.get_n_splits(X_scaled)\n",
    "preds = np.zeros(len(y))\n",
    "for i, (train_index, test_index) in enumerate(tqdm(loo.split(X))):\n",
    "    model = CatBoostClassifier(eval_metric='AUC', verbose = False, random_state = 42)\n",
    "    model.fit(X_scaled[train_index, :], y[train_index])\n",
    "    preds[test_index] = model.predict_proba(X_scaled[test_index])[:, 1]\n",
    "estimated_mean, estimated_std = bootstrap_roc_auc(1000, y, preds)\n",
    "print(estimated_mean, estimated_std)"
   ]
  },
  {
   "cell_type": "code",
   "execution_count": 9,
   "metadata": {},
   "outputs": [
    {
     "name": "stderr",
     "output_type": "stream",
     "text": [
      "116it [03:15,  1.69s/it]\n"
     ]
    },
    {
     "name": "stdout",
     "output_type": "stream",
     "text": [
      "0.7553159328832637 0.045400948797324626\n"
     ]
    }
   ],
   "source": [
    "X, y = (df['fv_1.000'].to_numpy().reshape(-1, 1), df['is_good'].astype(int).to_numpy())\n",
    "scaler = StandardScaler()\n",
    "X_scaled = scaler.fit_transform(X)\n",
    "\n",
    "loo = LeaveOneOut()\n",
    "loo.get_n_splits(X_scaled)\n",
    "preds = np.zeros(len(y))\n",
    "for i, (train_index, test_index) in enumerate(tqdm(loo.split(X))):\n",
    "    model = CatBoostClassifier(eval_metric='AUC', verbose = False, random_state = 42)\n",
    "    model.fit(X_scaled[train_index, :], y[train_index])\n",
    "    preds[test_index] = model.predict_proba(X_scaled[test_index])[:, 1]\n",
    "estimated_mean, estimated_std = bootstrap_roc_auc(1000, y, preds)\n",
    "print(estimated_mean, estimated_std)"
   ]
  },
  {
   "cell_type": "code",
   "execution_count": 12,
   "metadata": {},
   "outputs": [
    {
     "name": "stderr",
     "output_type": "stream",
     "text": [
      "0it [00:00, ?it/s]"
     ]
    },
    {
     "name": "stderr",
     "output_type": "stream",
     "text": [
      "116it [04:27,  2.31s/it]\n"
     ]
    },
    {
     "name": "stdout",
     "output_type": "stream",
     "text": [
      "0.7622982505051781 0.048081744242703124\n"
     ]
    }
   ],
   "source": [
    "X, y = (df[['fv_0.100', 'fv_0.200', 'fv_0.300', 'fv_0.400', 'fv_0.500', 'fv_0.600', 'fv_0.700', 'fv_0.800', 'fv_0.900', 'fv_1.000']].to_numpy(),\n",
    "         df['is_good'].astype(int).to_numpy())\n",
    "scaler = StandardScaler()\n",
    "X_scaled = scaler.fit_transform(X)\n",
    "\n",
    "loo = LeaveOneOut()\n",
    "loo.get_n_splits(X_scaled)\n",
    "preds = np.zeros(len(y))\n",
    "for i, (train_index, test_index) in enumerate(tqdm(loo.split(X))):\n",
    "    model = CatBoostClassifier(eval_metric='AUC', verbose = False, random_state = 42)\n",
    "    model.fit(X_scaled[train_index, :], y[train_index])\n",
    "    preds[test_index] = model.predict_proba(X_scaled[test_index])[:, 1]\n",
    "estimated_mean, estimated_std = bootstrap_roc_auc(1000, y, preds)\n",
    "print(estimated_mean, estimated_std)"
   ]
  },
  {
   "cell_type": "code",
   "execution_count": 29,
   "metadata": {},
   "outputs": [
    {
     "data": {
      "text/html": [
       "<div>\n",
       "<style scoped>\n",
       "    .dataframe tbody tr th:only-of-type {\n",
       "        vertical-align: middle;\n",
       "    }\n",
       "\n",
       "    .dataframe tbody tr th {\n",
       "        vertical-align: top;\n",
       "    }\n",
       "\n",
       "    .dataframe thead th {\n",
       "        text-align: right;\n",
       "    }\n",
       "</style>\n",
       "<table border=\"1\" class=\"dataframe\">\n",
       "  <thead>\n",
       "    <tr style=\"text-align: right;\">\n",
       "      <th></th>\n",
       "      <th>starting_structure</th>\n",
       "      <th>temperature</th>\n",
       "      <th>diffusion_mean_cm2_s</th>\n",
       "      <th>diffusion_std_cm2_s</th>\n",
       "      <th>diffusion_sem_cm2_s</th>\n",
       "      <th>label</th>\n",
       "      <th>src_database</th>\n",
       "      <th>src_id</th>\n",
       "      <th>first_frame_structure</th>\n",
       "      <th>fv_0.100</th>\n",
       "      <th>...</th>\n",
       "      <th>fv_0.600</th>\n",
       "      <th>fv_0.700</th>\n",
       "      <th>fv_0.800</th>\n",
       "      <th>fv_0.900</th>\n",
       "      <th>fv_1.000</th>\n",
       "      <th>fv_1.100</th>\n",
       "      <th>fv_1.200</th>\n",
       "      <th>fv_1.300</th>\n",
       "      <th>fv_1.400</th>\n",
       "      <th>fv_1.500</th>\n",
       "    </tr>\n",
       "  </thead>\n",
       "  <tbody>\n",
       "    <tr>\n",
       "      <th>0</th>\n",
       "      <td>{\"@module\": \"pymatgen.core.structure\", \"@class...</td>\n",
       "      <td>1000.0</td>\n",
       "      <td>1.473662e-09</td>\n",
       "      <td>6.356495e-09</td>\n",
       "      <td>3.669924e-09</td>\n",
       "      <td>Li24Al8N16</td>\n",
       "      <td>Crystallography Open Database</td>\n",
       "      <td>1537475</td>\n",
       "      <td>{\"@module\": \"pymatgen.core.structure\", \"@class...</td>\n",
       "      <td>0.000279</td>\n",
       "      <td>...</td>\n",
       "      <td>0.003411</td>\n",
       "      <td>0.004289</td>\n",
       "      <td>0.005167</td>\n",
       "      <td>0.006164</td>\n",
       "      <td>0.007222</td>\n",
       "      <td>0.008319</td>\n",
       "      <td>0.009436</td>\n",
       "      <td>0.010693</td>\n",
       "      <td>0.011850</td>\n",
       "      <td>0.013167</td>\n",
       "    </tr>\n",
       "    <tr>\n",
       "      <th>1</th>\n",
       "      <td>{\"@module\": \"pymatgen.core.structure\", \"@class...</td>\n",
       "      <td>1000.0</td>\n",
       "      <td>1.104319e-09</td>\n",
       "      <td>1.087360e-08</td>\n",
       "      <td>6.277877e-09</td>\n",
       "      <td>Li12W2N8</td>\n",
       "      <td>Icsd</td>\n",
       "      <td>153620</td>\n",
       "      <td>{\"@module\": \"pymatgen.core.structure\", \"@class...</td>\n",
       "      <td>0.000685</td>\n",
       "      <td>...</td>\n",
       "      <td>0.007474</td>\n",
       "      <td>0.009200</td>\n",
       "      <td>0.011457</td>\n",
       "      <td>0.013417</td>\n",
       "      <td>0.015400</td>\n",
       "      <td>0.017827</td>\n",
       "      <td>0.020093</td>\n",
       "      <td>0.023011</td>\n",
       "      <td>0.025559</td>\n",
       "      <td>0.028228</td>\n",
       "    </tr>\n",
       "    <tr>\n",
       "      <th>2</th>\n",
       "      <td>{\"@module\": \"pymatgen.core.structure\", \"@class...</td>\n",
       "      <td>1000.0</td>\n",
       "      <td>5.288627e-05</td>\n",
       "      <td>1.527943e-05</td>\n",
       "      <td>5.093144e-06</td>\n",
       "      <td>CsLi2I3</td>\n",
       "      <td>Icsd</td>\n",
       "      <td>245988</td>\n",
       "      <td>{\"@module\": \"pymatgen.core.structure\", \"@class...</td>\n",
       "      <td>0.000465</td>\n",
       "      <td>...</td>\n",
       "      <td>0.036552</td>\n",
       "      <td>0.036552</td>\n",
       "      <td>0.036552</td>\n",
       "      <td>0.036552</td>\n",
       "      <td>0.036552</td>\n",
       "      <td>0.036552</td>\n",
       "      <td>0.036552</td>\n",
       "      <td>0.036552</td>\n",
       "      <td>0.036552</td>\n",
       "      <td>0.036552</td>\n",
       "    </tr>\n",
       "    <tr>\n",
       "      <th>3</th>\n",
       "      <td>{\"@module\": \"pymatgen.core.structure\", \"@class...</td>\n",
       "      <td>1000.0</td>\n",
       "      <td>-3.460732e-08</td>\n",
       "      <td>5.281177e-10</td>\n",
       "      <td>5.281177e-10</td>\n",
       "      <td>Li12Mo6O24</td>\n",
       "      <td>Crystallography Open Database</td>\n",
       "      <td>7024042</td>\n",
       "      <td>{\"@module\": \"pymatgen.core.structure\", \"@class...</td>\n",
       "      <td>0.000370</td>\n",
       "      <td>...</td>\n",
       "      <td>0.006247</td>\n",
       "      <td>0.008761</td>\n",
       "      <td>0.011244</td>\n",
       "      <td>0.014390</td>\n",
       "      <td>0.018616</td>\n",
       "      <td>0.023505</td>\n",
       "      <td>0.029012</td>\n",
       "      <td>0.035443</td>\n",
       "      <td>0.043343</td>\n",
       "      <td>0.058273</td>\n",
       "    </tr>\n",
       "    <tr>\n",
       "      <th>4</th>\n",
       "      <td>{\"@module\": \"pymatgen.core.structure\", \"@class...</td>\n",
       "      <td>1000.0</td>\n",
       "      <td>-4.483907e-08</td>\n",
       "      <td>1.086627e-07</td>\n",
       "      <td>6.273645e-08</td>\n",
       "      <td>Li4B4O8</td>\n",
       "      <td>Crystallography Open Database</td>\n",
       "      <td>2310701</td>\n",
       "      <td>{\"@module\": \"pymatgen.core.structure\", \"@class...</td>\n",
       "      <td>0.000251</td>\n",
       "      <td>...</td>\n",
       "      <td>0.002844</td>\n",
       "      <td>0.003722</td>\n",
       "      <td>0.004705</td>\n",
       "      <td>0.005583</td>\n",
       "      <td>0.007172</td>\n",
       "      <td>0.008218</td>\n",
       "      <td>0.009703</td>\n",
       "      <td>0.011083</td>\n",
       "      <td>0.012567</td>\n",
       "      <td>0.014575</td>\n",
       "    </tr>\n",
       "    <tr>\n",
       "      <th>...</th>\n",
       "      <td>...</td>\n",
       "      <td>...</td>\n",
       "      <td>...</td>\n",
       "      <td>...</td>\n",
       "      <td>...</td>\n",
       "      <td>...</td>\n",
       "      <td>...</td>\n",
       "      <td>...</td>\n",
       "      <td>...</td>\n",
       "      <td>...</td>\n",
       "      <td>...</td>\n",
       "      <td>...</td>\n",
       "      <td>...</td>\n",
       "      <td>...</td>\n",
       "      <td>...</td>\n",
       "      <td>...</td>\n",
       "      <td>...</td>\n",
       "      <td>...</td>\n",
       "      <td>...</td>\n",
       "      <td>...</td>\n",
       "      <td>...</td>\n",
       "    </tr>\n",
       "    <tr>\n",
       "      <th>189</th>\n",
       "      <td>{\"@module\": \"pymatgen.core.structure\", \"@class...</td>\n",
       "      <td>1000.0</td>\n",
       "      <td>2.123316e-06</td>\n",
       "      <td>2.976810e-06</td>\n",
       "      <td>2.104923e-06</td>\n",
       "      <td>Li4Au4F16</td>\n",
       "      <td>Icsd</td>\n",
       "      <td>33953</td>\n",
       "      <td>{\"@module\": \"pymatgen.core.structure\", \"@class...</td>\n",
       "      <td>0.000184</td>\n",
       "      <td>...</td>\n",
       "      <td>0.001679</td>\n",
       "      <td>0.002210</td>\n",
       "      <td>0.003006</td>\n",
       "      <td>0.004399</td>\n",
       "      <td>0.006349</td>\n",
       "      <td>0.020154</td>\n",
       "      <td>0.020154</td>\n",
       "      <td>0.020154</td>\n",
       "      <td>0.020154</td>\n",
       "      <td>0.020154</td>\n",
       "    </tr>\n",
       "    <tr>\n",
       "      <th>190</th>\n",
       "      <td>{\"@module\": \"pymatgen.core.structure\", \"@class...</td>\n",
       "      <td>1000.0</td>\n",
       "      <td>4.276523e-05</td>\n",
       "      <td>2.680433e-05</td>\n",
       "      <td>9.476761e-06</td>\n",
       "      <td>Li4B4S10</td>\n",
       "      <td>Crystallography Open Database</td>\n",
       "      <td>1510745</td>\n",
       "      <td>{\"@module\": \"pymatgen.core.structure\", \"@class...</td>\n",
       "      <td>0.001194</td>\n",
       "      <td>...</td>\n",
       "      <td>0.050900</td>\n",
       "      <td>0.050900</td>\n",
       "      <td>0.050900</td>\n",
       "      <td>0.050900</td>\n",
       "      <td>0.050900</td>\n",
       "      <td>0.050900</td>\n",
       "      <td>0.050900</td>\n",
       "      <td>0.050900</td>\n",
       "      <td>0.050900</td>\n",
       "      <td>0.050900</td>\n",
       "    </tr>\n",
       "    <tr>\n",
       "      <th>194</th>\n",
       "      <td>{\"@module\": \"pymatgen.core.structure\", \"@class...</td>\n",
       "      <td>1000.0</td>\n",
       "      <td>5.063438e-06</td>\n",
       "      <td>2.170110e-06</td>\n",
       "      <td>1.534500e-06</td>\n",
       "      <td>Li4I4O16</td>\n",
       "      <td>Crystallography Open Database</td>\n",
       "      <td>1536985</td>\n",
       "      <td>{\"@module\": \"pymatgen.core.structure\", \"@class...</td>\n",
       "      <td>0.000332</td>\n",
       "      <td>...</td>\n",
       "      <td>0.005947</td>\n",
       "      <td>0.007924</td>\n",
       "      <td>0.010246</td>\n",
       "      <td>0.013153</td>\n",
       "      <td>0.035439</td>\n",
       "      <td>0.035439</td>\n",
       "      <td>0.035439</td>\n",
       "      <td>0.035439</td>\n",
       "      <td>0.035439</td>\n",
       "      <td>0.035439</td>\n",
       "    </tr>\n",
       "    <tr>\n",
       "      <th>196</th>\n",
       "      <td>{\"@module\": \"pymatgen.core.structure\", \"@class...</td>\n",
       "      <td>1000.0</td>\n",
       "      <td>-1.138648e-07</td>\n",
       "      <td>0.000000e+00</td>\n",
       "      <td>NaN</td>\n",
       "      <td>Na4Li4B16O28</td>\n",
       "      <td>Icsd</td>\n",
       "      <td>416956</td>\n",
       "      <td>{\"@module\": \"pymatgen.core.structure\", \"@class...</td>\n",
       "      <td>0.000112</td>\n",
       "      <td>...</td>\n",
       "      <td>0.001672</td>\n",
       "      <td>0.002118</td>\n",
       "      <td>0.002590</td>\n",
       "      <td>0.003151</td>\n",
       "      <td>0.003709</td>\n",
       "      <td>0.004339</td>\n",
       "      <td>0.005038</td>\n",
       "      <td>0.005752</td>\n",
       "      <td>0.006471</td>\n",
       "      <td>0.007262</td>\n",
       "    </tr>\n",
       "    <tr>\n",
       "      <th>197</th>\n",
       "      <td>{\"@module\": \"pymatgen.core.structure\", \"@class...</td>\n",
       "      <td>1000.0</td>\n",
       "      <td>6.743799e-08</td>\n",
       "      <td>1.923275e-07</td>\n",
       "      <td>8.601149e-08</td>\n",
       "      <td>Na2Li4B2P4O16</td>\n",
       "      <td>Icsd</td>\n",
       "      <td>291512</td>\n",
       "      <td>{\"@module\": \"pymatgen.core.structure\", \"@class...</td>\n",
       "      <td>0.000109</td>\n",
       "      <td>...</td>\n",
       "      <td>0.001979</td>\n",
       "      <td>0.002757</td>\n",
       "      <td>0.003518</td>\n",
       "      <td>0.004111</td>\n",
       "      <td>0.005144</td>\n",
       "      <td>0.006035</td>\n",
       "      <td>0.007232</td>\n",
       "      <td>0.008531</td>\n",
       "      <td>0.009798</td>\n",
       "      <td>0.011261</td>\n",
       "    </tr>\n",
       "  </tbody>\n",
       "</table>\n",
       "<p>122 rows × 24 columns</p>\n",
       "</div>"
      ],
      "text/plain": [
       "                                    starting_structure  temperature  \\\n",
       "0    {\"@module\": \"pymatgen.core.structure\", \"@class...       1000.0   \n",
       "1    {\"@module\": \"pymatgen.core.structure\", \"@class...       1000.0   \n",
       "2    {\"@module\": \"pymatgen.core.structure\", \"@class...       1000.0   \n",
       "3    {\"@module\": \"pymatgen.core.structure\", \"@class...       1000.0   \n",
       "4    {\"@module\": \"pymatgen.core.structure\", \"@class...       1000.0   \n",
       "..                                                 ...          ...   \n",
       "189  {\"@module\": \"pymatgen.core.structure\", \"@class...       1000.0   \n",
       "190  {\"@module\": \"pymatgen.core.structure\", \"@class...       1000.0   \n",
       "194  {\"@module\": \"pymatgen.core.structure\", \"@class...       1000.0   \n",
       "196  {\"@module\": \"pymatgen.core.structure\", \"@class...       1000.0   \n",
       "197  {\"@module\": \"pymatgen.core.structure\", \"@class...       1000.0   \n",
       "\n",
       "     diffusion_mean_cm2_s  diffusion_std_cm2_s  diffusion_sem_cm2_s  \\\n",
       "0            1.473662e-09         6.356495e-09         3.669924e-09   \n",
       "1            1.104319e-09         1.087360e-08         6.277877e-09   \n",
       "2            5.288627e-05         1.527943e-05         5.093144e-06   \n",
       "3           -3.460732e-08         5.281177e-10         5.281177e-10   \n",
       "4           -4.483907e-08         1.086627e-07         6.273645e-08   \n",
       "..                    ...                  ...                  ...   \n",
       "189          2.123316e-06         2.976810e-06         2.104923e-06   \n",
       "190          4.276523e-05         2.680433e-05         9.476761e-06   \n",
       "194          5.063438e-06         2.170110e-06         1.534500e-06   \n",
       "196         -1.138648e-07         0.000000e+00                  NaN   \n",
       "197          6.743799e-08         1.923275e-07         8.601149e-08   \n",
       "\n",
       "             label                   src_database   src_id  \\\n",
       "0       Li24Al8N16  Crystallography Open Database  1537475   \n",
       "1         Li12W2N8                           Icsd   153620   \n",
       "2          CsLi2I3                           Icsd   245988   \n",
       "3       Li12Mo6O24  Crystallography Open Database  7024042   \n",
       "4          Li4B4O8  Crystallography Open Database  2310701   \n",
       "..             ...                            ...      ...   \n",
       "189      Li4Au4F16                           Icsd    33953   \n",
       "190       Li4B4S10  Crystallography Open Database  1510745   \n",
       "194       Li4I4O16  Crystallography Open Database  1536985   \n",
       "196   Na4Li4B16O28                           Icsd   416956   \n",
       "197  Na2Li4B2P4O16                           Icsd   291512   \n",
       "\n",
       "                                 first_frame_structure  fv_0.100  ...  \\\n",
       "0    {\"@module\": \"pymatgen.core.structure\", \"@class...  0.000279  ...   \n",
       "1    {\"@module\": \"pymatgen.core.structure\", \"@class...  0.000685  ...   \n",
       "2    {\"@module\": \"pymatgen.core.structure\", \"@class...  0.000465  ...   \n",
       "3    {\"@module\": \"pymatgen.core.structure\", \"@class...  0.000370  ...   \n",
       "4    {\"@module\": \"pymatgen.core.structure\", \"@class...  0.000251  ...   \n",
       "..                                                 ...       ...  ...   \n",
       "189  {\"@module\": \"pymatgen.core.structure\", \"@class...  0.000184  ...   \n",
       "190  {\"@module\": \"pymatgen.core.structure\", \"@class...  0.001194  ...   \n",
       "194  {\"@module\": \"pymatgen.core.structure\", \"@class...  0.000332  ...   \n",
       "196  {\"@module\": \"pymatgen.core.structure\", \"@class...  0.000112  ...   \n",
       "197  {\"@module\": \"pymatgen.core.structure\", \"@class...  0.000109  ...   \n",
       "\n",
       "     fv_0.600  fv_0.700  fv_0.800  fv_0.900  fv_1.000  fv_1.100  fv_1.200  \\\n",
       "0    0.003411  0.004289  0.005167  0.006164  0.007222  0.008319  0.009436   \n",
       "1    0.007474  0.009200  0.011457  0.013417  0.015400  0.017827  0.020093   \n",
       "2    0.036552  0.036552  0.036552  0.036552  0.036552  0.036552  0.036552   \n",
       "3    0.006247  0.008761  0.011244  0.014390  0.018616  0.023505  0.029012   \n",
       "4    0.002844  0.003722  0.004705  0.005583  0.007172  0.008218  0.009703   \n",
       "..        ...       ...       ...       ...       ...       ...       ...   \n",
       "189  0.001679  0.002210  0.003006  0.004399  0.006349  0.020154  0.020154   \n",
       "190  0.050900  0.050900  0.050900  0.050900  0.050900  0.050900  0.050900   \n",
       "194  0.005947  0.007924  0.010246  0.013153  0.035439  0.035439  0.035439   \n",
       "196  0.001672  0.002118  0.002590  0.003151  0.003709  0.004339  0.005038   \n",
       "197  0.001979  0.002757  0.003518  0.004111  0.005144  0.006035  0.007232   \n",
       "\n",
       "     fv_1.300  fv_1.400  fv_1.500  \n",
       "0    0.010693  0.011850  0.013167  \n",
       "1    0.023011  0.025559  0.028228  \n",
       "2    0.036552  0.036552  0.036552  \n",
       "3    0.035443  0.043343  0.058273  \n",
       "4    0.011083  0.012567  0.014575  \n",
       "..        ...       ...       ...  \n",
       "189  0.020154  0.020154  0.020154  \n",
       "190  0.050900  0.050900  0.050900  \n",
       "194  0.035439  0.035439  0.035439  \n",
       "196  0.005752  0.006471  0.007262  \n",
       "197  0.008531  0.009798  0.011261  \n",
       "\n",
       "[122 rows x 24 columns]"
      ]
     },
     "execution_count": 29,
     "metadata": {},
     "output_type": "execute_result"
    }
   ],
   "source": [
    "data = pd.read_csv('fv.v2.Kahle2020.csv')\n",
    "data = data[data['temperature'] == 1000]\n",
    "data"
   ]
  },
  {
   "cell_type": "code",
   "execution_count": 31,
   "metadata": {},
   "outputs": [],
   "source": [
    "df = pd.read_csv('exported.predictions.Kahle2020.csv')\n",
    "groups = load_csv(f\"groups_and_oxi_states_5_frames/df_features_step_0.pkl\")\n",
    "df = df.merge(groups, left_on=['src_id'], right_on=['stru_id'])\n",
    "df = df.drop(['starting_structure', 'src_database', 'src_id', 'diffusion_mean_cm2_s'], axis = 1)\n",
    "df.drop_duplicates(subset=['stru_id', 'stru_label'], keep='first', inplace=True, ignore_index=False)\n",
    "data = pd.read_csv('fv.v2.Kahle2020.csv')\n",
    "data = data[data['temperature'] == 1000]\n",
    "df = df.merge(data, left_on=['stru_id'], right_on=['src_id'])\n",
    "df = df.drop(['starting_structure', 'src_database', 'src_id', 'diffusion_mean_cm2_s'], axis = 1)\n",
    "df.drop_duplicates(subset=['stru_id', 'stru_label'], keep='first', inplace=True, ignore_index=False)"
   ]
  },
  {
   "cell_type": "code",
   "execution_count": 33,
   "metadata": {},
   "outputs": [
    {
     "name": "stderr",
     "output_type": "stream",
     "text": [
      "116it [02:40,  1.38s/it]\n"
     ]
    },
    {
     "name": "stdout",
     "output_type": "stream",
     "text": [
      "0.7956646597276438 0.04106895060287612\n"
     ]
    }
   ],
   "source": [
    "X, y = (df[['fv_0.100', \n",
    "'fv_0.200', \n",
    "'fv_0.300', \n",
    "'fv_0.400', \n",
    "'fv_0.500', \n",
    "'fv_0.600', \n",
    "'fv_0.700', \n",
    "'fv_0.800', \n",
    "'fv_0.900', \n",
    "'fv_1.000', \n",
    "'fv_1p0_disconnected',\n",
    "'fv_1p0_connected',\n",
    "'fv_1p0_WARNlowPES',\n",
    "'fv_2p0_disconnected',\n",
    "'fv_2p0_connected',\n",
    "'fv_2p0_WARNlowPES',\n",
    "'fv_3p0_disconnected',\n",
    "'fv_3p0_connected',\n",
    "'fv_3p0_WARNlowPES',\n",
    "'fv_4p0_disconnected',\n",
    "'fv_4p0_connected',\n",
    "'fv_4p0_WARNlowPES',\n",
    "'barrier']].to_numpy(),\n",
    "         df['is_good'].astype(int).to_numpy())\n",
    "scaler = StandardScaler()\n",
    "X_scaled = scaler.fit_transform(X)\n",
    "\n",
    "loo = LeaveOneOut()\n",
    "loo.get_n_splits(X_scaled)\n",
    "preds = np.zeros(len(y))\n",
    "for i, (train_index, test_index) in enumerate(tqdm(loo.split(X))):\n",
    "    model = CatBoostClassifier(eval_metric='AUC', verbose = False, random_state = 42)\n",
    "    model.fit(X_scaled[train_index, :], y[train_index])\n",
    "    preds[test_index] = model.predict_proba(X_scaled[test_index])[:, 1]\n",
    "estimated_mean, estimated_std = bootstrap_roc_auc(1000, y, preds)\n",
    "print(estimated_mean, estimated_std)"
   ]
  },
  {
   "cell_type": "code",
   "execution_count": 34,
   "metadata": {},
   "outputs": [
    {
     "name": "stderr",
     "output_type": "stream",
     "text": [
      "116it [02:40,  1.39s/it]\n"
     ]
    },
    {
     "name": "stdout",
     "output_type": "stream",
     "text": [
      "0.7958397638810861 0.04146131774987516\n"
     ]
    }
   ],
   "source": [
    "X, y = (df[['fv_0.100', \n",
    "'fv_0.200', \n",
    "'fv_0.300', \n",
    "'fv_0.400', \n",
    "'fv_0.500', \n",
    "'fv_0.600', \n",
    "'fv_0.700', \n",
    "'fv_0.800', \n",
    "'fv_0.900', \n",
    "'fv_1.000', \n",
    "'fv_1p0_disconnected',\n",
    "'fv_1p0_connected',\n",
    "'fv_2p0_disconnected',\n",
    "'fv_2p0_connected',\n",
    "'fv_3p0_disconnected',\n",
    "'fv_3p0_connected',\n",
    "'fv_4p0_disconnected',\n",
    "'fv_4p0_connected',\n",
    "'barrier']].to_numpy(),\n",
    "         df['is_good'].astype(int).to_numpy())\n",
    "scaler = StandardScaler()\n",
    "X_scaled = scaler.fit_transform(X)\n",
    "\n",
    "loo = LeaveOneOut()\n",
    "loo.get_n_splits(X_scaled)\n",
    "preds = np.zeros(len(y))\n",
    "for i, (train_index, test_index) in enumerate(tqdm(loo.split(X))):\n",
    "    model = CatBoostClassifier(eval_metric='AUC', verbose = False, random_state = 42)\n",
    "    model.fit(X_scaled[train_index, :], y[train_index])\n",
    "    preds[test_index] = model.predict_proba(X_scaled[test_index])[:, 1]\n",
    "estimated_mean, estimated_std = bootstrap_roc_auc(1000, y, preds)\n",
    "print(estimated_mean, estimated_std)"
   ]
  },
  {
   "cell_type": "code",
   "execution_count": 12,
   "metadata": {},
   "outputs": [
    {
     "name": "stderr",
     "output_type": "stream",
     "text": [
      "0it [00:00, ?it/s]"
     ]
    },
    {
     "name": "stderr",
     "output_type": "stream",
     "text": [
      "1it [02:25, 145.82s/it]"
     ]
    }
   ],
   "source": [
    "X, y = df.drop(['stru_label', 'stru_id', 'is_good'], axis = 1).to_numpy(), df['is_good'].astype(int).to_numpy()\n",
    "\n",
    "\n",
    "scaler = StandardScaler()\n",
    "X_scaled = scaler.fit_transform(X)\n",
    "\n",
    "\n",
    "loo = LeaveOneOut()\n",
    "loo.get_n_splits(X_scaled)\n",
    "preds = np.zeros(len(y))\n",
    "for i, (train_index, test_index) in enumerate(tqdm(loo.split(X))):\n",
    "    X_tr, X_te, y_tr, y_te = (X_scaled[train_index, :], X_scaled[test_index, :], y[train_index], y[test_index])\n",
    "    model = CatBoostClassifier(eval_metric='AUC', verbose = False, random_state = 42)\n",
    "    summary = model.select_features(\n",
    "                X = X_tr,\n",
    "                y=y_tr,\n",
    "                features_for_select= np.arange(len(X_tr[0])),\n",
    "                num_features_to_select=50,\n",
    "                steps=6,\n",
    "                algorithm=EFeaturesSelectionAlgorithm.RecursiveByShapValues,\n",
    "                shap_calc_type=EShapCalcType.Regular,\n",
    "                train_final_model=True,\n",
    "                logging_level='Silent',\n",
    "                plot=False)\n",
    "    preds[test_index] = model.predict_proba(X_scaled[test_index])[:, 1]\n",
    "estimated_mean, estimated_std = bootstrap_roc_auc(1000, y, preds)\n",
    "print(estimated_mean, estimated_std)\n"
   ]
  },
  {
   "cell_type": "code",
   "execution_count": 35,
   "metadata": {},
   "outputs": [],
   "source": [
    "X, y = (df['barrier'].to_numpy().reshape(-1, 1), df['is_good'].astype(int).to_numpy())\n",
    "scaler = StandardScaler()\n",
    "X_scaled = scaler.fit_transform(X)\n"
   ]
  },
  {
   "cell_type": "code",
   "execution_count": 40,
   "metadata": {},
   "outputs": [
    {
     "name": "stderr",
     "output_type": "stream",
     "text": [
      "0it [00:00, ?it/s]"
     ]
    },
    {
     "name": "stderr",
     "output_type": "stream",
     "text": [
      "0it [01:48, ?it/s]\n"
     ]
    },
    {
     "name": "stdout",
     "output_type": "stream",
     "text": [
      "0.4932390480049693 0.007120986923703665\n"
     ]
    }
   ],
   "source": [
    "X, y = df.drop(['stru_label', 'stru_id', 'is_good'], axis = 1), df['is_good'].astype(int).to_numpy()\n",
    "\n",
    "\n",
    "scaler = StandardScaler()\n",
    "X_scaled = scaler.fit_transform(X)\n",
    "\n",
    "\n",
    "loo = LeaveOneOut()\n",
    "loo.get_n_splits(X_scaled)\n",
    "preds = np.zeros(len(y))\n",
    "for i, (train_index, test_index) in enumerate(tqdm(loo.split(X))):\n",
    "    X_tr, X_te, y_tr, y_te = (X_scaled[train_index, :], X_scaled[test_index, :], y[train_index], y[test_index])\n",
    "    model = CatBoostClassifier(eval_metric='AUC', verbose = False, random_state = 42)\n",
    "    summary = model.select_features(\n",
    "                X = X_tr,\n",
    "                y=y_tr,\n",
    "                features_for_select= np.arange(len(X_tr[0])),\n",
    "                num_features_to_select=50,\n",
    "                steps=1,\n",
    "                algorithm=EFeaturesSelectionAlgorithm.RecursiveByShapValues,\n",
    "                shap_calc_type=EShapCalcType.Regular,\n",
    "                train_final_model=True,\n",
    "                logging_level='Silent',\n",
    "                plot=False)\n",
    "    preds[test_index] = model.predict_proba(X_scaled[test_index])[:, 1]\n",
    "    break\n",
    "estimated_mean, estimated_std = bootstrap_roc_auc(1000, y, preds)\n",
    "print(estimated_mean, estimated_std)\n"
   ]
  },
  {
   "cell_type": "code",
   "execution_count": 51,
   "metadata": {},
   "outputs": [
    {
     "name": "stdout",
     "output_type": "stream",
     "text": [
      "680\n"
     ]
    }
   ],
   "source": [
    "print(len(model.get_feature_importance()))"
   ]
  },
  {
   "cell_type": "code",
   "execution_count": 54,
   "metadata": {},
   "outputs": [],
   "source": [
    "importance = np.zeros(X.shape[1])"
   ]
  },
  {
   "cell_type": "code",
   "execution_count": 55,
   "metadata": {},
   "outputs": [],
   "source": [
    "importance[summary['selected_features']] += 1"
   ]
  },
  {
   "cell_type": "code",
   "execution_count": null,
   "metadata": {},
   "outputs": [],
   "source": [
    "'fv_1p0_WARNlowPES', 'fv_2p0_WARNlowPES', 'fv_3p0_WARNlowPES', 'fv_4p0_WARNlowPES'"
   ]
  },
  {
   "cell_type": "code",
   "execution_count": 1,
   "metadata": {},
   "outputs": [
    {
     "name": "stdout",
     "output_type": "stream",
     "text": [
      "[  0   1   2   3   4   5   6   7   8   9  10  11  12  13  14  15  16  17\n",
      "  18  19  20  21  22  23  24  25  26  27  28  29  30  31  32  33  34  35\n",
      "  36  37  38  39  40  41  42  43  44  45  46  47  48  49  50  51  52  53\n",
      "  54  55  56  57  58  59  60  61  62  63  64  65  66  67  68  69  70  71\n",
      "  72  73  74  75  76  77  78  79  80  81  82  83  84  85  86  87  88  89\n",
      "  90  91  92  93  94  95  96  97  98  99 100 101 102 103 104 105 106 107\n",
      " 108 109 110 111 112 113 114 115]\n",
      "0\n",
      "[[0.93997697 0.03375056 0.02627246]\n",
      " [0.         0.         0.        ]\n",
      " [0.         0.         0.        ]\n",
      " [0.         0.         0.        ]\n",
      " [0.         0.         0.        ]\n",
      " [0.         0.         0.        ]\n",
      " [0.         0.         0.        ]\n",
      " [0.         0.         0.        ]\n",
      " [0.         0.         0.        ]\n",
      " [0.         0.         0.        ]\n",
      " [0.         0.         0.        ]\n",
      " [0.         0.         0.        ]\n",
      " [0.         0.         0.        ]\n",
      " [0.         0.         0.        ]\n",
      " [0.         0.         0.        ]\n",
      " [0.         0.         0.        ]\n",
      " [0.         0.         0.        ]\n",
      " [0.         0.         0.        ]\n",
      " [0.         0.         0.        ]\n",
      " [0.         0.         0.        ]\n",
      " [0.         0.         0.        ]\n",
      " [0.         0.         0.        ]\n",
      " [0.         0.         0.        ]\n",
      " [0.         0.         0.        ]\n",
      " [0.         0.         0.        ]\n",
      " [0.         0.         0.        ]\n",
      " [0.         0.         0.        ]\n",
      " [0.         0.         0.        ]\n",
      " [0.         0.         0.        ]\n",
      " [0.         0.         0.        ]\n",
      " [0.         0.         0.        ]\n",
      " [0.         0.         0.        ]\n",
      " [0.         0.         0.        ]\n",
      " [0.         0.         0.        ]\n",
      " [0.         0.         0.        ]\n",
      " [0.         0.         0.        ]\n",
      " [0.         0.         0.        ]\n",
      " [0.         0.         0.        ]\n",
      " [0.         0.         0.        ]\n",
      " [0.         0.         0.        ]\n",
      " [0.         0.         0.        ]\n",
      " [0.         0.         0.        ]\n",
      " [0.         0.         0.        ]\n",
      " [0.         0.         0.        ]\n",
      " [0.         0.         0.        ]\n",
      " [0.         0.         0.        ]\n",
      " [0.         0.         0.        ]\n",
      " [0.         0.         0.        ]\n",
      " [0.         0.         0.        ]\n",
      " [0.         0.         0.        ]\n",
      " [0.         0.         0.        ]\n",
      " [0.         0.         0.        ]\n",
      " [0.         0.         0.        ]\n",
      " [0.         0.         0.        ]\n",
      " [0.         0.         0.        ]\n",
      " [0.         0.         0.        ]\n",
      " [0.         0.         0.        ]\n",
      " [0.         0.         0.        ]\n",
      " [0.         0.         0.        ]\n",
      " [0.         0.         0.        ]\n",
      " [0.         0.         0.        ]\n",
      " [0.         0.         0.        ]\n",
      " [0.         0.         0.        ]\n",
      " [0.         0.         0.        ]\n",
      " [0.         0.         0.        ]\n",
      " [0.         0.         0.        ]\n",
      " [0.         0.         0.        ]\n",
      " [0.         0.         0.        ]\n",
      " [0.         0.         0.        ]\n",
      " [0.         0.         0.        ]\n",
      " [0.         0.         0.        ]\n",
      " [0.         0.         0.        ]\n",
      " [0.         0.         0.        ]\n",
      " [0.         0.         0.        ]\n",
      " [0.         0.         0.        ]\n",
      " [0.         0.         0.        ]\n",
      " [0.         0.         0.        ]\n",
      " [0.         0.         0.        ]\n",
      " [0.         0.         0.        ]\n",
      " [0.         0.         0.        ]\n",
      " [0.         0.         0.        ]\n",
      " [0.         0.         0.        ]\n",
      " [0.         0.         0.        ]\n",
      " [0.         0.         0.        ]\n",
      " [0.         0.         0.        ]\n",
      " [0.         0.         0.        ]\n",
      " [0.         0.         0.        ]\n",
      " [0.         0.         0.        ]\n",
      " [0.         0.         0.        ]\n",
      " [0.         0.         0.        ]\n",
      " [0.         0.         0.        ]\n",
      " [0.         0.         0.        ]\n",
      " [0.         0.         0.        ]\n",
      " [0.         0.         0.        ]\n",
      " [0.         0.         0.        ]\n",
      " [0.         0.         0.        ]\n",
      " [0.         0.         0.        ]\n",
      " [0.         0.         0.        ]\n",
      " [0.         0.         0.        ]\n",
      " [0.         0.         0.        ]\n",
      " [0.         0.         0.        ]\n",
      " [0.         0.         0.        ]\n",
      " [0.         0.         0.        ]\n",
      " [0.         0.         0.        ]\n",
      " [0.         0.         0.        ]\n",
      " [0.         0.         0.        ]\n",
      " [0.         0.         0.        ]\n",
      " [0.         0.         0.        ]\n",
      " [0.         0.         0.        ]\n",
      " [0.         0.         0.        ]\n",
      " [0.         0.         0.        ]\n",
      " [0.         0.         0.        ]\n",
      " [0.         0.         0.        ]\n",
      " [0.         0.         0.        ]\n",
      " [0.         0.         0.        ]\n",
      " [0.         0.         0.        ]]\n",
      "['bad_conductors' 'conductivity_only_on_high_temps'\n",
      " 'group A + three from group B']\n",
      "1\n",
      "[[0.93997697 0.03375056 0.02627246]\n",
      " [0.05231605 0.93969458 0.00798937]\n",
      " [0.         0.         0.        ]\n",
      " [0.         0.         0.        ]\n",
      " [0.         0.         0.        ]\n",
      " [0.         0.         0.        ]\n",
      " [0.         0.         0.        ]\n",
      " [0.         0.         0.        ]\n",
      " [0.         0.         0.        ]\n",
      " [0.         0.         0.        ]\n",
      " [0.         0.         0.        ]\n",
      " [0.         0.         0.        ]\n",
      " [0.         0.         0.        ]\n",
      " [0.         0.         0.        ]\n",
      " [0.         0.         0.        ]\n",
      " [0.         0.         0.        ]\n",
      " [0.         0.         0.        ]\n",
      " [0.         0.         0.        ]\n",
      " [0.         0.         0.        ]\n",
      " [0.         0.         0.        ]\n",
      " [0.         0.         0.        ]\n",
      " [0.         0.         0.        ]\n",
      " [0.         0.         0.        ]\n",
      " [0.         0.         0.        ]\n",
      " [0.         0.         0.        ]\n",
      " [0.         0.         0.        ]\n",
      " [0.         0.         0.        ]\n",
      " [0.         0.         0.        ]\n",
      " [0.         0.         0.        ]\n",
      " [0.         0.         0.        ]\n",
      " [0.         0.         0.        ]\n",
      " [0.         0.         0.        ]\n",
      " [0.         0.         0.        ]\n",
      " [0.         0.         0.        ]\n",
      " [0.         0.         0.        ]\n",
      " [0.         0.         0.        ]\n",
      " [0.         0.         0.        ]\n",
      " [0.         0.         0.        ]\n",
      " [0.         0.         0.        ]\n",
      " [0.         0.         0.        ]\n",
      " [0.         0.         0.        ]\n",
      " [0.         0.         0.        ]\n",
      " [0.         0.         0.        ]\n",
      " [0.         0.         0.        ]\n",
      " [0.         0.         0.        ]\n",
      " [0.         0.         0.        ]\n",
      " [0.         0.         0.        ]\n",
      " [0.         0.         0.        ]\n",
      " [0.         0.         0.        ]\n",
      " [0.         0.         0.        ]\n",
      " [0.         0.         0.        ]\n",
      " [0.         0.         0.        ]\n",
      " [0.         0.         0.        ]\n",
      " [0.         0.         0.        ]\n",
      " [0.         0.         0.        ]\n",
      " [0.         0.         0.        ]\n",
      " [0.         0.         0.        ]\n",
      " [0.         0.         0.        ]\n",
      " [0.         0.         0.        ]\n",
      " [0.         0.         0.        ]\n",
      " [0.         0.         0.        ]\n",
      " [0.         0.         0.        ]\n",
      " [0.         0.         0.        ]\n",
      " [0.         0.         0.        ]\n",
      " [0.         0.         0.        ]\n",
      " [0.         0.         0.        ]\n",
      " [0.         0.         0.        ]\n",
      " [0.         0.         0.        ]\n",
      " [0.         0.         0.        ]\n",
      " [0.         0.         0.        ]\n",
      " [0.         0.         0.        ]\n",
      " [0.         0.         0.        ]\n",
      " [0.         0.         0.        ]\n",
      " [0.         0.         0.        ]\n",
      " [0.         0.         0.        ]\n",
      " [0.         0.         0.        ]\n",
      " [0.         0.         0.        ]\n",
      " [0.         0.         0.        ]\n",
      " [0.         0.         0.        ]\n",
      " [0.         0.         0.        ]\n",
      " [0.         0.         0.        ]\n",
      " [0.         0.         0.        ]\n",
      " [0.         0.         0.        ]\n",
      " [0.         0.         0.        ]\n",
      " [0.         0.         0.        ]\n",
      " [0.         0.         0.        ]\n",
      " [0.         0.         0.        ]\n",
      " [0.         0.         0.        ]\n",
      " [0.         0.         0.        ]\n",
      " [0.         0.         0.        ]\n",
      " [0.         0.         0.        ]\n",
      " [0.         0.         0.        ]\n",
      " [0.         0.         0.        ]\n",
      " [0.         0.         0.        ]\n",
      " [0.         0.         0.        ]\n",
      " [0.         0.         0.        ]\n",
      " [0.         0.         0.        ]\n",
      " [0.         0.         0.        ]\n",
      " [0.         0.         0.        ]\n",
      " [0.         0.         0.        ]\n",
      " [0.         0.         0.        ]\n",
      " [0.         0.         0.        ]\n",
      " [0.         0.         0.        ]\n",
      " [0.         0.         0.        ]\n",
      " [0.         0.         0.        ]\n",
      " [0.         0.         0.        ]\n",
      " [0.         0.         0.        ]\n",
      " [0.         0.         0.        ]\n",
      " [0.         0.         0.        ]\n",
      " [0.         0.         0.        ]\n",
      " [0.         0.         0.        ]\n",
      " [0.         0.         0.        ]\n",
      " [0.         0.         0.        ]\n",
      " [0.         0.         0.        ]\n",
      " [0.         0.         0.        ]\n",
      " [0.         0.         0.        ]]\n",
      "['bad_conductors' 'conductivity_only_on_high_temps'\n",
      " 'group A + three from group B']\n",
      "2\n"
     ]
    },
    {
     "ename": "KeyboardInterrupt",
     "evalue": "",
     "output_type": "error",
     "traceback": [
      "\u001b[0;31m---------------------------------------------------------------------------\u001b[0m",
      "\u001b[0;31mKeyboardInterrupt\u001b[0m                         Traceback (most recent call last)",
      "\u001b[1;32m/workspaces/material-project/exported_prediction_exploration.ipynb Cell 36\u001b[0m line \u001b[0;36m8\n\u001b[1;32m     <a href='vscode-notebook-cell://dev-container%2B7b22686f737450617468223a222f4e45575f4844442f4844445f3354422f6f6c79616f6c79612f6d6174657269616c2d70726f6a656374222c226c6f63616c446f636b6572223a66616c73652c2273657474696e6773223a7b22686f7374223a227373683a2f2f687365677075227d2c22636f6e66696746696c65223a7b22246d6964223a312c2270617468223a222f4e45575f4844442f4844445f3354422f6f6c79616f6c79612f6d6174657269616c2d70726f6a6563742f2e646576636f6e7461696e65722f646576636f6e7461696e65722e6a736f6e222c22736368656d65223a227673636f64652d66696c65486f7374227d7d/workspaces/material-project/exported_prediction_exploration.ipynb#X50sdnNjb2RlLXJlbW90ZQ%3D%3D?line=80'>81</a>\u001b[0m X_tr, X_te, y_tr, y_te \u001b[39m=\u001b[39m (X_scaled[train_index, :], X_scaled[test_index, :], y[train_index], y[test_index])\n\u001b[1;32m     <a href='vscode-notebook-cell://dev-container%2B7b22686f737450617468223a222f4e45575f4844442f4844445f3354422f6f6c79616f6c79612f6d6174657269616c2d70726f6a656374222c226c6f63616c446f636b6572223a66616c73652c2273657474696e6773223a7b22686f7374223a227373683a2f2f687365677075227d2c22636f6e66696746696c65223a7b22246d6964223a312c2270617468223a222f4e45575f4844442f4844445f3354422f6f6c79616f6c79612f6d6174657269616c2d70726f6a6563742f2e646576636f6e7461696e65722f646576636f6e7461696e65722e6a736f6e222c22736368656d65223a227673636f64652d66696c65486f7374227d7d/workspaces/material-project/exported_prediction_exploration.ipynb#X50sdnNjb2RlLXJlbW90ZQ%3D%3D?line=81'>82</a>\u001b[0m model \u001b[39m=\u001b[39m CatBoostClassifier(eval_metric\u001b[39m=\u001b[39m\u001b[39m'\u001b[39m\u001b[39mAUC\u001b[39m\u001b[39m'\u001b[39m, verbose \u001b[39m=\u001b[39m \u001b[39mFalse\u001b[39;00m)\n\u001b[0;32m---> <a href='vscode-notebook-cell://dev-container%2B7b22686f737450617468223a222f4e45575f4844442f4844445f3354422f6f6c79616f6c79612f6d6174657269616c2d70726f6a656374222c226c6f63616c446f636b6572223a66616c73652c2273657474696e6773223a7b22686f7374223a227373683a2f2f687365677075227d2c22636f6e66696746696c65223a7b22246d6964223a312c2270617468223a222f4e45575f4844442f4844445f3354422f6f6c79616f6c79612f6d6174657269616c2d70726f6a6563742f2e646576636f6e7461696e65722f646576636f6e7461696e65722e6a736f6e222c22736368656d65223a227673636f64652d66696c65486f7374227d7d/workspaces/material-project/exported_prediction_exploration.ipynb#X50sdnNjb2RlLXJlbW90ZQ%3D%3D?line=82'>83</a>\u001b[0m model\u001b[39m.\u001b[39;49mfit(X_tr, y_tr)\n\u001b[1;32m     <a href='vscode-notebook-cell://dev-container%2B7b22686f737450617468223a222f4e45575f4844442f4844445f3354422f6f6c79616f6c79612f6d6174657269616c2d70726f6a656374222c226c6f63616c446f636b6572223a66616c73652c2273657474696e6773223a7b22686f7374223a227373683a2f2f687365677075227d2c22636f6e66696746696c65223a7b22246d6964223a312c2270617468223a222f4e45575f4844442f4844445f3354422f6f6c79616f6c79612f6d6174657269616c2d70726f6a6563742f2e646576636f6e7461696e65722f646576636f6e7461696e65722e6a736f6e222c22736368656d65223a227673636f64652d66696c65486f7374227d7d/workspaces/material-project/exported_prediction_exploration.ipynb#X50sdnNjb2RlLXJlbW90ZQ%3D%3D?line=83'>84</a>\u001b[0m \u001b[39m# feature_names = ['F{}'.format(i) for i in range(np.array(X_tr).shape[1])]\u001b[39;00m\n\u001b[1;32m     <a href='vscode-notebook-cell://dev-container%2B7b22686f737450617468223a222f4e45575f4844442f4844445f3354422f6f6c79616f6c79612f6d6174657269616c2d70726f6a656374222c226c6f63616c446f636b6572223a66616c73652c2273657474696e6773223a7b22686f7374223a227373683a2f2f687365677075227d2c22636f6e66696746696c65223a7b22246d6964223a312c2270617468223a222f4e45575f4844442f4844445f3354422f6f6c79616f6c79612f6d6174657269616c2d70726f6a6563742f2e646576636f6e7461696e65722f646576636f6e7461696e65722e6a736f6e222c22736368656d65223a227673636f64652d66696c65486f7374227d7d/workspaces/material-project/exported_prediction_exploration.ipynb#X50sdnNjb2RlLXJlbW90ZQ%3D%3D?line=84'>85</a>\u001b[0m \u001b[39m# summary = model.select_features(\u001b[39;00m\n\u001b[1;32m     <a href='vscode-notebook-cell://dev-container%2B7b22686f737450617468223a222f4e45575f4844442f4844445f3354422f6f6c79616f6c79612f6d6174657269616c2d70726f6a656374222c226c6f63616c446f636b6572223a66616c73652c2273657474696e6773223a7b22686f7374223a227373683a2f2f687365677075227d2c22636f6e66696746696c65223a7b22246d6964223a312c2270617468223a222f4e45575f4844442f4844445f3354422f6f6c79616f6c79612f6d6174657269616c2d70726f6a6563742f2e646576636f6e7461696e65722f646576636f6e7461696e65722e6a736f6e222c22736368656d65223a227673636f64652d66696c65486f7374227d7d/workspaces/material-project/exported_prediction_exploration.ipynb#X50sdnNjb2RlLXJlbW90ZQ%3D%3D?line=85'>86</a>\u001b[0m \u001b[39m#     X = X_tr,\u001b[39;00m\n\u001b[0;32m   (...)\u001b[0m\n\u001b[1;32m     <a href='vscode-notebook-cell://dev-container%2B7b22686f737450617468223a222f4e45575f4844442f4844445f3354422f6f6c79616f6c79612f6d6174657269616c2d70726f6a656374222c226c6f63616c446f636b6572223a66616c73652c2273657474696e6773223a7b22686f7374223a227373683a2f2f687365677075227d2c22636f6e66696746696c65223a7b22246d6964223a312c2270617468223a222f4e45575f4844442f4844445f3354422f6f6c79616f6c79612f6d6174657269616c2d70726f6a6563742f2e646576636f6e7461696e65722f646576636f6e7461696e65722e6a736f6e222c22736368656d65223a227673636f64652d66696c65486f7374227d7d/workspaces/material-project/exported_prediction_exploration.ipynb#X50sdnNjb2RlLXJlbW90ZQ%3D%3D?line=93'>94</a>\u001b[0m \u001b[39m#     logging_level='Silent',\u001b[39;00m\n\u001b[1;32m     <a href='vscode-notebook-cell://dev-container%2B7b22686f737450617468223a222f4e45575f4844442f4844445f3354422f6f6c79616f6c79612f6d6174657269616c2d70726f6a656374222c226c6f63616c446f636b6572223a66616c73652c2273657474696e6773223a7b22686f7374223a227373683a2f2f687365677075227d2c22636f6e66696746696c65223a7b22246d6964223a312c2270617468223a222f4e45575f4844442f4844445f3354422f6f6c79616f6c79612f6d6174657269616c2d70726f6a6563742f2e646576636f6e7461696e65722f646576636f6e7461696e65722e6a736f6e222c22736368656d65223a227673636f64652d66696c65486f7374227d7d/workspaces/material-project/exported_prediction_exploration.ipynb#X50sdnNjb2RlLXJlbW90ZQ%3D%3D?line=94'>95</a>\u001b[0m \u001b[39m#     plot=False)\u001b[39;00m\n\u001b[1;32m     <a href='vscode-notebook-cell://dev-container%2B7b22686f737450617468223a222f4e45575f4844442f4844445f3354422f6f6c79616f6c79612f6d6174657269616c2d70726f6a656374222c226c6f63616c446f636b6572223a66616c73652c2273657474696e6773223a7b22686f7374223a227373683a2f2f687365677075227d2c22636f6e66696746696c65223a7b22246d6964223a312c2270617468223a222f4e45575f4844442f4844445f3354422f6f6c79616f6c79612f6d6174657269616c2d70726f6a6563742f2e646576636f6e7461696e65722f646576636f6e7461696e65722e6a736f6e222c22736368656d65223a227673636f64652d66696c65486f7374227d7d/workspaces/material-project/exported_prediction_exploration.ipynb#X50sdnNjb2RlLXJlbW90ZQ%3D%3D?line=95'>96</a>\u001b[0m y_pred \u001b[39m=\u001b[39m model\u001b[39m.\u001b[39mpredict_proba(X_te)\n",
      "File \u001b[0;32m/usr/local/lib/python3.8/site-packages/catboost/core.py:5100\u001b[0m, in \u001b[0;36mCatBoostClassifier.fit\u001b[0;34m(self, X, y, cat_features, text_features, embedding_features, sample_weight, baseline, use_best_model, eval_set, verbose, logging_level, plot, plot_file, column_description, verbose_eval, metric_period, silent, early_stopping_rounds, save_snapshot, snapshot_file, snapshot_interval, init_model, callbacks, log_cout, log_cerr)\u001b[0m\n\u001b[1;32m   5097\u001b[0m \u001b[39mif\u001b[39;00m \u001b[39m'\u001b[39m\u001b[39mloss_function\u001b[39m\u001b[39m'\u001b[39m \u001b[39min\u001b[39;00m params:\n\u001b[1;32m   5098\u001b[0m     CatBoostClassifier\u001b[39m.\u001b[39m_check_is_compatible_loss(params[\u001b[39m'\u001b[39m\u001b[39mloss_function\u001b[39m\u001b[39m'\u001b[39m])\n\u001b[0;32m-> 5100\u001b[0m \u001b[39mself\u001b[39;49m\u001b[39m.\u001b[39;49m_fit(X, y, cat_features, text_features, embedding_features, \u001b[39mNone\u001b[39;49;00m, sample_weight, \u001b[39mNone\u001b[39;49;00m, \u001b[39mNone\u001b[39;49;00m, \u001b[39mNone\u001b[39;49;00m, \u001b[39mNone\u001b[39;49;00m, baseline, use_best_model,\n\u001b[1;32m   5101\u001b[0m           eval_set, verbose, logging_level, plot, plot_file, column_description, verbose_eval, metric_period,\n\u001b[1;32m   5102\u001b[0m           silent, early_stopping_rounds, save_snapshot, snapshot_file, snapshot_interval, init_model, callbacks, log_cout, log_cerr)\n\u001b[1;32m   5103\u001b[0m \u001b[39mreturn\u001b[39;00m \u001b[39mself\u001b[39m\n",
      "File \u001b[0;32m/usr/local/lib/python3.8/site-packages/catboost/core.py:2319\u001b[0m, in \u001b[0;36mCatBoost._fit\u001b[0;34m(self, X, y, cat_features, text_features, embedding_features, pairs, sample_weight, group_id, group_weight, subgroup_id, pairs_weight, baseline, use_best_model, eval_set, verbose, logging_level, plot, plot_file, column_description, verbose_eval, metric_period, silent, early_stopping_rounds, save_snapshot, snapshot_file, snapshot_interval, init_model, callbacks, log_cout, log_cerr)\u001b[0m\n\u001b[1;32m   2315\u001b[0m allow_clear_pool \u001b[39m=\u001b[39m train_params[\u001b[39m\"\u001b[39m\u001b[39mallow_clear_pool\u001b[39m\u001b[39m\"\u001b[39m]\n\u001b[1;32m   2317\u001b[0m \u001b[39mwith\u001b[39;00m log_fixup(log_cout, log_cerr), \\\n\u001b[1;32m   2318\u001b[0m     plot_wrapper(plot, plot_file, \u001b[39m'\u001b[39m\u001b[39mTraining plots\u001b[39m\u001b[39m'\u001b[39m, [_get_train_dir(\u001b[39mself\u001b[39m\u001b[39m.\u001b[39mget_params())]):\n\u001b[0;32m-> 2319\u001b[0m     \u001b[39mself\u001b[39;49m\u001b[39m.\u001b[39;49m_train(\n\u001b[1;32m   2320\u001b[0m         train_pool,\n\u001b[1;32m   2321\u001b[0m         train_params[\u001b[39m\"\u001b[39;49m\u001b[39meval_sets\u001b[39;49m\u001b[39m\"\u001b[39;49m],\n\u001b[1;32m   2322\u001b[0m         params,\n\u001b[1;32m   2323\u001b[0m         allow_clear_pool,\n\u001b[1;32m   2324\u001b[0m         train_params[\u001b[39m\"\u001b[39;49m\u001b[39minit_model\u001b[39;49m\u001b[39m\"\u001b[39;49m]\n\u001b[1;32m   2325\u001b[0m     )\n\u001b[1;32m   2327\u001b[0m \u001b[39m# Have property feature_importance possibly set\u001b[39;00m\n\u001b[1;32m   2328\u001b[0m loss \u001b[39m=\u001b[39m \u001b[39mself\u001b[39m\u001b[39m.\u001b[39m_object\u001b[39m.\u001b[39m_get_loss_function_name()\n",
      "File \u001b[0;32m/usr/local/lib/python3.8/site-packages/catboost/core.py:1723\u001b[0m, in \u001b[0;36m_CatBoostBase._train\u001b[0;34m(self, train_pool, test_pool, params, allow_clear_pool, init_model)\u001b[0m\n\u001b[1;32m   1722\u001b[0m \u001b[39mdef\u001b[39;00m \u001b[39m_train\u001b[39m(\u001b[39mself\u001b[39m, train_pool, test_pool, params, allow_clear_pool, init_model):\n\u001b[0;32m-> 1723\u001b[0m     \u001b[39mself\u001b[39;49m\u001b[39m.\u001b[39;49m_object\u001b[39m.\u001b[39;49m_train(train_pool, test_pool, params, allow_clear_pool, init_model\u001b[39m.\u001b[39;49m_object \u001b[39mif\u001b[39;49;00m init_model \u001b[39melse\u001b[39;49;00m \u001b[39mNone\u001b[39;49;00m)\n\u001b[1;32m   1724\u001b[0m     \u001b[39mself\u001b[39m\u001b[39m.\u001b[39m_set_trained_model_attributes()\n",
      "File \u001b[0;32m_catboost.pyx:4645\u001b[0m, in \u001b[0;36m_catboost._CatBoost._train\u001b[0;34m()\u001b[0m\n",
      "File \u001b[0;32m_catboost.pyx:4694\u001b[0m, in \u001b[0;36m_catboost._CatBoost._train\u001b[0;34m()\u001b[0m\n",
      "\u001b[0;31mKeyboardInterrupt\u001b[0m: "
     ]
    }
   ],
   "source": [
    "import pandas as pd\n",
    "from utils import load_csv\n",
    "import numpy as np\n",
    "import os\n",
    "import pickle\n",
    "import numpy as np\n",
    "import pandas as pd\n",
    "from numpy import nan as Nan\n",
    "from numpy import inf as inf\n",
    "from tqdm import tqdm\n",
    "from scipy.sparse import csr_matrix\n",
    "from sklearn.model_selection import cross_val_predict\n",
    "from catboost import CatBoostClassifier\n",
    "from sklearn.model_selection import train_test_split\n",
    "from sklearn.metrics import roc_auc_score\n",
    "\n",
    "from sklearn.preprocessing import StandardScaler\n",
    "from sklearn.decomposition import PCA\n",
    "\n",
    "from sklearn.model_selection import LeaveOneOut\n",
    "from sklearn.feature_selection import SelectFromModel\n",
    "from catboost import CatBoostRegressor, Pool, EShapCalcType, EFeaturesSelectionAlgorithm\n",
    "\n",
    "from catboost import CatBoostClassifier\n",
    "# from sklearn.ensemble import GradientBoostingClassifier\n",
    "from sklearn.linear_model import LogisticRegression\n",
    "from sklearn.tree import DecisionTreeClassifier\n",
    "from sklearn.neighbors import KNeighborsClassifier\n",
    "from sklearn.model_selection import KFold\n",
    "from data_preprocessing import *\n",
    "from scoring import bootstrap_roc_auc\n",
    "from catboost import CatBoostRanker, Pool\n",
    "from copy import deepcopy\n",
    "import numpy as np\n",
    "import os\n",
    "import pandas as pd \n",
    "import catboost\n",
    "\n",
    "\n",
    "if __name__ == \"__main__\":\n",
    "\n",
    "    df = pd.read_csv('exported.predictions.Kahle2020.csv')\n",
    "    groups = load_csv(f\"groups_and_oxi_states_5_frames/df_features_step_0.pkl\")\n",
    "    df = df.merge(groups, left_on=['src_id'], right_on=['stru_id'])\n",
    "    df = df.drop(['starting_structure', 'src_database', 'src_id', 'diffusion_mean_cm2_s'], axis = 1)\n",
    "    df.drop_duplicates(subset=['stru_id', 'stru_label'], keep='first', inplace=True, ignore_index=False)\n",
    "    data = pd.read_csv('fv.v2.Kahle2020.csv')\n",
    "    data = data[data['temperature'] == 1000]\n",
    "    df = df.merge(data, left_on=['stru_id'], right_on=['src_id'])\n",
    "    df.loc[(df['group'] == 'group_A'), 'multigroup'] = 'group A + three from group B'\n",
    "    df.loc[(df['group'] == 'group_B'), 'multigroup'] = 'conductivity_only_on_high_temps'\n",
    "    df.loc[(df['group'] == 'group_E'), 'multigroup'] = 'conductivity_only_on_high_temps'\n",
    "    df.loc[(df['group'] == 'group_C'), 'multigroup'] = 'bad_conductors'\n",
    "    df.drop_duplicates(subset=['stru_id', 'stru_label'], keep='first', inplace=True, ignore_index=False)\n",
    "    df = df.drop([\n",
    "        'group',\n",
    "        'stru_label',\n",
    "        'stru_id',\n",
    "        'is_good',\n",
    "        'temperature',\n",
    "        'diffusion_std_cm2_s',\n",
    "        'diffusion_sem_cm2_s',\n",
    "        'label',\n",
    "        'first_frame_structure',\n",
    "        'starting_structure',\n",
    "        'diffusion_mean_cm2_s',\n",
    "        'src_database',\n",
    "        'src_id',], axis = 1)\n",
    "    X, y = (df.drop(['multigroup'], axis=1).to_numpy(), df['multigroup'].to_numpy())\n",
    "    scaler = StandardScaler()\n",
    "    X_scaled = scaler.fit_transform(X)\n",
    "    lenn = len(y)\n",
    "    indexes = np.arange(lenn)\n",
    "    print(indexes)\n",
    "    preds = np.zeros((lenn, 3))\n",
    "    classes = np.zeros((lenn, 3), dtype=str)\n",
    "    kf = KFold(n_splits=lenn, shuffle=False)\n",
    "    kf.get_n_splits(indexes)\n",
    "    for iteration, (train_index, test_index) in enumerate(kf.split(indexes)):\n",
    "        print(iteration)\n",
    "        X_tr, X_te, y_tr, y_te = (X_scaled[train_index, :], X_scaled[test_index, :], y[train_index], y[test_index])\n",
    "        model = CatBoostClassifier(eval_metric='AUC', verbose = False)\n",
    "        model.fit(X_tr, y_tr)\n",
    "        # feature_names = ['F{}'.format(i) for i in range(np.array(X_tr).shape[1])]\n",
    "        # summary = model.select_features(\n",
    "        #     X = X_tr,\n",
    "        #     y=y_tr,\n",
    "        #     features_for_select= np.arange(len(X_tr[0])),\n",
    "        #     num_features_to_select=50,\n",
    "        #     steps=1,\n",
    "        #     algorithm=EFeaturesSelectionAlgorithm.RecursiveByShapValues,\n",
    "        #     shap_calc_type=EShapCalcType.Regular,\n",
    "        #     train_final_model=True,\n",
    "        #     logging_level='Silent',\n",
    "        #     plot=False)\n",
    "        y_pred = model.predict_proba(X_te)\n",
    "        preds[test_index] = y_pred\n",
    "        classes[test_index] = model.classes_\n",
    "        np.savetxt('multiclassification_results/preds.txt', preds, fmt='%.4e', delimiter=' ', newline='\\n')\n",
    "        np.savetxt('multiclassification_results/classes.txt', classes, fmt=\"%s\", delimiter=' ', newline='\\n')\n",
    "        print(preds)\n",
    "        print(model.classes_)"
   ]
  },
  {
   "cell_type": "code",
   "execution_count": 37,
   "metadata": {},
   "outputs": [
    {
     "data": {
      "text/plain": [
       "<catboost.core.CatBoostClassifier at 0x7fd52f9bd400>"
      ]
     },
     "execution_count": 37,
     "metadata": {},
     "output_type": "execute_result"
    }
   ],
   "source": [
    "model"
   ]
  },
  {
   "cell_type": "code",
   "execution_count": 39,
   "metadata": {},
   "outputs": [
    {
     "name": "stdout",
     "output_type": "stream",
     "text": [
      "None\n"
     ]
    }
   ],
   "source": [
    "print(model.feature_names_)"
   ]
  },
  {
   "cell_type": "code",
   "execution_count": 14,
   "metadata": {},
   "outputs": [
    {
     "data": {
      "text/html": [
       "<div>\n",
       "<style scoped>\n",
       "    .dataframe tbody tr th:only-of-type {\n",
       "        vertical-align: middle;\n",
       "    }\n",
       "\n",
       "    .dataframe tbody tr th {\n",
       "        vertical-align: top;\n",
       "    }\n",
       "\n",
       "    .dataframe thead th {\n",
       "        text-align: right;\n",
       "    }\n",
       "</style>\n",
       "<table border=\"1\" class=\"dataframe\">\n",
       "  <thead>\n",
       "    <tr style=\"text-align: right;\">\n",
       "      <th></th>\n",
       "      <th>fv_1p0_disconnected</th>\n",
       "      <th>fv_1p0_connected</th>\n",
       "      <th>fv_1p0_WARNlowPES</th>\n",
       "      <th>fv_2p0_disconnected</th>\n",
       "      <th>fv_2p0_connected</th>\n",
       "      <th>fv_2p0_WARNlowPES</th>\n",
       "      <th>fv_3p0_disconnected</th>\n",
       "      <th>fv_3p0_connected</th>\n",
       "      <th>fv_3p0_WARNlowPES</th>\n",
       "      <th>fv_4p0_disconnected</th>\n",
       "      <th>...</th>\n",
       "      <th>fv_0.700</th>\n",
       "      <th>fv_0.800</th>\n",
       "      <th>fv_0.900</th>\n",
       "      <th>fv_1.000</th>\n",
       "      <th>fv_1.100</th>\n",
       "      <th>fv_1.200</th>\n",
       "      <th>fv_1.300</th>\n",
       "      <th>fv_1.400</th>\n",
       "      <th>fv_1.500</th>\n",
       "      <th>multigroup</th>\n",
       "    </tr>\n",
       "  </thead>\n",
       "  <tbody>\n",
       "    <tr>\n",
       "      <th>0</th>\n",
       "      <td>0.046599</td>\n",
       "      <td>0.020796</td>\n",
       "      <td>False</td>\n",
       "      <td>0.116260</td>\n",
       "      <td>0.048759</td>\n",
       "      <td>False</td>\n",
       "      <td>0.176603</td>\n",
       "      <td>0.083279</td>\n",
       "      <td>False</td>\n",
       "      <td>0.229081</td>\n",
       "      <td>...</td>\n",
       "      <td>0.002373</td>\n",
       "      <td>0.003109</td>\n",
       "      <td>0.003952</td>\n",
       "      <td>0.020796</td>\n",
       "      <td>0.020796</td>\n",
       "      <td>0.020796</td>\n",
       "      <td>0.020796</td>\n",
       "      <td>0.020796</td>\n",
       "      <td>0.020796</td>\n",
       "      <td>bad_conductors</td>\n",
       "    </tr>\n",
       "    <tr>\n",
       "      <th>1</th>\n",
       "      <td>0.150700</td>\n",
       "      <td>0.032676</td>\n",
       "      <td>False</td>\n",
       "      <td>0.707392</td>\n",
       "      <td>0.332299</td>\n",
       "      <td>False</td>\n",
       "      <td>1.699067</td>\n",
       "      <td>0.836056</td>\n",
       "      <td>False</td>\n",
       "      <td>2.330716</td>\n",
       "      <td>...</td>\n",
       "      <td>0.016578</td>\n",
       "      <td>0.016578</td>\n",
       "      <td>0.016578</td>\n",
       "      <td>0.016578</td>\n",
       "      <td>0.016578</td>\n",
       "      <td>0.016578</td>\n",
       "      <td>0.016578</td>\n",
       "      <td>0.016578</td>\n",
       "      <td>0.016578</td>\n",
       "      <td>conductivity_only_on_high_temps</td>\n",
       "    </tr>\n",
       "    <tr>\n",
       "      <th>2</th>\n",
       "      <td>0.245469</td>\n",
       "      <td>0.052858</td>\n",
       "      <td>False</td>\n",
       "      <td>0.689566</td>\n",
       "      <td>0.149185</td>\n",
       "      <td>False</td>\n",
       "      <td>1.124297</td>\n",
       "      <td>0.231840</td>\n",
       "      <td>False</td>\n",
       "      <td>1.617143</td>\n",
       "      <td>...</td>\n",
       "      <td>0.007996</td>\n",
       "      <td>0.025253</td>\n",
       "      <td>0.025253</td>\n",
       "      <td>0.025253</td>\n",
       "      <td>0.025253</td>\n",
       "      <td>0.025253</td>\n",
       "      <td>0.025253</td>\n",
       "      <td>0.025253</td>\n",
       "      <td>0.025253</td>\n",
       "      <td>conductivity_only_on_high_temps</td>\n",
       "    </tr>\n",
       "    <tr>\n",
       "      <th>3</th>\n",
       "      <td>0.072147</td>\n",
       "      <td>0.006732</td>\n",
       "      <td>False</td>\n",
       "      <td>0.222709</td>\n",
       "      <td>0.023029</td>\n",
       "      <td>False</td>\n",
       "      <td>0.497091</td>\n",
       "      <td>0.110900</td>\n",
       "      <td>False</td>\n",
       "      <td>1.079627</td>\n",
       "      <td>...</td>\n",
       "      <td>0.003784</td>\n",
       "      <td>0.004687</td>\n",
       "      <td>0.005699</td>\n",
       "      <td>0.006732</td>\n",
       "      <td>0.008001</td>\n",
       "      <td>0.009375</td>\n",
       "      <td>0.010588</td>\n",
       "      <td>0.012007</td>\n",
       "      <td>0.013659</td>\n",
       "      <td>bad_conductors</td>\n",
       "    </tr>\n",
       "    <tr>\n",
       "      <th>4</th>\n",
       "      <td>0.060072</td>\n",
       "      <td>0.005843</td>\n",
       "      <td>False</td>\n",
       "      <td>0.141889</td>\n",
       "      <td>0.014844</td>\n",
       "      <td>False</td>\n",
       "      <td>0.286158</td>\n",
       "      <td>0.026452</td>\n",
       "      <td>False</td>\n",
       "      <td>0.484511</td>\n",
       "      <td>...</td>\n",
       "      <td>0.003637</td>\n",
       "      <td>0.004392</td>\n",
       "      <td>0.005103</td>\n",
       "      <td>0.005843</td>\n",
       "      <td>0.006612</td>\n",
       "      <td>0.007400</td>\n",
       "      <td>0.008247</td>\n",
       "      <td>0.009166</td>\n",
       "      <td>0.010080</td>\n",
       "      <td>bad_conductors</td>\n",
       "    </tr>\n",
       "    <tr>\n",
       "      <th>...</th>\n",
       "      <td>...</td>\n",
       "      <td>...</td>\n",
       "      <td>...</td>\n",
       "      <td>...</td>\n",
       "      <td>...</td>\n",
       "      <td>...</td>\n",
       "      <td>...</td>\n",
       "      <td>...</td>\n",
       "      <td>...</td>\n",
       "      <td>...</td>\n",
       "      <td>...</td>\n",
       "      <td>...</td>\n",
       "      <td>...</td>\n",
       "      <td>...</td>\n",
       "      <td>...</td>\n",
       "      <td>...</td>\n",
       "      <td>...</td>\n",
       "      <td>...</td>\n",
       "      <td>...</td>\n",
       "      <td>...</td>\n",
       "      <td>...</td>\n",
       "    </tr>\n",
       "    <tr>\n",
       "      <th>112</th>\n",
       "      <td>0.078637</td>\n",
       "      <td>0.008020</td>\n",
       "      <td>False</td>\n",
       "      <td>0.346845</td>\n",
       "      <td>0.041825</td>\n",
       "      <td>False</td>\n",
       "      <td>1.894499</td>\n",
       "      <td>1.418338</td>\n",
       "      <td>False</td>\n",
       "      <td>3.913317</td>\n",
       "      <td>...</td>\n",
       "      <td>0.004070</td>\n",
       "      <td>0.005233</td>\n",
       "      <td>0.006501</td>\n",
       "      <td>0.008020</td>\n",
       "      <td>0.009660</td>\n",
       "      <td>0.011469</td>\n",
       "      <td>0.013433</td>\n",
       "      <td>0.015633</td>\n",
       "      <td>0.017899</td>\n",
       "      <td>bad_conductors</td>\n",
       "    </tr>\n",
       "    <tr>\n",
       "      <th>113</th>\n",
       "      <td>1.379569</td>\n",
       "      <td>0.219200</td>\n",
       "      <td>False</td>\n",
       "      <td>3.118433</td>\n",
       "      <td>2.324100</td>\n",
       "      <td>False</td>\n",
       "      <td>4.616337</td>\n",
       "      <td>4.581349</td>\n",
       "      <td>False</td>\n",
       "      <td>5.971041</td>\n",
       "      <td>...</td>\n",
       "      <td>0.042084</td>\n",
       "      <td>0.049282</td>\n",
       "      <td>0.073633</td>\n",
       "      <td>0.090393</td>\n",
       "      <td>0.113731</td>\n",
       "      <td>0.123220</td>\n",
       "      <td>0.125875</td>\n",
       "      <td>0.130491</td>\n",
       "      <td>0.132310</td>\n",
       "      <td>group A + three from group B</td>\n",
       "    </tr>\n",
       "    <tr>\n",
       "      <th>114</th>\n",
       "      <td>0.114003</td>\n",
       "      <td>0.009984</td>\n",
       "      <td>False</td>\n",
       "      <td>0.304714</td>\n",
       "      <td>0.030488</td>\n",
       "      <td>False</td>\n",
       "      <td>0.658774</td>\n",
       "      <td>0.065378</td>\n",
       "      <td>False</td>\n",
       "      <td>2.376345</td>\n",
       "      <td>...</td>\n",
       "      <td>0.005868</td>\n",
       "      <td>0.007125</td>\n",
       "      <td>0.008576</td>\n",
       "      <td>0.009984</td>\n",
       "      <td>0.011469</td>\n",
       "      <td>0.012829</td>\n",
       "      <td>0.014321</td>\n",
       "      <td>0.016214</td>\n",
       "      <td>0.018686</td>\n",
       "      <td>bad_conductors</td>\n",
       "    </tr>\n",
       "    <tr>\n",
       "      <th>115</th>\n",
       "      <td>0.102500</td>\n",
       "      <td>0.010331</td>\n",
       "      <td>False</td>\n",
       "      <td>0.369687</td>\n",
       "      <td>0.367434</td>\n",
       "      <td>False</td>\n",
       "      <td>0.585259</td>\n",
       "      <td>0.585037</td>\n",
       "      <td>False</td>\n",
       "      <td>0.743738</td>\n",
       "      <td>...</td>\n",
       "      <td>0.004868</td>\n",
       "      <td>0.006475</td>\n",
       "      <td>0.007957</td>\n",
       "      <td>0.010331</td>\n",
       "      <td>0.014368</td>\n",
       "      <td>0.088360</td>\n",
       "      <td>0.088360</td>\n",
       "      <td>0.088360</td>\n",
       "      <td>0.088360</td>\n",
       "      <td>bad_conductors</td>\n",
       "    </tr>\n",
       "    <tr>\n",
       "      <th>116</th>\n",
       "      <td>0.137822</td>\n",
       "      <td>0.012615</td>\n",
       "      <td>False</td>\n",
       "      <td>0.376539</td>\n",
       "      <td>0.039033</td>\n",
       "      <td>False</td>\n",
       "      <td>1.690069</td>\n",
       "      <td>0.086375</td>\n",
       "      <td>False</td>\n",
       "      <td>4.532853</td>\n",
       "      <td>...</td>\n",
       "      <td>0.007681</td>\n",
       "      <td>0.009677</td>\n",
       "      <td>0.011311</td>\n",
       "      <td>0.012615</td>\n",
       "      <td>0.014568</td>\n",
       "      <td>0.016728</td>\n",
       "      <td>0.018783</td>\n",
       "      <td>0.021184</td>\n",
       "      <td>0.023399</td>\n",
       "      <td>bad_conductors</td>\n",
       "    </tr>\n",
       "  </tbody>\n",
       "</table>\n",
       "<p>116 rows × 700 columns</p>\n",
       "</div>"
      ],
      "text/plain": [
       "     fv_1p0_disconnected  fv_1p0_connected  fv_1p0_WARNlowPES  \\\n",
       "0               0.046599          0.020796              False   \n",
       "1               0.150700          0.032676              False   \n",
       "2               0.245469          0.052858              False   \n",
       "3               0.072147          0.006732              False   \n",
       "4               0.060072          0.005843              False   \n",
       "..                   ...               ...                ...   \n",
       "112             0.078637          0.008020              False   \n",
       "113             1.379569          0.219200              False   \n",
       "114             0.114003          0.009984              False   \n",
       "115             0.102500          0.010331              False   \n",
       "116             0.137822          0.012615              False   \n",
       "\n",
       "     fv_2p0_disconnected  fv_2p0_connected  fv_2p0_WARNlowPES  \\\n",
       "0               0.116260          0.048759              False   \n",
       "1               0.707392          0.332299              False   \n",
       "2               0.689566          0.149185              False   \n",
       "3               0.222709          0.023029              False   \n",
       "4               0.141889          0.014844              False   \n",
       "..                   ...               ...                ...   \n",
       "112             0.346845          0.041825              False   \n",
       "113             3.118433          2.324100              False   \n",
       "114             0.304714          0.030488              False   \n",
       "115             0.369687          0.367434              False   \n",
       "116             0.376539          0.039033              False   \n",
       "\n",
       "     fv_3p0_disconnected  fv_3p0_connected  fv_3p0_WARNlowPES  \\\n",
       "0               0.176603          0.083279              False   \n",
       "1               1.699067          0.836056              False   \n",
       "2               1.124297          0.231840              False   \n",
       "3               0.497091          0.110900              False   \n",
       "4               0.286158          0.026452              False   \n",
       "..                   ...               ...                ...   \n",
       "112             1.894499          1.418338              False   \n",
       "113             4.616337          4.581349              False   \n",
       "114             0.658774          0.065378              False   \n",
       "115             0.585259          0.585037              False   \n",
       "116             1.690069          0.086375              False   \n",
       "\n",
       "     fv_4p0_disconnected  ...  fv_0.700  fv_0.800  fv_0.900  fv_1.000  \\\n",
       "0               0.229081  ...  0.002373  0.003109  0.003952  0.020796   \n",
       "1               2.330716  ...  0.016578  0.016578  0.016578  0.016578   \n",
       "2               1.617143  ...  0.007996  0.025253  0.025253  0.025253   \n",
       "3               1.079627  ...  0.003784  0.004687  0.005699  0.006732   \n",
       "4               0.484511  ...  0.003637  0.004392  0.005103  0.005843   \n",
       "..                   ...  ...       ...       ...       ...       ...   \n",
       "112             3.913317  ...  0.004070  0.005233  0.006501  0.008020   \n",
       "113             5.971041  ...  0.042084  0.049282  0.073633  0.090393   \n",
       "114             2.376345  ...  0.005868  0.007125  0.008576  0.009984   \n",
       "115             0.743738  ...  0.004868  0.006475  0.007957  0.010331   \n",
       "116             4.532853  ...  0.007681  0.009677  0.011311  0.012615   \n",
       "\n",
       "     fv_1.100  fv_1.200  fv_1.300  fv_1.400  fv_1.500  \\\n",
       "0    0.020796  0.020796  0.020796  0.020796  0.020796   \n",
       "1    0.016578  0.016578  0.016578  0.016578  0.016578   \n",
       "2    0.025253  0.025253  0.025253  0.025253  0.025253   \n",
       "3    0.008001  0.009375  0.010588  0.012007  0.013659   \n",
       "4    0.006612  0.007400  0.008247  0.009166  0.010080   \n",
       "..        ...       ...       ...       ...       ...   \n",
       "112  0.009660  0.011469  0.013433  0.015633  0.017899   \n",
       "113  0.113731  0.123220  0.125875  0.130491  0.132310   \n",
       "114  0.011469  0.012829  0.014321  0.016214  0.018686   \n",
       "115  0.014368  0.088360  0.088360  0.088360  0.088360   \n",
       "116  0.014568  0.016728  0.018783  0.021184  0.023399   \n",
       "\n",
       "                          multigroup  \n",
       "0                     bad_conductors  \n",
       "1    conductivity_only_on_high_temps  \n",
       "2    conductivity_only_on_high_temps  \n",
       "3                     bad_conductors  \n",
       "4                     bad_conductors  \n",
       "..                               ...  \n",
       "112                   bad_conductors  \n",
       "113     group A + three from group B  \n",
       "114                   bad_conductors  \n",
       "115                   bad_conductors  \n",
       "116                   bad_conductors  \n",
       "\n",
       "[116 rows x 700 columns]"
      ]
     },
     "execution_count": 14,
     "metadata": {},
     "output_type": "execute_result"
    }
   ],
   "source": [
    "df"
   ]
  },
  {
   "cell_type": "code",
   "execution_count": 8,
   "metadata": {},
   "outputs": [],
   "source": [
    "df.loc[(df['group'] == 'group_A'), 'multigroup'] = 'group A + three from group B'\n",
    "df.loc[(df['group'] == 'group_B'), 'multigroup'] = 'conductivity_only_on_high_temps'\n",
    "df.loc[(df['group'] == 'group_E'), 'multigroup'] = 'conductivity_only_on_high_temps'\n",
    "df.loc[(df['group'] == 'group_C'), 'multigroup'] = 'bad_conductors'"
   ]
  },
  {
   "cell_type": "code",
   "execution_count": 9,
   "metadata": {},
   "outputs": [],
   "source": [
    "df.drop(['stru_label', 'stru_id', 'group', 'is_good', 'temperature', 'diffusion_std_cm2_s', 'diffusion_sem_cm2_s', 'label', 'first_frame_structure'], axis = 1, inplace = True)"
   ]
  },
  {
   "cell_type": "code",
   "execution_count": null,
   "metadata": {},
   "outputs": [],
   "source": [
    "from sklearn.model_selection import train_test_split"
   ]
  },
  {
   "cell_type": "code",
   "execution_count": 15,
   "metadata": {},
   "outputs": [],
   "source": [
    "X, y = (df.drop(['multigroup'], axis=1).to_numpy(), df['multigroup'].to_numpy())\n",
    "scaler = StandardScaler()\n",
    "X_scaled = scaler.fit_transform(X)\n",
    "X_train, X_test, y_train, y_test = train_test_split(X_scaled, y, test_size=0.33, random_state=42)\n",
    "model = CatBoostClassifier(eval_metric='AUC', verbose = False)\n",
    "model.fit(X_train, y_train)\n",
    "y_pred = model.predict_proba(X_test)[:, 1]\n",
    "y_pred_tr = model.predict_proba(X_train)[:, 1]"
   ]
  },
  {
   "cell_type": "code",
   "execution_count": 18,
   "metadata": {},
   "outputs": [
    {
     "name": "stdout",
     "output_type": "stream",
     "text": [
      "['fv_1p0_disconnected', 'fv_1p0_connected', 'fv_1p0_WARNlowPES', 'fv_2p0_disconnected', 'fv_2p0_connected', 'fv_2p0_WARNlowPES', 'fv_3p0_disconnected', 'fv_3p0_connected', 'fv_3p0_WARNlowPES', 'fv_4p0_disconnected', 'fv_4p0_connected', 'fv_4p0_WARNlowPES', 'barrier', '0_ape_features_mode-structure_CAMN.npy', '1_ape_features_mode-structure_CAMN.npy', '2_ape_features_mode-structure_CAMN.npy', '3_ape_features_mode-structure_CAMN.npy', '4_ape_features_mode-structure_CAMN.npy', '5_bc_features_mode-structure_CAMN.npy', '11_bf_features_mode-structure_CAMN.npy', '12_bf_features_mode-structure_CAMN.npy', '13_bf_features_mode-structure_CAMN.npy', '19_bf_features_mode-structure_CAMN.npy', '20_bf_features_mode-structure_CAMN.npy', '21_bf_features_mode-structure_CAMN.npy', '26_bf_features_mode-structure_CAMN.npy', '27_bf_features_mode-structure_CAMN.npy', '28_bf_features_mode-structure_CAMN.npy', '31_bf_features_mode-structure_CAMN.npy', '32_bf_features_mode-structure_CAMN.npy', '33_bf_features_mode-structure_CAMN.npy', '35_bf_features_mode-structure_CAMN.npy', '36_bf_features_mode-structure_CAMN.npy', '37_bf_features_mode-structure_CAMN.npy', '40_bf_features_mode-structure_CAMN.npy', '43_bf_features_mode-structure_CAMN.npy', '44_bf_features_mode-structure_CAMN.npy', '45_bf_features_mode-structure_CAMN.npy', '46_bf_features_mode-structure_CAMN.npy', '47_bf_features_mode-structure_CAMN.npy', '49_density_features_mode-structure_CAMN.npy', '50_density_features_mode-structure_CAMN.npy', '51_density_features_mode-structure_CAMN.npy', '52_ee_features_mode-structure_CAMN.npy', '70_md_features_mode-structure_CAMN.npy', '73_md_features_mode-structure_CAMN.npy', '161_md_features_mode-structure_CAMN.npy', '162_md_features_mode-structure_CAMN.npy', '165_md_features_mode-structure_CAMN.npy', '167_md_features_mode-structure_CAMN.npy', '169_md_features_mode-structure_CAMN.npy', '171_md_features_mode-structure_CAMN.npy', '174_md_features_mode-structure_CAMN.npy', '175_md_features_mode-structure_CAMN.npy', '178_mpe_features_mode-structure_CAMN.npy', '179_os_features_mode-structure_CAMN.npy', '180_os_features_mode-structure_CAMN.npy', '181_os_features_mode-structure_CAMN.npy', '182_os_features_mode-structure_CAMN.npy', '283_sc_features_mode-structure.npy', '284_sc_features_mode-structure.npy', '285_scm_features_mode-structure.npy', '286_scm_features_mode-structure.npy', '287_scm_features_mode-structure.npy', '288_scm_features_mode-structure.npy', '289_scm_features_mode-structure.npy', '290_scm_features_mode-structure.npy', '291_scm_features_mode-structure.npy', '292_scm_features_mode-structure.npy', '293_scm_features_mode-structure.npy', '294_scm_features_mode-structure.npy', '295_scm_features_mode-structure.npy', '296_scm_features_mode-structure.npy', '297_scm_features_mode-structure.npy', '298_scm_features_mode-structure.npy', '299_scm_features_mode-structure.npy', '300_scm_features_mode-structure.npy', '301_scm_features_mode-structure.npy', '302_scm_features_mode-structure.npy', '303_scm_features_mode-structure.npy', '304_scm_features_mode-structure.npy', '305_scm_features_mode-structure.npy', '306_scm_features_mode-structure.npy', '307_scm_features_mode-structure.npy', '308_scm_features_mode-structure.npy', '309_scm_features_mode-structure.npy', '310_scm_features_mode-structure.npy', '311_scm_features_mode-structure.npy', '312_scm_features_mode-structure.npy', '313_scm_features_mode-structure.npy', '314_scm_features_mode-structure.npy', '315_scm_features_mode-structure.npy', '316_scm_features_mode-structure.npy', '317_scm_features_mode-structure.npy', '318_scm_features_mode-structure.npy', '319_scm_features_mode-structure.npy', '320_scm_features_mode-structure.npy', '321_scm_features_mode-structure.npy', '322_scm_features_mode-structure.npy', '323_scm_features_mode-structure.npy', '324_scm_features_mode-structure.npy', '325_scm_features_mode-structure.npy', '326_scm_features_mode-structure.npy', '327_scm_features_mode-structure.npy', '328_scm_features_mode-structure.npy', '329_scm_features_mode-structure.npy', '330_scm_features_mode-structure.npy', '331_scm_features_mode-structure.npy', '332_scm_features_mode-structure.npy', '333_scm_features_mode-structure.npy', '334_scm_features_mode-structure.npy', '335_scm_features_mode-structure.npy', '336_scm_features_mode-structure.npy', '337_scm_features_mode-structure.npy', '338_scm_features_mode-structure.npy', '339_scm_features_mode-structure.npy', '340_scm_features_mode-structure.npy', '341_scm_features_mode-structure.npy', '342_scm_features_mode-structure.npy', '343_scm_features_mode-structure.npy', '344_scm_features_mode-structure.npy', '345_scm_features_mode-structure.npy', '346_scm_features_mode-structure.npy', '347_scm_features_mode-structure.npy', '348_scm_features_mode-structure.npy', '349_scm_features_mode-structure.npy', '350_scm_features_mode-structure.npy', '351_scm_features_mode-structure.npy', '352_scm_features_mode-structure.npy', '353_scm_features_mode-structure.npy', '354_scm_features_mode-structure.npy', '355_scm_features_mode-structure.npy', '356_scm_features_mode-structure.npy', '357_scm_features_mode-structure.npy', '358_scm_features_mode-structure.npy', '359_scm_features_mode-structure.npy', '360_scm_features_mode-structure.npy', '361_scm_features_mode-structure.npy', '362_scm_features_mode-structure.npy', '363_scm_features_mode-structure.npy', '364_scm_features_mode-structure.npy', '365_scm_features_mode-structure.npy', '366_scm_features_mode-structure.npy', '367_scm_features_mode-structure.npy', '368_scm_features_mode-structure.npy', '369_scm_features_mode-structure.npy', '370_scm_features_mode-structure.npy', '371_scm_features_mode-structure.npy', '372_scm_features_mode-structure.npy', '373_scm_features_mode-structure.npy', '374_scm_features_mode-structure.npy', '375_scm_features_mode-structure.npy', '376_scm_features_mode-structure.npy', '377_scm_features_mode-structure.npy', '378_scm_features_mode-structure.npy', '379_scm_features_mode-structure.npy', '380_scm_features_mode-structure.npy', '381_scm_features_mode-structure.npy', '382_scm_features_mode-structure.npy', '383_scm_features_mode-structure.npy', '384_scm_features_mode-structure.npy', '385_scm_features_mode-structure.npy', '386_scm_features_mode-structure.npy', '387_scm_features_mode-structure.npy', '388_scm_features_mode-structure.npy', '389_scm_features_mode-structure.npy', '390_scm_features_mode-structure.npy', '391_scm_features_mode-structure.npy', '392_scm_features_mode-structure.npy', '393_scm_features_mode-structure.npy', '394_scm_features_mode-structure.npy', '395_scm_features_mode-structure.npy', '396_scm_features_mode-structure.npy', '397_scm_features_mode-structure.npy', '398_scm_features_mode-structure.npy', '399_scm_features_mode-structure.npy', '400_scm_features_mode-structure.npy', '401_scm_features_mode-structure.npy', '402_scm_features_mode-structure.npy', '403_scm_features_mode-structure.npy', '404_scm_features_mode-structure.npy', '405_scm_features_mode-structure.npy', '406_scm_features_mode-structure.npy', '407_scm_features_mode-structure.npy', '408_scm_features_mode-structure.npy', '409_scm_features_mode-structure.npy', '410_scm_features_mode-structure.npy', '411_scm_features_mode-structure.npy', '412_scm_features_mode-structure.npy', '413_scm_features_mode-structure.npy', '414_scm_features_mode-structure.npy', '415_scm_features_mode-structure.npy', '416_scm_features_mode-structure.npy', '417_scm_features_mode-structure.npy', '418_scm_features_mode-structure.npy', '419_scm_features_mode-structure.npy', '420_scm_features_mode-structure.npy', '421_scm_features_mode-structure.npy', '422_scm_features_mode-structure.npy', '423_scm_features_mode-structure.npy', '424_scm_features_mode-structure.npy', '425_scm_features_mode-structure.npy', '426_scm_features_mode-structure.npy', '427_scm_features_mode-structure.npy', '428_scm_features_mode-structure.npy', '429_scm_features_mode-structure.npy', '430_scm_features_mode-structure.npy', '431_scm_features_mode-structure.npy', '432_scm_features_mode-structure.npy', '433_scm_features_mode-structure.npy', '434_scm_features_mode-structure.npy', '435_scm_features_mode-structure.npy', '436_scm_features_mode-structure.npy', '437_scm_features_mode-structure.npy', '438_scm_features_mode-structure.npy', '439_scm_features_mode-structure.npy', '440_scm_features_mode-structure.npy', '441_scm_features_mode-structure.npy', '442_scm_features_mode-structure.npy', '443_scm_features_mode-structure.npy', '444_scm_features_mode-structure.npy', '445_vo_features_mode-structure.npy', '446_vo_features_mode-structure.npy', '447_vo_features_mode-structure.npy', '448_vo_features_mode-structure.npy', '449_vo_features_mode-structure.npy', '450_vo_features_mode-structure.npy', '451_vo_features_mode-structure.npy', '452_vo_features_mode-structure.npy', '453_xrd_features_pattern_length-451_mode-structure_CAMN.npy', '454_xrd_features_pattern_length-451_mode-structure_CAMN.npy', '455_xrd_features_pattern_length-451_mode-structure_CAMN.npy', '456_xrd_features_pattern_length-451_mode-structure_CAMN.npy', '457_xrd_features_pattern_length-451_mode-structure_CAMN.npy', '458_xrd_features_pattern_length-451_mode-structure_CAMN.npy', '459_xrd_features_pattern_length-451_mode-structure_CAMN.npy', '460_xrd_features_pattern_length-451_mode-structure_CAMN.npy', '461_xrd_features_pattern_length-451_mode-structure_CAMN.npy', '462_xrd_features_pattern_length-451_mode-structure_CAMN.npy', '463_xrd_features_pattern_length-451_mode-structure_CAMN.npy', '464_xrd_features_pattern_length-451_mode-structure_CAMN.npy', '465_xrd_features_pattern_length-451_mode-structure_CAMN.npy', '466_xrd_features_pattern_length-451_mode-structure_CAMN.npy', '467_xrd_features_pattern_length-451_mode-structure_CAMN.npy', '468_xrd_features_pattern_length-451_mode-structure_CAMN.npy', '469_xrd_features_pattern_length-451_mode-structure_CAMN.npy', '470_xrd_features_pattern_length-451_mode-structure_CAMN.npy', '471_xrd_features_pattern_length-451_mode-structure_CAMN.npy', '472_xrd_features_pattern_length-451_mode-structure_CAMN.npy', '473_xrd_features_pattern_length-451_mode-structure_CAMN.npy', '474_xrd_features_pattern_length-451_mode-structure_CAMN.npy', '475_xrd_features_pattern_length-451_mode-structure_CAMN.npy', '476_xrd_features_pattern_length-451_mode-structure_CAMN.npy', '477_xrd_features_pattern_length-451_mode-structure_CAMN.npy', '478_xrd_features_pattern_length-451_mode-structure_CAMN.npy', '479_xrd_features_pattern_length-451_mode-structure_CAMN.npy', '480_xrd_features_pattern_length-451_mode-structure_CAMN.npy', '481_xrd_features_pattern_length-451_mode-structure_CAMN.npy', '482_xrd_features_pattern_length-451_mode-structure_CAMN.npy', '483_xrd_features_pattern_length-451_mode-structure_CAMN.npy', '484_xrd_features_pattern_length-451_mode-structure_CAMN.npy', '485_xrd_features_pattern_length-451_mode-structure_CAMN.npy', '486_xrd_features_pattern_length-451_mode-structure_CAMN.npy', '487_xrd_features_pattern_length-451_mode-structure_CAMN.npy', '488_xrd_features_pattern_length-451_mode-structure_CAMN.npy', '489_xrd_features_pattern_length-451_mode-structure_CAMN.npy', '490_xrd_features_pattern_length-451_mode-structure_CAMN.npy', '491_xrd_features_pattern_length-451_mode-structure_CAMN.npy', '492_xrd_features_pattern_length-451_mode-structure_CAMN.npy', '493_xrd_features_pattern_length-451_mode-structure_CAMN.npy', '494_xrd_features_pattern_length-451_mode-structure_CAMN.npy', '495_xrd_features_pattern_length-451_mode-structure_CAMN.npy', '496_xrd_features_pattern_length-451_mode-structure_CAMN.npy', '497_xrd_features_pattern_length-451_mode-structure_CAMN.npy', '498_xrd_features_pattern_length-451_mode-structure_CAMN.npy', '499_xrd_features_pattern_length-451_mode-structure_CAMN.npy', '500_xrd_features_pattern_length-451_mode-structure_CAMN.npy', '501_xrd_features_pattern_length-451_mode-structure_CAMN.npy', '502_xrd_features_pattern_length-451_mode-structure_CAMN.npy', '503_xrd_features_pattern_length-451_mode-structure_CAMN.npy', '504_xrd_features_pattern_length-451_mode-structure_CAMN.npy', '505_xrd_features_pattern_length-451_mode-structure_CAMN.npy', '506_xrd_features_pattern_length-451_mode-structure_CAMN.npy', '507_xrd_features_pattern_length-451_mode-structure_CAMN.npy', '508_xrd_features_pattern_length-451_mode-structure_CAMN.npy', '509_xrd_features_pattern_length-451_mode-structure_CAMN.npy', '510_xrd_features_pattern_length-451_mode-structure_CAMN.npy', '511_xrd_features_pattern_length-451_mode-structure_CAMN.npy', '512_xrd_features_pattern_length-451_mode-structure_CAMN.npy', '513_xrd_features_pattern_length-451_mode-structure_CAMN.npy', '514_xrd_features_pattern_length-451_mode-structure_CAMN.npy', '515_xrd_features_pattern_length-451_mode-structure_CAMN.npy', '516_xrd_features_pattern_length-451_mode-structure_CAMN.npy', '517_xrd_features_pattern_length-451_mode-structure_CAMN.npy', '518_xrd_features_pattern_length-451_mode-structure_CAMN.npy', '519_xrd_features_pattern_length-451_mode-structure_CAMN.npy', '520_xrd_features_pattern_length-451_mode-structure_CAMN.npy', '521_xrd_features_pattern_length-451_mode-structure_CAMN.npy', '522_xrd_features_pattern_length-451_mode-structure_CAMN.npy', '523_xrd_features_pattern_length-451_mode-structure_CAMN.npy', '524_xrd_features_pattern_length-451_mode-structure_CAMN.npy', '525_xrd_features_pattern_length-451_mode-structure_CAMN.npy', '526_xrd_features_pattern_length-451_mode-structure_CAMN.npy', '527_xrd_features_pattern_length-451_mode-structure_CAMN.npy', '528_xrd_features_pattern_length-451_mode-structure_CAMN.npy', '529_xrd_features_pattern_length-451_mode-structure_CAMN.npy', '530_xrd_features_pattern_length-451_mode-structure_CAMN.npy', '531_xrd_features_pattern_length-451_mode-structure_CAMN.npy', '532_xrd_features_pattern_length-451_mode-structure_CAMN.npy', '533_xrd_features_pattern_length-451_mode-structure_CAMN.npy', '534_xrd_features_pattern_length-451_mode-structure_CAMN.npy', '535_xrd_features_pattern_length-451_mode-structure_CAMN.npy', '536_xrd_features_pattern_length-451_mode-structure_CAMN.npy', '537_xrd_features_pattern_length-451_mode-structure_CAMN.npy', '538_xrd_features_pattern_length-451_mode-structure_CAMN.npy', '539_xrd_features_pattern_length-451_mode-structure_CAMN.npy', '540_xrd_features_pattern_length-451_mode-structure_CAMN.npy', '541_xrd_features_pattern_length-451_mode-structure_CAMN.npy', '542_xrd_features_pattern_length-451_mode-structure_CAMN.npy', '543_xrd_features_pattern_length-451_mode-structure_CAMN.npy', '544_xrd_features_pattern_length-451_mode-structure_CAMN.npy', '545_xrd_features_pattern_length-451_mode-structure_CAMN.npy', '546_xrd_features_pattern_length-451_mode-structure_CAMN.npy', '547_xrd_features_pattern_length-451_mode-structure_CAMN.npy', '548_xrd_features_pattern_length-451_mode-structure_CAMN.npy', '549_xrd_features_pattern_length-451_mode-structure_CAMN.npy', '550_xrd_features_pattern_length-451_mode-structure_CAMN.npy', '551_xrd_features_pattern_length-451_mode-structure_CAMN.npy', '552_xrd_features_pattern_length-451_mode-structure_CAMN.npy', '553_xrd_features_pattern_length-451_mode-structure_CAMN.npy', '554_xrd_features_pattern_length-451_mode-structure_CAMN.npy', '555_xrd_features_pattern_length-451_mode-structure_CAMN.npy', '556_xrd_features_pattern_length-451_mode-structure_CAMN.npy', '557_xrd_features_pattern_length-451_mode-structure_CAMN.npy', '558_xrd_features_pattern_length-451_mode-structure_CAMN.npy', '559_xrd_features_pattern_length-451_mode-structure_CAMN.npy', '560_xrd_features_pattern_length-451_mode-structure_CAMN.npy', '561_xrd_features_pattern_length-451_mode-structure_CAMN.npy', '562_xrd_features_pattern_length-451_mode-structure_CAMN.npy', '563_xrd_features_pattern_length-451_mode-structure_CAMN.npy', '564_xrd_features_pattern_length-451_mode-structure_CAMN.npy', '565_xrd_features_pattern_length-451_mode-structure_CAMN.npy', '566_xrd_features_pattern_length-451_mode-structure_CAMN.npy', '567_xrd_features_pattern_length-451_mode-structure_CAMN.npy', '568_xrd_features_pattern_length-451_mode-structure_CAMN.npy', '569_xrd_features_pattern_length-451_mode-structure_CAMN.npy', '570_xrd_features_pattern_length-451_mode-structure_CAMN.npy', '571_xrd_features_pattern_length-451_mode-structure_CAMN.npy', '572_xrd_features_pattern_length-451_mode-structure_CAMN.npy', '573_xrd_features_pattern_length-451_mode-structure_CAMN.npy', '574_xrd_features_pattern_length-451_mode-structure_CAMN.npy', '575_xrd_features_pattern_length-451_mode-structure_CAMN.npy', '576_xrd_features_pattern_length-451_mode-structure_CAMN.npy', '577_xrd_features_pattern_length-451_mode-structure_CAMN.npy', '578_xrd_features_pattern_length-451_mode-structure_CAMN.npy', '579_xrd_features_pattern_length-451_mode-structure_CAMN.npy', '580_xrd_features_pattern_length-451_mode-structure_CAMN.npy', '581_xrd_features_pattern_length-451_mode-structure_CAMN.npy', '582_xrd_features_pattern_length-451_mode-structure_CAMN.npy', '583_xrd_features_pattern_length-451_mode-structure_CAMN.npy', '584_xrd_features_pattern_length-451_mode-structure_CAMN.npy', '585_xrd_features_pattern_length-451_mode-structure_CAMN.npy', '586_xrd_features_pattern_length-451_mode-structure_CAMN.npy', '587_xrd_features_pattern_length-451_mode-structure_CAMN.npy', '588_xrd_features_pattern_length-451_mode-structure_CAMN.npy', '589_xrd_features_pattern_length-451_mode-structure_CAMN.npy', '590_xrd_features_pattern_length-451_mode-structure_CAMN.npy', '591_xrd_features_pattern_length-451_mode-structure_CAMN.npy', '592_xrd_features_pattern_length-451_mode-structure_CAMN.npy', '593_xrd_features_pattern_length-451_mode-structure_CAMN.npy', '594_xrd_features_pattern_length-451_mode-structure_CAMN.npy', '595_xrd_features_pattern_length-451_mode-structure_CAMN.npy', '596_xrd_features_pattern_length-451_mode-structure_CAMN.npy', '597_xrd_features_pattern_length-451_mode-structure_CAMN.npy', '598_xrd_features_pattern_length-451_mode-structure_CAMN.npy', '599_xrd_features_pattern_length-451_mode-structure_CAMN.npy', '600_xrd_features_pattern_length-451_mode-structure_CAMN.npy', '601_xrd_features_pattern_length-451_mode-structure_CAMN.npy', '602_xrd_features_pattern_length-451_mode-structure_CAMN.npy', '603_xrd_features_pattern_length-451_mode-structure_CAMN.npy', '604_xrd_features_pattern_length-451_mode-structure_CAMN.npy', '605_xrd_features_pattern_length-451_mode-structure_CAMN.npy', '606_xrd_features_pattern_length-451_mode-structure_CAMN.npy', '607_xrd_features_pattern_length-451_mode-structure_CAMN.npy', '608_xrd_features_pattern_length-451_mode-structure_CAMN.npy', '609_xrd_features_pattern_length-451_mode-structure_CAMN.npy', '610_xrd_features_pattern_length-451_mode-structure_CAMN.npy', '611_xrd_features_pattern_length-451_mode-structure_CAMN.npy', '612_xrd_features_pattern_length-451_mode-structure_CAMN.npy', '613_xrd_features_pattern_length-451_mode-structure_CAMN.npy', '614_xrd_features_pattern_length-451_mode-structure_CAMN.npy', '615_xrd_features_pattern_length-451_mode-structure_CAMN.npy', '616_xrd_features_pattern_length-451_mode-structure_CAMN.npy', '617_xrd_features_pattern_length-451_mode-structure_CAMN.npy', '618_xrd_features_pattern_length-451_mode-structure_CAMN.npy', '619_xrd_features_pattern_length-451_mode-structure_CAMN.npy', '620_xrd_features_pattern_length-451_mode-structure_CAMN.npy', '621_xrd_features_pattern_length-451_mode-structure_CAMN.npy', '622_xrd_features_pattern_length-451_mode-structure_CAMN.npy', '623_xrd_features_pattern_length-451_mode-structure_CAMN.npy', '624_xrd_features_pattern_length-451_mode-structure_CAMN.npy', '625_xrd_features_pattern_length-451_mode-structure_CAMN.npy', '626_xrd_features_pattern_length-451_mode-structure_CAMN.npy', '627_xrd_features_pattern_length-451_mode-structure_CAMN.npy', '628_xrd_features_pattern_length-451_mode-structure_CAMN.npy', '629_xrd_features_pattern_length-451_mode-structure_CAMN.npy', '630_xrd_features_pattern_length-451_mode-structure_CAMN.npy', '631_xrd_features_pattern_length-451_mode-structure_CAMN.npy', '632_xrd_features_pattern_length-451_mode-structure_CAMN.npy', '633_xrd_features_pattern_length-451_mode-structure_CAMN.npy', '634_xrd_features_pattern_length-451_mode-structure_CAMN.npy', '635_xrd_features_pattern_length-451_mode-structure_CAMN.npy', '636_xrd_features_pattern_length-451_mode-structure_CAMN.npy', '637_xrd_features_pattern_length-451_mode-structure_CAMN.npy', '638_xrd_features_pattern_length-451_mode-structure_CAMN.npy', '639_xrd_features_pattern_length-451_mode-structure_CAMN.npy', '640_xrd_features_pattern_length-451_mode-structure_CAMN.npy', '641_xrd_features_pattern_length-451_mode-structure_CAMN.npy', '642_xrd_features_pattern_length-451_mode-structure_CAMN.npy', '643_xrd_features_pattern_length-451_mode-structure_CAMN.npy', '644_xrd_features_pattern_length-451_mode-structure_CAMN.npy', '645_xrd_features_pattern_length-451_mode-structure_CAMN.npy', '646_xrd_features_pattern_length-451_mode-structure_CAMN.npy', '647_xrd_features_pattern_length-451_mode-structure_CAMN.npy', '648_xrd_features_pattern_length-451_mode-structure_CAMN.npy', '649_xrd_features_pattern_length-451_mode-structure_CAMN.npy', '650_xrd_features_pattern_length-451_mode-structure_CAMN.npy', '651_xrd_features_pattern_length-451_mode-structure_CAMN.npy', '652_xrd_features_pattern_length-451_mode-structure_CAMN.npy', '653_xrd_features_pattern_length-451_mode-structure_CAMN.npy', '654_xrd_features_pattern_length-451_mode-structure_CAMN.npy', '655_xrd_features_pattern_length-451_mode-structure_CAMN.npy', '656_xrd_features_pattern_length-451_mode-structure_CAMN.npy', '657_xrd_features_pattern_length-451_mode-structure_CAMN.npy', '658_xrd_features_pattern_length-451_mode-structure_CAMN.npy', '659_xrd_features_pattern_length-451_mode-structure_CAMN.npy', '660_xrd_features_pattern_length-451_mode-structure_CAMN.npy', '661_xrd_features_pattern_length-451_mode-structure_CAMN.npy', '662_xrd_features_pattern_length-451_mode-structure_CAMN.npy', '663_xrd_features_pattern_length-451_mode-structure_CAMN.npy', '664_xrd_features_pattern_length-451_mode-structure_CAMN.npy', '665_xrd_features_pattern_length-451_mode-structure_CAMN.npy', '666_xrd_features_pattern_length-451_mode-structure_CAMN.npy', '667_xrd_features_pattern_length-451_mode-structure_CAMN.npy', '668_xrd_features_pattern_length-451_mode-structure_CAMN.npy', '669_xrd_features_pattern_length-451_mode-structure_CAMN.npy', '670_xrd_features_pattern_length-451_mode-structure_CAMN.npy', '671_xrd_features_pattern_length-451_mode-structure_CAMN.npy', '672_xrd_features_pattern_length-451_mode-structure_CAMN.npy', '673_xrd_features_pattern_length-451_mode-structure_CAMN.npy', '674_xrd_features_pattern_length-451_mode-structure_CAMN.npy', '675_xrd_features_pattern_length-451_mode-structure_CAMN.npy', '676_xrd_features_pattern_length-451_mode-structure_CAMN.npy', '677_xrd_features_pattern_length-451_mode-structure_CAMN.npy', '678_xrd_features_pattern_length-451_mode-structure_CAMN.npy', '679_xrd_features_pattern_length-451_mode-structure_CAMN.npy', '680_xrd_features_pattern_length-451_mode-structure_CAMN.npy', '681_xrd_features_pattern_length-451_mode-structure_CAMN.npy', '682_xrd_features_pattern_length-451_mode-structure_CAMN.npy', '683_xrd_features_pattern_length-451_mode-structure_CAMN.npy', '684_xrd_features_pattern_length-451_mode-structure_CAMN.npy', '685_xrd_features_pattern_length-451_mode-structure_CAMN.npy', '686_xrd_features_pattern_length-451_mode-structure_CAMN.npy', '687_xrd_features_pattern_length-451_mode-structure_CAMN.npy', '688_xrd_features_pattern_length-451_mode-structure_CAMN.npy', '689_xrd_features_pattern_length-451_mode-structure_CAMN.npy', '690_xrd_features_pattern_length-451_mode-structure_CAMN.npy', '691_xrd_features_pattern_length-451_mode-structure_CAMN.npy', '692_xrd_features_pattern_length-451_mode-structure_CAMN.npy', '693_xrd_features_pattern_length-451_mode-structure_CAMN.npy', '694_xrd_features_pattern_length-451_mode-structure_CAMN.npy', '695_xrd_features_pattern_length-451_mode-structure_CAMN.npy', '696_xrd_features_pattern_length-451_mode-structure_CAMN.npy', '697_xrd_features_pattern_length-451_mode-structure_CAMN.npy', '698_xrd_features_pattern_length-451_mode-structure_CAMN.npy', '699_xrd_features_pattern_length-451_mode-structure_CAMN.npy', '700_xrd_features_pattern_length-451_mode-structure_CAMN.npy', '701_xrd_features_pattern_length-451_mode-structure_CAMN.npy', '702_xrd_features_pattern_length-451_mode-structure_CAMN.npy', '703_xrd_features_pattern_length-451_mode-structure_CAMN.npy', '704_xrd_features_pattern_length-451_mode-structure_CAMN.npy', '705_xrd_features_pattern_length-451_mode-structure_CAMN.npy', '706_xrd_features_pattern_length-451_mode-structure_CAMN.npy', '707_xrd_features_pattern_length-451_mode-structure_CAMN.npy', '708_xrd_features_pattern_length-451_mode-structure_CAMN.npy', '709_xrd_features_pattern_length-451_mode-structure_CAMN.npy', '710_xrd_features_pattern_length-451_mode-structure_CAMN.npy', '711_xrd_features_pattern_length-451_mode-structure_CAMN.npy', '712_xrd_features_pattern_length-451_mode-structure_CAMN.npy', '713_xrd_features_pattern_length-451_mode-structure_CAMN.npy', '714_xrd_features_pattern_length-451_mode-structure_CAMN.npy', '715_xrd_features_pattern_length-451_mode-structure_CAMN.npy', '716_xrd_features_pattern_length-451_mode-structure_CAMN.npy', '717_xrd_features_pattern_length-451_mode-structure_CAMN.npy', '718_xrd_features_pattern_length-451_mode-structure_CAMN.npy', '719_xrd_features_pattern_length-451_mode-structure_CAMN.npy', '720_xrd_features_pattern_length-451_mode-structure_CAMN.npy', '721_xrd_features_pattern_length-451_mode-structure_CAMN.npy', '722_xrd_features_pattern_length-451_mode-structure_CAMN.npy', '723_xrd_features_pattern_length-451_mode-structure_CAMN.npy', '724_xrd_features_pattern_length-451_mode-structure_CAMN.npy', '725_xrd_features_pattern_length-451_mode-structure_CAMN.npy', '726_xrd_features_pattern_length-451_mode-structure_CAMN.npy', '727_xrd_features_pattern_length-451_mode-structure_CAMN.npy', '728_xrd_features_pattern_length-451_mode-structure_CAMN.npy', '729_xrd_features_pattern_length-451_mode-structure_CAMN.npy', '730_xrd_features_pattern_length-451_mode-structure_CAMN.npy', '731_xrd_features_pattern_length-451_mode-structure_CAMN.npy', '732_xrd_features_pattern_length-451_mode-structure_CAMN.npy', '733_xrd_features_pattern_length-451_mode-structure_CAMN.npy', '734_xrd_features_pattern_length-451_mode-structure_CAMN.npy', '735_xrd_features_pattern_length-451_mode-structure_CAMN.npy', '736_xrd_features_pattern_length-451_mode-structure_CAMN.npy', '737_xrd_features_pattern_length-451_mode-structure_CAMN.npy', '738_xrd_features_pattern_length-451_mode-structure_CAMN.npy', '739_xrd_features_pattern_length-451_mode-structure_CAMN.npy', '740_xrd_features_pattern_length-451_mode-structure_CAMN.npy', '741_xrd_features_pattern_length-451_mode-structure_CAMN.npy', '742_xrd_features_pattern_length-451_mode-structure_CAMN.npy', '743_xrd_features_pattern_length-451_mode-structure_CAMN.npy', '744_xrd_features_pattern_length-451_mode-structure_CAMN.npy', '745_xrd_features_pattern_length-451_mode-structure_CAMN.npy', '746_xrd_features_pattern_length-451_mode-structure_CAMN.npy', '747_xrd_features_pattern_length-451_mode-structure_CAMN.npy', '748_xrd_features_pattern_length-451_mode-structure_CAMN.npy', '749_xrd_features_pattern_length-451_mode-structure_CAMN.npy', '750_xrd_features_pattern_length-451_mode-structure_CAMN.npy', '751_xrd_features_pattern_length-451_mode-structure_CAMN.npy', '752_xrd_features_pattern_length-451_mode-structure_CAMN.npy', '753_xrd_features_pattern_length-451_mode-structure_CAMN.npy', '754_xrd_features_pattern_length-451_mode-structure_CAMN.npy', '755_xrd_features_pattern_length-451_mode-structure_CAMN.npy', '756_xrd_features_pattern_length-451_mode-structure_CAMN.npy', '757_xrd_features_pattern_length-451_mode-structure_CAMN.npy', '758_xrd_features_pattern_length-451_mode-structure_CAMN.npy', '759_xrd_features_pattern_length-451_mode-structure_CAMN.npy', '760_xrd_features_pattern_length-451_mode-structure_CAMN.npy', '761_xrd_features_pattern_length-451_mode-structure_CAMN.npy', '762_xrd_features_pattern_length-451_mode-structure_CAMN.npy', '763_xrd_features_pattern_length-451_mode-structure_CAMN.npy', '764_xrd_features_pattern_length-451_mode-structure_CAMN.npy', '765_xrd_features_pattern_length-451_mode-structure_CAMN.npy', '766_xrd_features_pattern_length-451_mode-structure_CAMN.npy', '767_xrd_features_pattern_length-451_mode-structure_CAMN.npy', '768_xrd_features_pattern_length-451_mode-structure_CAMN.npy', '769_xrd_features_pattern_length-451_mode-structure_CAMN.npy', '770_xrd_features_pattern_length-451_mode-structure_CAMN.npy', '771_xrd_features_pattern_length-451_mode-structure_CAMN.npy', '772_xrd_features_pattern_length-451_mode-structure_CAMN.npy', '773_xrd_features_pattern_length-451_mode-structure_CAMN.npy', '774_xrd_features_pattern_length-451_mode-structure_CAMN.npy', '775_xrd_features_pattern_length-451_mode-structure_CAMN.npy', '776_xrd_features_pattern_length-451_mode-structure_CAMN.npy', '777_xrd_features_pattern_length-451_mode-structure_CAMN.npy', '778_xrd_features_pattern_length-451_mode-structure_CAMN.npy', '779_xrd_features_pattern_length-451_mode-structure_CAMN.npy', '780_xrd_features_pattern_length-451_mode-structure_CAMN.npy', '781_xrd_features_pattern_length-451_mode-structure_CAMN.npy', '782_xrd_features_pattern_length-451_mode-structure_CAMN.npy', '783_xrd_features_pattern_length-451_mode-structure_CAMN.npy', '784_xrd_features_pattern_length-451_mode-structure_CAMN.npy', '785_xrd_features_pattern_length-451_mode-structure_CAMN.npy', '786_xrd_features_pattern_length-451_mode-structure_CAMN.npy', '787_xrd_features_pattern_length-451_mode-structure_CAMN.npy', '788_xrd_features_pattern_length-451_mode-structure_CAMN.npy', '789_xrd_features_pattern_length-451_mode-structure_CAMN.npy', '790_xrd_features_pattern_length-451_mode-structure_CAMN.npy', '791_xrd_features_pattern_length-451_mode-structure_CAMN.npy', '792_xrd_features_pattern_length-451_mode-structure_CAMN.npy', '793_xrd_features_pattern_length-451_mode-structure_CAMN.npy', '794_xrd_features_pattern_length-451_mode-structure_CAMN.npy', '795_xrd_features_pattern_length-451_mode-structure_CAMN.npy', '796_xrd_features_pattern_length-451_mode-structure_CAMN.npy', '797_xrd_features_pattern_length-451_mode-structure_CAMN.npy', '798_xrd_features_pattern_length-451_mode-structure_CAMN.npy', '799_xrd_features_pattern_length-451_mode-structure_CAMN.npy', '800_xrd_features_pattern_length-451_mode-structure_CAMN.npy', '801_xrd_features_pattern_length-451_mode-structure_CAMN.npy', '802_xrd_features_pattern_length-451_mode-structure_CAMN.npy', '803_xrd_features_pattern_length-451_mode-structure_CAMN.npy', '804_xrd_features_pattern_length-451_mode-structure_CAMN.npy', '805_xrd_features_pattern_length-451_mode-structure_CAMN.npy', '806_xrd_features_pattern_length-451_mode-structure_CAMN.npy', '807_xrd_features_pattern_length-451_mode-structure_CAMN.npy', '808_xrd_features_pattern_length-451_mode-structure_CAMN.npy', '809_xrd_features_pattern_length-451_mode-structure_CAMN.npy', '810_xrd_features_pattern_length-451_mode-structure_CAMN.npy', '811_xrd_features_pattern_length-451_mode-structure_CAMN.npy', '812_xrd_features_pattern_length-451_mode-structure_CAMN.npy', '813_xrd_features_pattern_length-451_mode-structure_CAMN.npy', '814_xrd_features_pattern_length-451_mode-structure_CAMN.npy', '815_xrd_features_pattern_length-451_mode-structure_CAMN.npy', '816_xrd_features_pattern_length-451_mode-structure_CAMN.npy', '817_xrd_features_pattern_length-451_mode-structure_CAMN.npy', '818_xrd_features_pattern_length-451_mode-structure_CAMN.npy', '819_xrd_features_pattern_length-451_mode-structure_CAMN.npy', '820_xrd_features_pattern_length-451_mode-structure_CAMN.npy', '821_xrd_features_pattern_length-451_mode-structure_CAMN.npy', '822_xrd_features_pattern_length-451_mode-structure_CAMN.npy', '823_xrd_features_pattern_length-451_mode-structure_CAMN.npy', '824_xrd_features_pattern_length-451_mode-structure_CAMN.npy', '825_xrd_features_pattern_length-451_mode-structure_CAMN.npy', '826_xrd_features_pattern_length-451_mode-structure_CAMN.npy', '827_xrd_features_pattern_length-451_mode-structure_CAMN.npy', '828_xrd_features_pattern_length-451_mode-structure_CAMN.npy', '829_xrd_features_pattern_length-451_mode-structure_CAMN.npy', '830_xrd_features_pattern_length-451_mode-structure_CAMN.npy', '831_xrd_features_pattern_length-451_mode-structure_CAMN.npy', '832_xrd_features_pattern_length-451_mode-structure_CAMN.npy', '833_xrd_features_pattern_length-451_mode-structure_CAMN.npy', '834_xrd_features_pattern_length-451_mode-structure_CAMN.npy', '835_xrd_features_pattern_length-451_mode-structure_CAMN.npy', '836_xrd_features_pattern_length-451_mode-structure_CAMN.npy', '837_xrd_features_pattern_length-451_mode-structure_CAMN.npy', '838_xrd_features_pattern_length-451_mode-structure_CAMN.npy', '839_xrd_features_pattern_length-451_mode-structure_CAMN.npy', '840_xrd_features_pattern_length-451_mode-structure_CAMN.npy', '841_xrd_features_pattern_length-451_mode-structure_CAMN.npy', '842_xrd_features_pattern_length-451_mode-structure_CAMN.npy', '843_xrd_features_pattern_length-451_mode-structure_CAMN.npy', '844_xrd_features_pattern_length-451_mode-structure_CAMN.npy', '845_xrd_features_pattern_length-451_mode-structure_CAMN.npy', '846_xrd_features_pattern_length-451_mode-structure_CAMN.npy', '847_xrd_features_pattern_length-451_mode-structure_CAMN.npy', '848_xrd_features_pattern_length-451_mode-structure_CAMN.npy', '849_xrd_features_pattern_length-451_mode-structure_CAMN.npy', '850_xrd_features_pattern_length-451_mode-structure_CAMN.npy', '851_xrd_features_pattern_length-451_mode-structure_CAMN.npy', '852_xrd_features_pattern_length-451_mode-structure_CAMN.npy', '853_xrd_features_pattern_length-451_mode-structure_CAMN.npy', '854_xrd_features_pattern_length-451_mode-structure_CAMN.npy', '855_xrd_features_pattern_length-451_mode-structure_CAMN.npy', '856_xrd_features_pattern_length-451_mode-structure_CAMN.npy', '857_xrd_features_pattern_length-451_mode-structure_CAMN.npy', '858_xrd_features_pattern_length-451_mode-structure_CAMN.npy', '859_xrd_features_pattern_length-451_mode-structure_CAMN.npy', '860_xrd_features_pattern_length-451_mode-structure_CAMN.npy', '861_xrd_features_pattern_length-451_mode-structure_CAMN.npy', '862_xrd_features_pattern_length-451_mode-structure_CAMN.npy', '863_xrd_features_pattern_length-451_mode-structure_CAMN.npy', '864_xrd_features_pattern_length-451_mode-structure_CAMN.npy', '865_xrd_features_pattern_length-451_mode-structure_CAMN.npy', '866_xrd_features_pattern_length-451_mode-structure_CAMN.npy', '867_xrd_features_pattern_length-451_mode-structure_CAMN.npy', '868_xrd_features_pattern_length-451_mode-structure_CAMN.npy', '869_xrd_features_pattern_length-451_mode-structure_CAMN.npy', '870_xrd_features_pattern_length-451_mode-structure_CAMN.npy', '871_xrd_features_pattern_length-451_mode-structure_CAMN.npy', '872_xrd_features_pattern_length-451_mode-structure_CAMN.npy', '873_xrd_features_pattern_length-451_mode-structure_CAMN.npy', '874_xrd_features_pattern_length-451_mode-structure_CAMN.npy', '875_xrd_features_pattern_length-451_mode-structure_CAMN.npy', '876_xrd_features_pattern_length-451_mode-structure_CAMN.npy', '877_xrd_features_pattern_length-451_mode-structure_CAMN.npy', '878_xrd_features_pattern_length-451_mode-structure_CAMN.npy', '879_xrd_features_pattern_length-451_mode-structure_CAMN.npy', '880_xrd_features_pattern_length-451_mode-structure_CAMN.npy', '881_xrd_features_pattern_length-451_mode-structure_CAMN.npy', '882_xrd_features_pattern_length-451_mode-structure_CAMN.npy', '883_xrd_features_pattern_length-451_mode-structure_CAMN.npy', '884_xrd_features_pattern_length-451_mode-structure_CAMN.npy', '885_xrd_features_pattern_length-451_mode-structure_CAMN.npy', '886_xrd_features_pattern_length-451_mode-structure_CAMN.npy', '887_xrd_features_pattern_length-451_mode-structure_CAMN.npy', '888_xrd_features_pattern_length-451_mode-structure_CAMN.npy', '889_xrd_features_pattern_length-451_mode-structure_CAMN.npy', '890_xrd_features_pattern_length-451_mode-structure_CAMN.npy', '891_xrd_features_pattern_length-451_mode-structure_CAMN.npy', '892_xrd_features_pattern_length-451_mode-structure_CAMN.npy', '893_xrd_features_pattern_length-451_mode-structure_CAMN.npy', '894_xrd_features_pattern_length-451_mode-structure_CAMN.npy', '895_xrd_features_pattern_length-451_mode-structure_CAMN.npy', '896_xrd_features_pattern_length-451_mode-structure_CAMN.npy', '897_xrd_features_pattern_length-451_mode-structure_CAMN.npy', '898_xrd_features_pattern_length-451_mode-structure_CAMN.npy', '899_xrd_features_pattern_length-451_mode-structure_CAMN.npy', '900_xrd_features_pattern_length-451_mode-structure_CAMN.npy', '901_xrd_features_pattern_length-451_mode-structure_CAMN.npy', '902_xrd_features_pattern_length-451_mode-structure_CAMN.npy', '903_xrd_features_pattern_length-451_mode-structure_CAMN.npy', 'fv_0.100', 'fv_0.200', 'fv_0.300', 'fv_0.400', 'fv_0.500', 'fv_0.600', 'fv_0.700', 'fv_0.800', 'fv_0.900', 'fv_1.000', 'fv_1.100', 'fv_1.200', 'fv_1.300', 'fv_1.400', 'fv_1.500', 'multigroup']\n"
     ]
    }
   ],
   "source": [
    "print(df.columns.to_list())"
   ]
  }
 ],
 "metadata": {
  "kernelspec": {
   "display_name": "Python 3",
   "language": "python",
   "name": "python3"
  },
  "language_info": {
   "codemirror_mode": {
    "name": "ipython",
    "version": 3
   },
   "file_extension": ".py",
   "mimetype": "text/x-python",
   "name": "python",
   "nbconvert_exporter": "python",
   "pygments_lexer": "ipython3",
   "version": "3.8.10"
  },
  "orig_nbformat": 4
 },
 "nbformat": 4,
 "nbformat_minor": 2
}
