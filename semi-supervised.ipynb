{
 "cells": [
  {
   "cell_type": "code",
   "execution_count": 5,
   "metadata": {},
   "outputs": [],
   "source": [
    "import math\n",
    "from training_functions import *\n",
    "from merging import *\n",
    "\n",
    "from sklearn.semi_supervised import LabelPropagation\n",
    "from sklearn.semi_supervised import LabelSpreading"
   ]
  },
  {
   "cell_type": "code",
   "execution_count": 2,
   "metadata": {},
   "outputs": [],
   "source": [
    "df_mpdb_plane, cnt_and_name_features_mpdb = get_featurizers_features_mpdb()\n",
    "df_kahle_fin, cnt_and_name_features_kahle = get_featurizers_features()\n"
   ]
  },
  {
   "cell_type": "code",
   "execution_count": 13,
   "metadata": {},
   "outputs": [],
   "source": [
    "X_mpdb = df_mpdb_plane.drop([ \n",
    "     'formula_pretty',\n",
    "     'material_id', \n",
    " ], axis=1)\n",
    "\n",
    "\n",
    "X = df_kahle_fin.drop([ \n",
    "    'stru_label',\n",
    "     'stru_id', \n",
    "     'group', \n",
    "     'structure', \n",
    "     'diffusion_mean_cm2_s', \n",
    "     'label', \n",
    "     'src_id', \n",
    "     'diffusion_sem_cm2_s', \n",
    "     'n_Li', \n",
    "     'sigma_S_cm', \n",
    "     'sigma_S_cm_sem', \n",
    "     'sigma_S_cm_err'\n",
    " ], axis=1)\n",
    "\n",
    "\n",
    "feature_names = X.columns.tolist()\n",
    "\n"
   ]
  },
  {
   "cell_type": "code",
   "execution_count": 15,
   "metadata": {},
   "outputs": [],
   "source": [
    "X = X.to_numpy()\n",
    "X_mpdb = X_mpdb.to_numpy()\n",
    "\n",
    "\n",
    "feature_names = np.array(feature_names)[~np.all(X == 0, axis=0)]\n",
    "\n",
    "X_mpdb = X_mpdb[:, ~np.all(X == 0, axis=0)]\n",
    "\n",
    "X = X[:, ~np.all(X == 0, axis=0)]\n",
    "\n",
    "feature_weights = [1 / cnt_and_name_features_kahle['_'.join(x.split('_')[1:])] for x in feature_names]"
   ]
  },
  {
   "cell_type": "code",
   "execution_count": 20,
   "metadata": {},
   "outputs": [],
   "source": [
    "y = (df_kahle_fin['sigma_S_cm'] >= 1e-1).to_numpy()"
   ]
  },
  {
   "cell_type": "code",
   "execution_count": 48,
   "metadata": {},
   "outputs": [],
   "source": [
    "data = np.concatenate((X, X_mpdb), axis = 0)\n",
    "labels = np.concatenate((y, -np.ones(X_mpdb.shape[0])), axis = 0)"
   ]
  },
  {
   "cell_type": "code",
   "execution_count": 55,
   "metadata": {},
   "outputs": [],
   "source": [
    "label_prop_model = LabelSpreading(kernel='knn', tol=0.01, gamma=2)\n",
    "label_prop_model.fit(data, labels);"
   ]
  },
  {
   "cell_type": "code",
   "execution_count": 56,
   "metadata": {},
   "outputs": [
    {
     "name": "stderr",
     "output_type": "stream",
     "text": [
      "/usr/local/lib/python3.8/site-packages/sklearn/semi_supervised/_label_propagation.py:230: RuntimeWarning: invalid value encountered in divide\n",
      "  probabilities /= normalizer\n"
     ]
    }
   ],
   "source": [
    "predictions = label_prop_model.predict_proba(X_mpdb)"
   ]
  },
  {
   "cell_type": "code",
   "execution_count": 59,
   "metadata": {},
   "outputs": [],
   "source": [
    "label_prop_model = LabelPropagation(kernel='rbf', tol=0.01, gamma= 1e-99)\n",
    "label_prop_model.fit(data, labels);\n",
    "\n",
    "predictions = label_prop_model.predict_proba(X_mpdb)"
   ]
  }
 ],
 "metadata": {
  "kernelspec": {
   "display_name": "Python 3",
   "language": "python",
   "name": "python3"
  },
  "language_info": {
   "codemirror_mode": {
    "name": "ipython",
    "version": 3
   },
   "file_extension": ".py",
   "mimetype": "text/x-python",
   "name": "python",
   "nbconvert_exporter": "python",
   "pygments_lexer": "ipython3",
   "version": "3.8.10"
  }
 },
 "nbformat": 4,
 "nbformat_minor": 2
}
