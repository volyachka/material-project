{
 "cells": [
  {
   "cell_type": "code",
   "execution_count": 2,
   "metadata": {},
   "outputs": [],
   "source": [
    "from multiprocessing import set_start_method\n",
    "# set_start_method(\"spawn\")\n",
    "\n",
    "import os\n",
    "import pickle\n",
    "import numpy as np\n",
    "from numpy import nan as Nan\n",
    "import pandas as pd\n",
    "\n",
    "from ase import atoms\n",
    "from ase.io import read, write\n",
    "from dscribe.descriptors import SOAP\n",
    "import matminer.featurizers.composition as mm_composition\n",
    "import matminer.featurizers.structure as mm_structure\n",
    "import pymatgen as mg\n",
    "from pymatgen.io import ase\n",
    "from pymatgen.io.cif import CifParser\n",
    "from pymatgen.io.cif import CifWriter\n",
    "\n",
    "from tqdm import notebook as tqdm\n",
    "from tqdm.auto import tqdm as tqdm_pandas\n",
    "tqdm_pandas.pandas()\n",
    "\n",
    "AAA = ase.AseAtomsAdaptor\n",
    "\n",
    "# # CAVD imports, comment out when using 3.7\n",
    "from numpy import nan as NaN\n",
    "from monty.io import zopen\n",
    "# from cavd.channel import Channel\n",
    "# from cavd.netstorage import AtomNetwork, connection_values_list\n",
    "# from cavd.local_environment import CifParser_new, LocalEnvirCom\n",
    "import re"
   ]
  },
  {
   "cell_type": "markdown",
   "metadata": {},
   "source": [
    "### 3a. Load the structures_df from the saved pickle\n",
    "\n",
    "The structures_df already contains the eight simplifications plus the original structure. Thus there are nine unique representations. "
   ]
  },
  {
   "cell_type": "code",
   "execution_count": 33,
   "metadata": {},
   "outputs": [],
   "source": [
    "save_path = os.path.join(os.getcwd(), 'groups_and_oxi_states_5_frames/df_step_3.pkl')\n",
    "open_file = open(save_path, 'rb')\n",
    "structures_df = pickle.load(open_file)\n",
    "open_file.close()"
   ]
  },
  {
   "cell_type": "code",
   "execution_count": 34,
   "metadata": {},
   "outputs": [],
   "source": [
    "structures_df['structure'] = structures_df['stru_traj']"
   ]
  },
  {
   "cell_type": "markdown",
   "metadata": {},
   "source": [
    "## 3a. Initialize the Feature_Creator class"
   ]
  },
  {
   "cell_type": "code",
   "execution_count": 35,
   "metadata": {},
   "outputs": [],
   "source": [
    "# for full model\n",
    "from featurizer import Feature_Creator\n",
    "path = 'groups_and_oxi_states_5_frames/df_step_3/features'\n",
    "fc = Feature_Creator(structures_df, path)"
   ]
  },
  {
   "cell_type": "markdown",
   "metadata": {},
   "source": [
    "## 3b. Make sure the 9 modes are working correctly\n",
    "Check to see that the correct atoms are in each mode. "
   ]
  },
  {
   "cell_type": "code",
   "execution_count": 36,
   "metadata": {},
   "outputs": [],
   "source": [
    "# for mode in fc.mode_list:\n",
    "#     fc.calculate_unique_atoms(mode)\n",
    "#     print(\"{} contains {}\".format(mode, fc.unique_atoms))"
   ]
  },
  {
   "cell_type": "markdown",
   "metadata": {
    "tags": []
   },
   "source": [
    "##  3c. Run featurizers as needed\n",
    "***\n",
    "All featurizers require the user to specify which 'mode' is used. The modes tell the class which column of the dataframe to apply the featurizer to. The valid modes are:\n",
    "\n",
    "* structure\n",
    "* structure_A\n",
    "* structure_AM\n",
    "* structure_CAN\n",
    "* structure_CAMN\n",
    "* structure_A40\n",
    "* structure_AM40\n",
    "* structure_CAN40\n",
    "* structure_CAMN40\n",
    "***\n",
    "A few of the featurizers require additional paramaters. The paramaters are discussed in more detail below.\n",
    "\n",
    "* __Global Instability Index__: rcut_list\n",
    "* __Radial Distribution Function__: cutoff_list\n",
    "* __Smooth Overlap of Atomic Positions (SOAP)__: rcut_list, nmax_list, lmax_list, average\n",
    "* __Xray Diffraction__: pattern_length_list"
   ]
  },
  {
   "cell_type": "markdown",
   "metadata": {},
   "source": [
    "### Featurizer: Atomic Packing Efficiency "
   ]
  },
  {
   "cell_type": "code",
   "execution_count": 37,
   "metadata": {},
   "outputs": [],
   "source": [
    "# import os\n",
    "# for i in range(5):\n",
    "#     directory = os.path.join('groups_and_oxi_states_5_frames', f'df_step_{i}', 'features')\n",
    "#     if not os.path.exists(directory):\n",
    "#         os.makedirs(directory)"
   ]
  },
  {
   "cell_type": "code",
   "execution_count": 38,
   "metadata": {},
   "outputs": [
    {
     "data": {
      "application/vnd.jupyter.widget-view+json": {
       "model_id": "3f2970cfb96f40f8a6833761351f3973",
       "version_major": 2,
       "version_minor": 0
      },
      "text/plain": [
       "  0%|          | 0/121 [00:00<?, ?it/s]"
      ]
     },
     "metadata": {},
     "output_type": "display_data"
    }
   ],
   "source": [
    "fc.run_atomic_packing_efficiency_featurizer('structure_CAMN')"
   ]
  },
  {
   "cell_type": "markdown",
   "metadata": {},
   "source": [
    "### Featurizer: Band Center"
   ]
  },
  {
   "cell_type": "code",
   "execution_count": 39,
   "metadata": {},
   "outputs": [
    {
     "data": {
      "application/vnd.jupyter.widget-view+json": {
       "model_id": "2541cba58a834c89bed543659cc917fb",
       "version_major": 2,
       "version_minor": 0
      },
      "text/plain": [
       "  0%|          | 0/121 [00:00<?, ?it/s]"
      ]
     },
     "metadata": {},
     "output_type": "display_data"
    }
   ],
   "source": [
    "fc.run_band_center_featurizer('structure_CAMN')"
   ]
  },
  {
   "cell_type": "markdown",
   "metadata": {},
   "source": [
    "### Featurizer: Bond Fraction"
   ]
  },
  {
   "cell_type": "code",
   "execution_count": 40,
   "metadata": {},
   "outputs": [
    {
     "data": {
      "application/vnd.jupyter.widget-view+json": {
       "model_id": "cc2b64bc3eee48b8bb75b4e3fb65eae5",
       "version_major": 2,
       "version_minor": 0
      },
      "text/plain": [
       "BondFractions:   0%|          | 0/121 [00:00<?, ?it/s]"
      ]
     },
     "metadata": {},
     "output_type": "display_data"
    }
   ],
   "source": [
    "fc.run_bond_fraction_featurizer('structure_CAMN')"
   ]
  },
  {
   "cell_type": "markdown",
   "metadata": {},
   "source": [
    "### Featurizer: Chemical Ordering"
   ]
  },
  {
   "cell_type": "code",
   "execution_count": 41,
   "metadata": {},
   "outputs": [
    {
     "data": {
      "application/vnd.jupyter.widget-view+json": {
       "model_id": "e74b7ea22cb644ac8adca41d63d171a5",
       "version_major": 2,
       "version_minor": 0
      },
      "text/plain": [
       "ChemicalOrdering:   0%|          | 0/121 [00:00<?, ?it/s]"
      ]
     },
     "metadata": {},
     "output_type": "display_data"
    }
   ],
   "source": [
    "fc.run_chemical_ordering_featurizer('structure_CAMN')"
   ]
  },
  {
   "cell_type": "markdown",
   "metadata": {},
   "source": [
    "### Featurizer: Density"
   ]
  },
  {
   "cell_type": "code",
   "execution_count": 42,
   "metadata": {},
   "outputs": [
    {
     "data": {
      "application/vnd.jupyter.widget-view+json": {
       "model_id": "80c4643b02d6441ab60fc31b28c52441",
       "version_major": 2,
       "version_minor": 0
      },
      "text/plain": [
       "DensityFeatures:   0%|          | 0/121 [00:00<?, ?it/s]"
      ]
     },
     "metadata": {},
     "output_type": "display_data"
    }
   ],
   "source": [
    "fc.run_density_featurizer('structure_CAMN')"
   ]
  },
  {
   "cell_type": "markdown",
   "metadata": {},
   "source": [
    "### Featurizer: Electron Negativity Difference"
   ]
  },
  {
   "cell_type": "code",
   "execution_count": 43,
   "metadata": {},
   "outputs": [
    {
     "data": {
      "application/vnd.jupyter.widget-view+json": {
       "model_id": "62abf00bcf154b14964d04e1c3ceb8df",
       "version_major": 2,
       "version_minor": 0
      },
      "text/plain": [
       "  0%|          | 0/121 [00:00<?, ?it/s]"
      ]
     },
     "metadata": {},
     "output_type": "display_data"
    }
   ],
   "source": [
    "fc.run_electron_negativity_difference_featurizer('structure')"
   ]
  },
  {
   "cell_type": "markdown",
   "metadata": {},
   "source": [
    "### Featurizer: Ewald Energy"
   ]
  },
  {
   "cell_type": "code",
   "execution_count": 44,
   "metadata": {},
   "outputs": [
    {
     "data": {
      "application/vnd.jupyter.widget-view+json": {
       "model_id": "b47fc65c3f984daa90a33f6ded9c4170",
       "version_major": 2,
       "version_minor": 0
      },
      "text/plain": [
       "EwaldEnergy:   0%|          | 0/121 [00:00<?, ?it/s]"
      ]
     },
     "metadata": {},
     "output_type": "display_data"
    }
   ],
   "source": [
    "fc.run_ewald_energy_featurizer('structure_CAMN')"
   ]
  },
  {
   "cell_type": "markdown",
   "metadata": {},
   "source": [
    "### Featurizer: Global Instability Index\n",
    "\n",
    "Pass in a list of rcut values. The function will iterate over the list generating a feature file for each entry. "
   ]
  },
  {
   "cell_type": "code",
   "execution_count": 45,
   "metadata": {},
   "outputs": [
    {
     "name": "stderr",
     "output_type": "stream",
     "text": [
      "/home/container-user/.local/lib/python3.8/site-packages/matminer/utils/data.py:503: ParserWarning: Length of header or names does not match length of data. This leads to a loss of data with index_col=False.\n",
      "  self.params = pd.read_csv(\n",
      "/home/container-user/.local/lib/python3.8/site-packages/matminer/utils/data.py:552: FutureWarning: The frame.append method is deprecated and will be removed from pandas in a future version. Use pandas.concat instead.\n",
      "  new_params = self.params.append(new_data, sort=True, ignore_index=True)\n"
     ]
    },
    {
     "data": {
      "application/vnd.jupyter.widget-view+json": {
       "model_id": "561ec7f55df6482487c904eaebcfb662",
       "version_major": 2,
       "version_minor": 0
      },
      "text/plain": [
       "GlobalInstabilityIndex:   0%|          | 0/121 [00:00<?, ?it/s]"
      ]
     },
     "metadata": {},
     "output_type": "display_data"
    }
   ],
   "source": [
    "fc.run_global_instability_index_featurizer('structure', rcut_list=[20])"
   ]
  },
  {
   "cell_type": "markdown",
   "metadata": {},
   "source": [
    "### Featurizer: Jarvis CFID"
   ]
  },
  {
   "cell_type": "code",
   "execution_count": 46,
   "metadata": {},
   "outputs": [],
   "source": [
    "# fc.run_jarvis_cfid_featurizer('structure')"
   ]
  },
  {
   "cell_type": "markdown",
   "metadata": {},
   "source": [
    "### Featurizer: Maximum Packing Efficiency"
   ]
  },
  {
   "cell_type": "code",
   "execution_count": 47,
   "metadata": {},
   "outputs": [
    {
     "data": {
      "application/vnd.jupyter.widget-view+json": {
       "model_id": "d73582ba27cb47c4ad39030d20a4d792",
       "version_major": 2,
       "version_minor": 0
      },
      "text/plain": [
       "MaximumPackingEfficiency:   0%|          | 0/121 [00:00<?, ?it/s]"
      ]
     },
     "metadata": {},
     "output_type": "display_data"
    }
   ],
   "source": [
    "fc.run_maximum_packing_efficiency_featurizer('structure_CAMN')"
   ]
  },
  {
   "cell_type": "markdown",
   "metadata": {},
   "source": [
    "### Featurizer: MereDig "
   ]
  },
  {
   "cell_type": "code",
   "execution_count": 48,
   "metadata": {},
   "outputs": [
    {
     "data": {
      "application/vnd.jupyter.widget-view+json": {
       "model_id": "526fa32766a7404f8aaa3eff59928dce",
       "version_major": 2,
       "version_minor": 0
      },
      "text/plain": [
       "  0%|          | 0/121 [00:00<?, ?it/s]"
      ]
     },
     "metadata": {},
     "output_type": "display_data"
    }
   ],
   "source": [
    "fc.run_meredig_featurizer('structure_CAMN')"
   ]
  },
  {
   "cell_type": "markdown",
   "metadata": {},
   "source": [
    "### Featurizer: Orbital Field Matrix"
   ]
  },
  {
   "cell_type": "code",
   "execution_count": 49,
   "metadata": {},
   "outputs": [],
   "source": [
    "# fc.run_orbital_field_matrix_featurizer('structure')"
   ]
  },
  {
   "cell_type": "markdown",
   "metadata": {},
   "source": [
    "### Featurizer: Oxidation States"
   ]
  },
  {
   "cell_type": "code",
   "execution_count": 50,
   "metadata": {},
   "outputs": [
    {
     "data": {
      "application/vnd.jupyter.widget-view+json": {
       "model_id": "d2a71a8bbf75478486514d54dcdb456e",
       "version_major": 2,
       "version_minor": 0
      },
      "text/plain": [
       "  0%|          | 0/121 [00:00<?, ?it/s]"
      ]
     },
     "metadata": {},
     "output_type": "display_data"
    }
   ],
   "source": [
    "fc.run_oxidation_states_featurizer('structure_CAMN')"
   ]
  },
  {
   "cell_type": "markdown",
   "metadata": {},
   "source": [
    "### Featurizer: Radial Distribution Function\n",
    "\n",
    "Pass in a list of cutoff values and a list of bin_size values. The function will iterate over the lists, generating a feature file for each combination. "
   ]
  },
  {
   "cell_type": "code",
   "execution_count": 51,
   "metadata": {},
   "outputs": [
    {
     "data": {
      "application/vnd.jupyter.widget-view+json": {
       "model_id": "c3696ffac9b3449eaf774c1688bb4d52",
       "version_major": 2,
       "version_minor": 0
      },
      "text/plain": [
       "RadialDistributionFunction:   0%|          | 0/121 [00:00<?, ?it/s]"
      ]
     },
     "metadata": {},
     "output_type": "display_data"
    },
    {
     "name": "stdout",
     "output_type": "stream",
     "text": [
      "There were 121 errors when using mode: structure_CAMN with cutoff=10 and bin_size-0.1. Filling those rows with zeroes.\n"
     ]
    }
   ],
   "source": [
    "fc.run_rdf_featurizer('structure_CAMN', cutoff_list=[10], bin_size_list=[0.1])"
   ]
  },
  {
   "cell_type": "markdown",
   "metadata": {},
   "source": [
    "### Featurizer: Sine Coulomb Matrix"
   ]
  },
  {
   "cell_type": "code",
   "execution_count": 52,
   "metadata": {},
   "outputs": [
    {
     "data": {
      "application/vnd.jupyter.widget-view+json": {
       "model_id": "f59d7e07af78486182e47ab3aa230538",
       "version_major": 2,
       "version_minor": 0
      },
      "text/plain": [
       "SineCoulombMatrix:   0%|          | 0/121 [00:00<?, ?it/s]"
      ]
     },
     "metadata": {},
     "output_type": "display_data"
    }
   ],
   "source": [
    "fc.run_sine_coulomb_featurizer('structure')"
   ]
  },
  {
   "cell_type": "markdown",
   "metadata": {},
   "source": [
    "### Featurizer: Smooth Overlap of Atomic Positions (SOAP)\n",
    "\n",
    "Pass in the following paramaters:\n",
    "\n",
    "* __rcut_list__:  a list of rcut values for the dscribe SOAP class\n",
    "* __nmax_list__:  a list of nmax values for the dscribe SOAP class\n",
    "* __lmax_list__:  a list of lmax values fro the dscribe SOAP class\n",
    "* __average__: the averaging strategy for SOAP. Either 'outer' or 'inner'\n",
    "\n",
    "The function will create a feature file for every unique combination of the above paramaters. "
   ]
  },
  {
   "cell_type": "code",
   "execution_count": 53,
   "metadata": {},
   "outputs": [],
   "source": [
    "# fc.run_SOAP('structure_CAN', rcut_list=[3], nmax_list=[5], lmax_list=[3], average='outer')"
   ]
  },
  {
   "cell_type": "markdown",
   "metadata": {},
   "source": [
    "### Featurizer: Structural Complexity"
   ]
  },
  {
   "cell_type": "code",
   "execution_count": 54,
   "metadata": {},
   "outputs": [
    {
     "data": {
      "application/vnd.jupyter.widget-view+json": {
       "model_id": "c9c9863af12c4e1abab805146480b16e",
       "version_major": 2,
       "version_minor": 0
      },
      "text/plain": [
       "StructuralComplexity:   0%|          | 0/121 [00:00<?, ?it/s]"
      ]
     },
     "metadata": {},
     "output_type": "display_data"
    }
   ],
   "source": [
    "fc.run_structural_complexity_featurizer('structure')"
   ]
  },
  {
   "cell_type": "markdown",
   "metadata": {},
   "source": [
    "### Featurizer: Structural Heterogeneity"
   ]
  },
  {
   "cell_type": "code",
   "execution_count": 55,
   "metadata": {},
   "outputs": [
    {
     "data": {
      "application/vnd.jupyter.widget-view+json": {
       "model_id": "042cfdc48fea48598510dfeaddf06025",
       "version_major": 2,
       "version_minor": 0
      },
      "text/plain": [
       "StructuralHeterogeneity:   0%|          | 0/121 [00:00<?, ?it/s]"
      ]
     },
     "metadata": {},
     "output_type": "display_data"
    }
   ],
   "source": [
    "fc.run_structural_heterogeneity_featurizer('structure')"
   ]
  },
  {
   "cell_type": "markdown",
   "metadata": {},
   "source": [
    "### Featurizer: Valence Orbital"
   ]
  },
  {
   "cell_type": "code",
   "execution_count": 56,
   "metadata": {},
   "outputs": [
    {
     "data": {
      "application/vnd.jupyter.widget-view+json": {
       "model_id": "2e543fbd639f473992d1d1eb96ed0e68",
       "version_major": 2,
       "version_minor": 0
      },
      "text/plain": [
       "  0%|          | 0/121 [00:00<?, ?it/s]"
      ]
     },
     "metadata": {},
     "output_type": "display_data"
    }
   ],
   "source": [
    "fc.run_valence_orbital_featurizer('structure')"
   ]
  },
  {
   "cell_type": "markdown",
   "metadata": {},
   "source": [
    "### Featurizer: X-ray Diffraction Pattern\n",
    "\n",
    "Pass in a list of pattern lengths. The function will iterate over the list, saving a feature representation for each pattern length. "
   ]
  },
  {
   "cell_type": "code",
   "execution_count": 57,
   "metadata": {},
   "outputs": [
    {
     "data": {
      "application/vnd.jupyter.widget-view+json": {
       "model_id": "01bb34e0d31245ffbddd5abae00626ef",
       "version_major": 2,
       "version_minor": 0
      },
      "text/plain": [
       "XRDPowderPattern:   0%|          | 0/121 [00:00<?, ?it/s]"
      ]
     },
     "metadata": {},
     "output_type": "display_data"
    }
   ],
   "source": [
    "fc.run_XRD_featurizer('structure_CAMN', pattern_length_list=[451])"
   ]
  },
  {
   "cell_type": "markdown",
   "metadata": {},
   "source": [
    "### Featurizer: Yang Solid Solution"
   ]
  },
  {
   "cell_type": "code",
   "execution_count": 58,
   "metadata": {},
   "outputs": [
    {
     "data": {
      "application/vnd.jupyter.widget-view+json": {
       "model_id": "13a86586b29c4a49b7530b5a4116666b",
       "version_major": 2,
       "version_minor": 0
      },
      "text/plain": [
       "  0%|          | 0/121 [00:00<?, ?it/s]"
      ]
     },
     "metadata": {},
     "output_type": "display_data"
    }
   ],
   "source": [
    "fc.run_yang_solid_solution_featurizer('structure')"
   ]
  },
  {
   "cell_type": "markdown",
   "metadata": {},
   "source": [
    "### Featurizer: CAVD - requires python 3.7 for cavd library"
   ]
  },
  {
   "cell_type": "code",
   "execution_count": 59,
   "metadata": {},
   "outputs": [],
   "source": [
    "# mode = 'structure'"
   ]
  },
  {
   "cell_type": "code",
   "execution_count": 60,
   "metadata": {},
   "outputs": [],
   "source": [
    "# for i in tqdm.tqdm(np.arange(0, len(structures_df), 1)):\n",
    "#     for site in structures_df.loc[i, mode].sites:\n",
    "#         try:\n",
    "#             site._atom_site_label = site.species.alphabetical_formula\n",
    "#             site.properties.update({'_atom_site_label': site.species.alphabetical_formula})\n",
    "#         except Exception as e:\n",
    "#             print(e)\n",
    "    \n",
    "#     try: \n",
    "#         w = CifWriter(structures_df.loc[i, mode], symprec=True)\n",
    "#         w.write_file('groups_and_oxi_states/df_step_1/LiCifsCAVD/{}.cif'.format(str(i)))\n",
    "#     except:\n",
    "#         w = CifWriter(structures_df.loc[i, mode])\n",
    "#         w.write_file('groups_and_oxi_states/df_step_1/LiCifsCAVD/{}.cif'.format(str(i)))\n",
    "        "
   ]
  },
  {
   "cell_type": "code",
   "execution_count": 61,
   "metadata": {},
   "outputs": [],
   "source": [
    "# def cavd_calc(filename, migrant, ntol=0.02, lower=0.0, upper=10.0):\n",
    "#     with zopen(filename, \"rt\") as f:\n",
    "#         input_string = f.read()\n",
    "#     parser = CifParser_new.from_string(input_string)\n",
    "#     stru = parser.get_structures(primitive=False)[0]\n",
    "    \n",
    "#     species = [str(sp).replace(\"Specie \",\"\") for sp in stru.species]\n",
    "#     elements = [re.sub('[^a-zA-Z]','',sp) for sp in species]\n",
    "#     if migrant not in elements:\n",
    "#         raise ValueError(\"The input migrant ion not in the input structure! Please check it.\")\n",
    "#     effec_radii,migrant_radius,migrant_alpha,nei_dises,coordination_list = LocalEnvirCom(stru,migrant)\n",
    "    \n",
    "#     atmnet = AtomNetwork.read_from_RemoveMigrantCif(filename, migrant, effec_radii, True)\n",
    "#     vornet, edge_centers, fcs, faces = atmnet.perform_voronoi_decomposition(True, ntol)\n",
    "\n",
    "#     prefixname = filename.replace(\".cif\",\"\")\n",
    "#     prefixname = filename.replace(\"./Li Cifs/\", \"\")\n",
    "#     newpath = \"./cavdoutputs/\" + prefixname\n",
    "\n",
    "#     # compute the R_T\n",
    "#     conn_val = connection_values_list(newpath+\".resex\", vornet)\n",
    "#     return conn_val"
   ]
  },
  {
   "cell_type": "code",
   "execution_count": 62,
   "metadata": {},
   "outputs": [],
   "source": [
    "# cavd_features = []\n",
    "# non_working = []\n",
    "# for i in tqdm.tqdm(np.arange(0, len(structures_df), 1)):\n",
    "#     try:\n",
    "#         cavd_features.append(sorted(cavd_calc(\"./Li Cifs CAVD/{}.cif\".format(str(i)), \"Li\")))\n",
    "#     except:\n",
    "#         cavd_features.append([NaN, NaN, NaN])\n",
    "#         non_working.append(i)\n",
    "# np.save('features/cavd2_{}'.format(mode), cavd_features)"
   ]
  }
 ],
 "metadata": {
  "kernelspec": {
   "display_name": "Python 3 (ipykernel)",
   "language": "python",
   "name": "python3"
  },
  "language_info": {
   "codemirror_mode": {
    "name": "ipython",
    "version": 3
   },
   "file_extension": ".py",
   "mimetype": "text/x-python",
   "name": "python",
   "nbconvert_exporter": "python",
   "pygments_lexer": "ipython3",
   "version": "3.8.10"
  },
  "widgets": {
   "application/vnd.jupyter.widget-state+json": {
    "state": {
     "007b09b05af74719af276a168a447a55": {
      "model_module": "@jupyter-widgets/base",
      "model_module_version": "1.2.0",
      "model_name": "LayoutModel",
      "state": {}
     },
     "01c13405180a45d1b64cd914d990face": {
      "model_module": "@jupyter-widgets/controls",
      "model_module_version": "1.5.0",
      "model_name": "FloatProgressModel",
      "state": {
       "bar_style": "success",
       "layout": "IPY_MODEL_ac7e0681179a46249890d1f28d4116bc",
       "max": 25193,
       "style": "IPY_MODEL_204fca0b7bf84dc784babb48f2d9f204",
       "value": 25193
      }
     },
     "06bd12e5ce94498aa9589c3df167c721": {
      "model_module": "@jupyter-widgets/controls",
      "model_module_version": "1.5.0",
      "model_name": "HTMLModel",
      "state": {
       "layout": "IPY_MODEL_5027b81bd73f489987288bb7f66dcff4",
       "style": "IPY_MODEL_77f0f4b1860f43499a13a6dcf96cfe5e",
       "value": "100%"
      }
     },
     "06ca90a9962e487ca6a114c14bd171bb": {
      "model_module": "@jupyter-widgets/controls",
      "model_module_version": "1.5.0",
      "model_name": "DescriptionStyleModel",
      "state": {
       "description_width": ""
      }
     },
     "0c3c4897871342eca3cc1c38e35b9720": {
      "model_module": "@jupyter-widgets/controls",
      "model_module_version": "1.5.0",
      "model_name": "DescriptionStyleModel",
      "state": {
       "description_width": ""
      }
     },
     "0d4584ea8cf041768f2a8161250da344": {
      "model_module": "@jupyter-widgets/controls",
      "model_module_version": "1.5.0",
      "model_name": "HTMLModel",
      "state": {
       "layout": "IPY_MODEL_007b09b05af74719af276a168a447a55",
       "style": "IPY_MODEL_322bc72b48f14d56ac507aaaa3d028d1",
       "value": " 25193/25193 [00:04&lt;00:00, 5533.10it/s]"
      }
     },
     "0e4c475e049d4d90b2f273b778a25f09": {
      "model_module": "@jupyter-widgets/base",
      "model_module_version": "1.2.0",
      "model_name": "LayoutModel",
      "state": {}
     },
     "171ec7bdb1fc41dc94945219f6d11650": {
      "model_module": "@jupyter-widgets/controls",
      "model_module_version": "1.5.0",
      "model_name": "ProgressStyleModel",
      "state": {
       "description_width": ""
      }
     },
     "194d05d1599048cb9225d70da7f04548": {
      "model_module": "@jupyter-widgets/controls",
      "model_module_version": "1.5.0",
      "model_name": "FloatProgressModel",
      "state": {
       "bar_style": "success",
       "layout": "IPY_MODEL_72cbf7f0f1c64023aa470203be01bed0",
       "max": 25193,
       "style": "IPY_MODEL_8a1a977bc0f3431fbb611ddaaf7230fc",
       "value": 25193
      }
     },
     "19d9451d96134be58aa368bc27ca9a12": {
      "model_module": "@jupyter-widgets/controls",
      "model_module_version": "1.5.0",
      "model_name": "FloatProgressModel",
      "state": {
       "bar_style": "success",
       "layout": "IPY_MODEL_e327dad9f91546cdaf5ce66c84540f46",
       "max": 25193,
       "style": "IPY_MODEL_2f104b12bfc84e4f9816ac748ea06832",
       "value": 25193
      }
     },
     "1dd94dac664542a59f894948c8919fde": {
      "model_module": "@jupyter-widgets/base",
      "model_module_version": "1.2.0",
      "model_name": "LayoutModel",
      "state": {}
     },
     "1e0d01dc70fd44e4a8192a053c42d33f": {
      "model_module": "@jupyter-widgets/base",
      "model_module_version": "1.2.0",
      "model_name": "LayoutModel",
      "state": {}
     },
     "204fca0b7bf84dc784babb48f2d9f204": {
      "model_module": "@jupyter-widgets/controls",
      "model_module_version": "1.5.0",
      "model_name": "ProgressStyleModel",
      "state": {
       "description_width": ""
      }
     },
     "27a14134891e404391d385e50d58ba82": {
      "model_module": "@jupyter-widgets/controls",
      "model_module_version": "1.5.0",
      "model_name": "HTMLModel",
      "state": {
       "layout": "IPY_MODEL_befeb11dea3c4353b53ace6d35d0468c",
       "style": "IPY_MODEL_c68418dd548040dcaaf7a5cd0d3c44a3",
       "value": "SineCoulombMatrix: 100%"
      }
     },
     "293d9046647b4505a4816ef578d224ee": {
      "model_module": "@jupyter-widgets/base",
      "model_module_version": "1.2.0",
      "model_name": "LayoutModel",
      "state": {}
     },
     "2c9dc604f15b403590476c4036ff5bae": {
      "model_module": "@jupyter-widgets/base",
      "model_module_version": "1.2.0",
      "model_name": "LayoutModel",
      "state": {}
     },
     "2e32bf7e4a5048b9b17665136a9e240f": {
      "model_module": "@jupyter-widgets/controls",
      "model_module_version": "1.5.0",
      "model_name": "HTMLModel",
      "state": {
       "layout": "IPY_MODEL_0e4c475e049d4d90b2f273b778a25f09",
       "style": "IPY_MODEL_d8b5e064ca604557bcc067f2021d39de",
       "value": "100%"
      }
     },
     "2e7c0e1a298a4ff3a02ba20682b559bb": {
      "model_module": "@jupyter-widgets/controls",
      "model_module_version": "1.5.0",
      "model_name": "FloatProgressModel",
      "state": {
       "bar_style": "success",
       "layout": "IPY_MODEL_1dd94dac664542a59f894948c8919fde",
       "max": 25193,
       "style": "IPY_MODEL_8adc88e38cae40169fac9a638b5093db",
       "value": 25193
      }
     },
     "2f0011bd00a74b288a575e4bc3ad4ea0": {
      "model_module": "@jupyter-widgets/controls",
      "model_module_version": "1.5.0",
      "model_name": "DescriptionStyleModel",
      "state": {
       "description_width": ""
      }
     },
     "2f104b12bfc84e4f9816ac748ea06832": {
      "model_module": "@jupyter-widgets/controls",
      "model_module_version": "1.5.0",
      "model_name": "ProgressStyleModel",
      "state": {
       "description_width": ""
      }
     },
     "2fd614aa3dd04a4c8dbf832b5d82f2a5": {
      "model_module": "@jupyter-widgets/controls",
      "model_module_version": "1.5.0",
      "model_name": "ProgressStyleModel",
      "state": {
       "description_width": ""
      }
     },
     "307d89b508aa4cf68fca649875ce2482": {
      "model_module": "@jupyter-widgets/controls",
      "model_module_version": "1.5.0",
      "model_name": "FloatProgressModel",
      "state": {
       "bar_style": "success",
       "layout": "IPY_MODEL_933002b0c22d4cc08f627a4325b2e6ae",
       "max": 25193,
       "style": "IPY_MODEL_abbaf530f076427ca880cb47fcc466c7",
       "value": 25193
      }
     },
     "322bc72b48f14d56ac507aaaa3d028d1": {
      "model_module": "@jupyter-widgets/controls",
      "model_module_version": "1.5.0",
      "model_name": "DescriptionStyleModel",
      "state": {
       "description_width": ""
      }
     },
     "329888423853465a8ef61afbfd05e08e": {
      "model_module": "@jupyter-widgets/base",
      "model_module_version": "1.2.0",
      "model_name": "LayoutModel",
      "state": {}
     },
     "341b899db1f646d4aa11cbb40fc560ad": {
      "model_module": "@jupyter-widgets/controls",
      "model_module_version": "1.5.0",
      "model_name": "HTMLModel",
      "state": {
       "layout": "IPY_MODEL_549ae41a929841d1af2da753cadabce7",
       "style": "IPY_MODEL_b8d7096da9454267888e0a3e8cb53355",
       "value": " 25193/25193 [00:04&lt;00:00, 5690.49it/s]"
      }
     },
     "3838f06d6943491c8b34db22ac7e37c6": {
      "model_module": "@jupyter-widgets/controls",
      "model_module_version": "1.5.0",
      "model_name": "HTMLModel",
      "state": {
       "layout": "IPY_MODEL_b8c329edc6634f5fa190234f75ca00c9",
       "style": "IPY_MODEL_e089d1d3261543c1a139f9ef2afbd10b",
       "value": "100%"
      }
     },
     "387a35f891b64c2b8d4fcb9945e559f1": {
      "model_module": "@jupyter-widgets/controls",
      "model_module_version": "1.5.0",
      "model_name": "HBoxModel",
      "state": {
       "children": [
        "IPY_MODEL_27a14134891e404391d385e50d58ba82",
        "IPY_MODEL_de6f068a8b4f4fed9e43e797ea2bf6b5",
        "IPY_MODEL_fd894a3e00a44fb2be4f6b388b4c429c"
       ],
       "layout": "IPY_MODEL_293d9046647b4505a4816ef578d224ee"
      }
     },
     "3cc5fe5402b64974b6d6972c659332cd": {
      "model_module": "@jupyter-widgets/controls",
      "model_module_version": "1.5.0",
      "model_name": "HTMLModel",
      "state": {
       "layout": "IPY_MODEL_329888423853465a8ef61afbfd05e08e",
       "style": "IPY_MODEL_a41c9f59db4e4b508b4f5d4c0e94e8c3",
       "value": " 25193/25193 [00:03&lt;00:00, 6080.92it/s]"
      }
     },
     "3d3c44005fcf4156b634ba5905e2ceb2": {
      "model_module": "@jupyter-widgets/controls",
      "model_module_version": "1.5.0",
      "model_name": "DescriptionStyleModel",
      "state": {
       "description_width": ""
      }
     },
     "4103cf0d63aa4def8e96b547f6c8fb06": {
      "model_module": "@jupyter-widgets/controls",
      "model_module_version": "1.5.0",
      "model_name": "DescriptionStyleModel",
      "state": {
       "description_width": ""
      }
     },
     "4310a86956e540d3b8f3434c232538eb": {
      "model_module": "@jupyter-widgets/base",
      "model_module_version": "1.2.0",
      "model_name": "LayoutModel",
      "state": {}
     },
     "440365f59bf3442d9aeea44d0d8b68e1": {
      "model_module": "@jupyter-widgets/controls",
      "model_module_version": "1.5.0",
      "model_name": "HTMLModel",
      "state": {
       "layout": "IPY_MODEL_2c9dc604f15b403590476c4036ff5bae",
       "style": "IPY_MODEL_3d3c44005fcf4156b634ba5905e2ceb2",
       "value": " 25193/25193 [00:03&lt;00:00, 6033.02it/s]"
      }
     },
     "476248ba97254e94b99ab107ab9fbced": {
      "model_module": "@jupyter-widgets/base",
      "model_module_version": "1.2.0",
      "model_name": "LayoutModel",
      "state": {}
     },
     "4a37e9d1cae94ff4abf69c00a3a0052f": {
      "model_module": "@jupyter-widgets/controls",
      "model_module_version": "1.5.0",
      "model_name": "HBoxModel",
      "state": {
       "children": [
        "IPY_MODEL_9ca52a2e5ff34bf09f4605fc529b1022",
        "IPY_MODEL_2e7c0e1a298a4ff3a02ba20682b559bb",
        "IPY_MODEL_9ca19fb10a3c4878b26a44459cf65644"
       ],
       "layout": "IPY_MODEL_73b5947f07d34c0195724728586cb675"
      }
     },
     "4b7fb8e64fae4822ac4deaae7991fd6d": {
      "model_module": "@jupyter-widgets/controls",
      "model_module_version": "1.5.0",
      "model_name": "HTMLModel",
      "state": {
       "layout": "IPY_MODEL_f6ac25ed0a6d4091949dae2169997f94",
       "style": "IPY_MODEL_8446cf4f8a0a45c9a9555dac4e9c4720",
       "value": "100%"
      }
     },
     "4e3803bc2ec6499c945a71ce255e409d": {
      "model_module": "@jupyter-widgets/base",
      "model_module_version": "1.2.0",
      "model_name": "LayoutModel",
      "state": {}
     },
     "4f9b450e7d8a4e7382c95c6fdbdeffcf": {
      "model_module": "@jupyter-widgets/controls",
      "model_module_version": "1.5.0",
      "model_name": "ProgressStyleModel",
      "state": {
       "description_width": ""
      }
     },
     "5027b81bd73f489987288bb7f66dcff4": {
      "model_module": "@jupyter-widgets/base",
      "model_module_version": "1.2.0",
      "model_name": "LayoutModel",
      "state": {}
     },
     "549ae41a929841d1af2da753cadabce7": {
      "model_module": "@jupyter-widgets/base",
      "model_module_version": "1.2.0",
      "model_name": "LayoutModel",
      "state": {}
     },
     "55f4c86a96644738a710a1967c5da5b2": {
      "model_module": "@jupyter-widgets/base",
      "model_module_version": "1.2.0",
      "model_name": "LayoutModel",
      "state": {}
     },
     "56f4e363ec9348b4b98dbd712a511e05": {
      "model_module": "@jupyter-widgets/controls",
      "model_module_version": "1.5.0",
      "model_name": "DescriptionStyleModel",
      "state": {
       "description_width": ""
      }
     },
     "579dda9589d34ee6990bd260dff1aa10": {
      "model_module": "@jupyter-widgets/controls",
      "model_module_version": "1.5.0",
      "model_name": "HTMLModel",
      "state": {
       "layout": "IPY_MODEL_476248ba97254e94b99ab107ab9fbced",
       "style": "IPY_MODEL_b278bf47bfcf46b395c7c793d103fc24",
       "value": "100%"
      }
     },
     "5ceef95d206641569831795ef565133b": {
      "model_module": "@jupyter-widgets/base",
      "model_module_version": "1.2.0",
      "model_name": "LayoutModel",
      "state": {}
     },
     "5d874121e6b04ec5bcbb8dc0a26ceba0": {
      "model_module": "@jupyter-widgets/controls",
      "model_module_version": "1.5.0",
      "model_name": "HTMLModel",
      "state": {
       "layout": "IPY_MODEL_d7c6dc3dd0f04e059ef16c885e03ab03",
       "style": "IPY_MODEL_56f4e363ec9348b4b98dbd712a511e05",
       "value": " 25193/25193 [00:05&lt;00:00, 4204.79it/s]"
      }
     },
     "64f3c7f8a996432ab5f97fc77170374c": {
      "model_module": "@jupyter-widgets/controls",
      "model_module_version": "1.5.0",
      "model_name": "FloatProgressModel",
      "state": {
       "bar_style": "success",
       "layout": "IPY_MODEL_4310a86956e540d3b8f3434c232538eb",
       "max": 25193,
       "style": "IPY_MODEL_ab8f72b8c1054550afc5bb19641afd31",
       "value": 25193
      }
     },
     "677d4d25f5864b619a64c34229367b9f": {
      "model_module": "@jupyter-widgets/base",
      "model_module_version": "1.2.0",
      "model_name": "LayoutModel",
      "state": {}
     },
     "6d407c1278d947b3af8052072cfa54cf": {
      "model_module": "@jupyter-widgets/controls",
      "model_module_version": "1.5.0",
      "model_name": "DescriptionStyleModel",
      "state": {
       "description_width": ""
      }
     },
     "72cbf7f0f1c64023aa470203be01bed0": {
      "model_module": "@jupyter-widgets/base",
      "model_module_version": "1.2.0",
      "model_name": "LayoutModel",
      "state": {}
     },
     "73b5947f07d34c0195724728586cb675": {
      "model_module": "@jupyter-widgets/base",
      "model_module_version": "1.2.0",
      "model_name": "LayoutModel",
      "state": {}
     },
     "77f0f4b1860f43499a13a6dcf96cfe5e": {
      "model_module": "@jupyter-widgets/controls",
      "model_module_version": "1.5.0",
      "model_name": "DescriptionStyleModel",
      "state": {
       "description_width": ""
      }
     },
     "7c9b4acdc4c74c6e98c592a084c8c9c1": {
      "model_module": "@jupyter-widgets/controls",
      "model_module_version": "1.5.0",
      "model_name": "HTMLModel",
      "state": {
       "layout": "IPY_MODEL_8faf901656844770a699e6fa355d2496",
       "style": "IPY_MODEL_b0ef30d302be42c09bcc6fc92dabfc4a",
       "value": "100%"
      }
     },
     "8446cf4f8a0a45c9a9555dac4e9c4720": {
      "model_module": "@jupyter-widgets/controls",
      "model_module_version": "1.5.0",
      "model_name": "DescriptionStyleModel",
      "state": {
       "description_width": ""
      }
     },
     "858ac756add44ebdaae57d036355e162": {
      "model_module": "@jupyter-widgets/controls",
      "model_module_version": "1.5.0",
      "model_name": "HBoxModel",
      "state": {
       "children": [
        "IPY_MODEL_3838f06d6943491c8b34db22ac7e37c6",
        "IPY_MODEL_85ce721ec6d44a16891376ee704f95f6",
        "IPY_MODEL_341b899db1f646d4aa11cbb40fc560ad"
       ],
       "layout": "IPY_MODEL_4e3803bc2ec6499c945a71ce255e409d"
      }
     },
     "85ce721ec6d44a16891376ee704f95f6": {
      "model_module": "@jupyter-widgets/controls",
      "model_module_version": "1.5.0",
      "model_name": "FloatProgressModel",
      "state": {
       "bar_style": "success",
       "layout": "IPY_MODEL_ca66978b92394bff93779b114756a553",
       "max": 25193,
       "style": "IPY_MODEL_2fd614aa3dd04a4c8dbf832b5d82f2a5",
       "value": 25193
      }
     },
     "86a3b7778e94492b9c8deee0a6a79a76": {
      "model_module": "@jupyter-widgets/controls",
      "model_module_version": "1.5.0",
      "model_name": "DescriptionStyleModel",
      "state": {
       "description_width": ""
      }
     },
     "8a1a977bc0f3431fbb611ddaaf7230fc": {
      "model_module": "@jupyter-widgets/controls",
      "model_module_version": "1.5.0",
      "model_name": "ProgressStyleModel",
      "state": {
       "description_width": ""
      }
     },
     "8adc88e38cae40169fac9a638b5093db": {
      "model_module": "@jupyter-widgets/controls",
      "model_module_version": "1.5.0",
      "model_name": "ProgressStyleModel",
      "state": {
       "description_width": ""
      }
     },
     "8bcb8de7d79d496486336ea8e15e6cc8": {
      "model_module": "@jupyter-widgets/base",
      "model_module_version": "1.2.0",
      "model_name": "LayoutModel",
      "state": {}
     },
     "8c7d9584c7174cbc936839ddfa905475": {
      "model_module": "@jupyter-widgets/base",
      "model_module_version": "1.2.0",
      "model_name": "LayoutModel",
      "state": {}
     },
     "8faf901656844770a699e6fa355d2496": {
      "model_module": "@jupyter-widgets/base",
      "model_module_version": "1.2.0",
      "model_name": "LayoutModel",
      "state": {}
     },
     "91403691cfd44a5bbb79b2d0a1165ba2": {
      "model_module": "@jupyter-widgets/controls",
      "model_module_version": "1.5.0",
      "model_name": "HBoxModel",
      "state": {
       "children": [
        "IPY_MODEL_4b7fb8e64fae4822ac4deaae7991fd6d",
        "IPY_MODEL_f134b604cba04650ba9901277644403f",
        "IPY_MODEL_f9fc18990ffc47e68d3a40b2582da0ed"
       ],
       "layout": "IPY_MODEL_e5077db191af44ca8362c340d8f82427"
      }
     },
     "933002b0c22d4cc08f627a4325b2e6ae": {
      "model_module": "@jupyter-widgets/base",
      "model_module_version": "1.2.0",
      "model_name": "LayoutModel",
      "state": {}
     },
     "9711bb1b99ac46e0bc4e1f5ebd3f791c": {
      "model_module": "@jupyter-widgets/controls",
      "model_module_version": "1.5.0",
      "model_name": "DescriptionStyleModel",
      "state": {
       "description_width": ""
      }
     },
     "9ca19fb10a3c4878b26a44459cf65644": {
      "model_module": "@jupyter-widgets/controls",
      "model_module_version": "1.5.0",
      "model_name": "HTMLModel",
      "state": {
       "layout": "IPY_MODEL_dd01eff489a844c3b8d0b1bb75f5d69e",
       "style": "IPY_MODEL_06ca90a9962e487ca6a114c14bd171bb",
       "value": " 25193/25193 [00:05&lt;00:00, 4238.73it/s]"
      }
     },
     "9ca52a2e5ff34bf09f4605fc529b1022": {
      "model_module": "@jupyter-widgets/controls",
      "model_module_version": "1.5.0",
      "model_name": "HTMLModel",
      "state": {
       "layout": "IPY_MODEL_8bcb8de7d79d496486336ea8e15e6cc8",
       "style": "IPY_MODEL_0c3c4897871342eca3cc1c38e35b9720",
       "value": "100%"
      }
     },
     "a1124ab3f03b4d4e8be5c00e7875bd89": {
      "model_module": "@jupyter-widgets/base",
      "model_module_version": "1.2.0",
      "model_name": "LayoutModel",
      "state": {}
     },
     "a1b7ff57daf84ade86fb9506407be5a3": {
      "model_module": "@jupyter-widgets/controls",
      "model_module_version": "1.5.0",
      "model_name": "HTMLModel",
      "state": {
       "layout": "IPY_MODEL_bd287207522b4375ac88fbb9d95bd473",
       "style": "IPY_MODEL_9711bb1b99ac46e0bc4e1f5ebd3f791c",
       "value": "100%"
      }
     },
     "a3ee2fc7c5ba4dbbaf31cbe919e717a0": {
      "model_module": "@jupyter-widgets/base",
      "model_module_version": "1.2.0",
      "model_name": "LayoutModel",
      "state": {}
     },
     "a41c9f59db4e4b508b4f5d4c0e94e8c3": {
      "model_module": "@jupyter-widgets/controls",
      "model_module_version": "1.5.0",
      "model_name": "DescriptionStyleModel",
      "state": {
       "description_width": ""
      }
     },
     "a5def06da86244478deda382ae3ab0e3": {
      "model_module": "@jupyter-widgets/controls",
      "model_module_version": "1.5.0",
      "model_name": "HBoxModel",
      "state": {
       "children": [
        "IPY_MODEL_7c9b4acdc4c74c6e98c592a084c8c9c1",
        "IPY_MODEL_19d9451d96134be58aa368bc27ca9a12",
        "IPY_MODEL_b70ff499cd20451985c50f4254c7aa80"
       ],
       "layout": "IPY_MODEL_dd1b7b64cc2e4ff5bf1f361b92f6027d"
      }
     },
     "a5f66b4c3933465c87b1aa1b1c641045": {
      "model_module": "@jupyter-widgets/controls",
      "model_module_version": "1.5.0",
      "model_name": "ProgressStyleModel",
      "state": {
       "description_width": ""
      }
     },
     "a6e1431651eb4797b1acb85f50599b54": {
      "model_module": "@jupyter-widgets/controls",
      "model_module_version": "1.5.0",
      "model_name": "HBoxModel",
      "state": {
       "children": [
        "IPY_MODEL_c4cbdd98d0fd438b91c36f152447bfb3",
        "IPY_MODEL_307d89b508aa4cf68fca649875ce2482",
        "IPY_MODEL_3cc5fe5402b64974b6d6972c659332cd"
       ],
       "layout": "IPY_MODEL_1e0d01dc70fd44e4a8192a053c42d33f"
      }
     },
     "a895e0dd67b448dfa26f04e792c6b5ff": {
      "model_module": "@jupyter-widgets/base",
      "model_module_version": "1.2.0",
      "model_name": "LayoutModel",
      "state": {}
     },
     "ab8f72b8c1054550afc5bb19641afd31": {
      "model_module": "@jupyter-widgets/controls",
      "model_module_version": "1.5.0",
      "model_name": "ProgressStyleModel",
      "state": {
       "description_width": ""
      }
     },
     "abbaf530f076427ca880cb47fcc466c7": {
      "model_module": "@jupyter-widgets/controls",
      "model_module_version": "1.5.0",
      "model_name": "ProgressStyleModel",
      "state": {
       "description_width": ""
      }
     },
     "ac7e0681179a46249890d1f28d4116bc": {
      "model_module": "@jupyter-widgets/base",
      "model_module_version": "1.2.0",
      "model_name": "LayoutModel",
      "state": {}
     },
     "b0ef30d302be42c09bcc6fc92dabfc4a": {
      "model_module": "@jupyter-widgets/controls",
      "model_module_version": "1.5.0",
      "model_name": "DescriptionStyleModel",
      "state": {
       "description_width": ""
      }
     },
     "b278bf47bfcf46b395c7c793d103fc24": {
      "model_module": "@jupyter-widgets/controls",
      "model_module_version": "1.5.0",
      "model_name": "DescriptionStyleModel",
      "state": {
       "description_width": ""
      }
     },
     "b5e737fe052b4294a3d5b3cd92966054": {
      "model_module": "@jupyter-widgets/controls",
      "model_module_version": "1.5.0",
      "model_name": "DescriptionStyleModel",
      "state": {
       "description_width": ""
      }
     },
     "b70ff499cd20451985c50f4254c7aa80": {
      "model_module": "@jupyter-widgets/controls",
      "model_module_version": "1.5.0",
      "model_name": "HTMLModel",
      "state": {
       "layout": "IPY_MODEL_a1124ab3f03b4d4e8be5c00e7875bd89",
       "style": "IPY_MODEL_4103cf0d63aa4def8e96b547f6c8fb06",
       "value": " 25193/25193 [00:06&lt;00:00, 3786.04it/s]"
      }
     },
     "b8c329edc6634f5fa190234f75ca00c9": {
      "model_module": "@jupyter-widgets/base",
      "model_module_version": "1.2.0",
      "model_name": "LayoutModel",
      "state": {}
     },
     "b8d7096da9454267888e0a3e8cb53355": {
      "model_module": "@jupyter-widgets/controls",
      "model_module_version": "1.5.0",
      "model_name": "DescriptionStyleModel",
      "state": {
       "description_width": ""
      }
     },
     "b998f5bb296a49f3be8a51b176cb1fa9": {
      "model_module": "@jupyter-widgets/controls",
      "model_module_version": "1.5.0",
      "model_name": "HBoxModel",
      "state": {
       "children": [
        "IPY_MODEL_2e32bf7e4a5048b9b17665136a9e240f",
        "IPY_MODEL_64f3c7f8a996432ab5f97fc77170374c",
        "IPY_MODEL_440365f59bf3442d9aeea44d0d8b68e1"
       ],
       "layout": "IPY_MODEL_f5878c0b60ca40a4b3654038517acbfc"
      }
     },
     "bb97364b26ae43ee85d5ecd5b6ea78f0": {
      "model_module": "@jupyter-widgets/controls",
      "model_module_version": "1.5.0",
      "model_name": "HBoxModel",
      "state": {
       "children": [
        "IPY_MODEL_06bd12e5ce94498aa9589c3df167c721",
        "IPY_MODEL_194d05d1599048cb9225d70da7f04548",
        "IPY_MODEL_d014c0a57b9d4b2b84ba096d85943f58"
       ],
       "layout": "IPY_MODEL_8c7d9584c7174cbc936839ddfa905475"
      }
     },
     "bd287207522b4375ac88fbb9d95bd473": {
      "model_module": "@jupyter-widgets/base",
      "model_module_version": "1.2.0",
      "model_name": "LayoutModel",
      "state": {}
     },
     "befeb11dea3c4353b53ace6d35d0468c": {
      "model_module": "@jupyter-widgets/base",
      "model_module_version": "1.2.0",
      "model_name": "LayoutModel",
      "state": {}
     },
     "c4cbdd98d0fd438b91c36f152447bfb3": {
      "model_module": "@jupyter-widgets/controls",
      "model_module_version": "1.5.0",
      "model_name": "HTMLModel",
      "state": {
       "layout": "IPY_MODEL_a3ee2fc7c5ba4dbbaf31cbe919e717a0",
       "style": "IPY_MODEL_6d407c1278d947b3af8052072cfa54cf",
       "value": "100%"
      }
     },
     "c68418dd548040dcaaf7a5cd0d3c44a3": {
      "model_module": "@jupyter-widgets/controls",
      "model_module_version": "1.5.0",
      "model_name": "DescriptionStyleModel",
      "state": {
       "description_width": ""
      }
     },
     "ca66978b92394bff93779b114756a553": {
      "model_module": "@jupyter-widgets/base",
      "model_module_version": "1.2.0",
      "model_name": "LayoutModel",
      "state": {}
     },
     "caf3e7d0e0b64a169f54eabe4c30297b": {
      "model_module": "@jupyter-widgets/base",
      "model_module_version": "1.2.0",
      "model_name": "LayoutModel",
      "state": {}
     },
     "d014c0a57b9d4b2b84ba096d85943f58": {
      "model_module": "@jupyter-widgets/controls",
      "model_module_version": "1.5.0",
      "model_name": "HTMLModel",
      "state": {
       "layout": "IPY_MODEL_e5dea004ddbe4197b7852eed0f414ca4",
       "style": "IPY_MODEL_86a3b7778e94492b9c8deee0a6a79a76",
       "value": " 25193/25193 [00:06&lt;00:00, 3710.32it/s]"
      }
     },
     "d0cb9cf377e049868370ce83e0903d55": {
      "model_module": "@jupyter-widgets/base",
      "model_module_version": "1.2.0",
      "model_name": "LayoutModel",
      "state": {}
     },
     "d513c35de5fc4b97a3a355e9183f2fc3": {
      "model_module": "@jupyter-widgets/controls",
      "model_module_version": "1.5.0",
      "model_name": "HBoxModel",
      "state": {
       "children": [
        "IPY_MODEL_a1b7ff57daf84ade86fb9506407be5a3",
        "IPY_MODEL_e448b185f48a45c182b320cbc71c9c86",
        "IPY_MODEL_5d874121e6b04ec5bcbb8dc0a26ceba0"
       ],
       "layout": "IPY_MODEL_677d4d25f5864b619a64c34229367b9f"
      }
     },
     "d7c6dc3dd0f04e059ef16c885e03ab03": {
      "model_module": "@jupyter-widgets/base",
      "model_module_version": "1.2.0",
      "model_name": "LayoutModel",
      "state": {}
     },
     "d8b5e064ca604557bcc067f2021d39de": {
      "model_module": "@jupyter-widgets/controls",
      "model_module_version": "1.5.0",
      "model_name": "DescriptionStyleModel",
      "state": {
       "description_width": ""
      }
     },
     "dd01eff489a844c3b8d0b1bb75f5d69e": {
      "model_module": "@jupyter-widgets/base",
      "model_module_version": "1.2.0",
      "model_name": "LayoutModel",
      "state": {}
     },
     "dd1b7b64cc2e4ff5bf1f361b92f6027d": {
      "model_module": "@jupyter-widgets/base",
      "model_module_version": "1.2.0",
      "model_name": "LayoutModel",
      "state": {}
     },
     "de6f068a8b4f4fed9e43e797ea2bf6b5": {
      "model_module": "@jupyter-widgets/controls",
      "model_module_version": "1.5.0",
      "model_name": "FloatProgressModel",
      "state": {
       "bar_style": "success",
       "layout": "IPY_MODEL_fd50a73799c340b48e3df9014f95ded0",
       "max": 25193,
       "style": "IPY_MODEL_171ec7bdb1fc41dc94945219f6d11650",
       "value": 25193
      }
     },
     "e089d1d3261543c1a139f9ef2afbd10b": {
      "model_module": "@jupyter-widgets/controls",
      "model_module_version": "1.5.0",
      "model_name": "DescriptionStyleModel",
      "state": {
       "description_width": ""
      }
     },
     "e327dad9f91546cdaf5ce66c84540f46": {
      "model_module": "@jupyter-widgets/base",
      "model_module_version": "1.2.0",
      "model_name": "LayoutModel",
      "state": {}
     },
     "e448b185f48a45c182b320cbc71c9c86": {
      "model_module": "@jupyter-widgets/controls",
      "model_module_version": "1.5.0",
      "model_name": "FloatProgressModel",
      "state": {
       "bar_style": "success",
       "layout": "IPY_MODEL_d0cb9cf377e049868370ce83e0903d55",
       "max": 25193,
       "style": "IPY_MODEL_a5f66b4c3933465c87b1aa1b1c641045",
       "value": 25193
      }
     },
     "e5077db191af44ca8362c340d8f82427": {
      "model_module": "@jupyter-widgets/base",
      "model_module_version": "1.2.0",
      "model_name": "LayoutModel",
      "state": {}
     },
     "e5dea004ddbe4197b7852eed0f414ca4": {
      "model_module": "@jupyter-widgets/base",
      "model_module_version": "1.2.0",
      "model_name": "LayoutModel",
      "state": {}
     },
     "f134b604cba04650ba9901277644403f": {
      "model_module": "@jupyter-widgets/controls",
      "model_module_version": "1.5.0",
      "model_name": "FloatProgressModel",
      "state": {
       "bar_style": "success",
       "layout": "IPY_MODEL_a895e0dd67b448dfa26f04e792c6b5ff",
       "max": 25193,
       "style": "IPY_MODEL_4f9b450e7d8a4e7382c95c6fdbdeffcf",
       "value": 25193
      }
     },
     "f5878c0b60ca40a4b3654038517acbfc": {
      "model_module": "@jupyter-widgets/base",
      "model_module_version": "1.2.0",
      "model_name": "LayoutModel",
      "state": {}
     },
     "f6ac25ed0a6d4091949dae2169997f94": {
      "model_module": "@jupyter-widgets/base",
      "model_module_version": "1.2.0",
      "model_name": "LayoutModel",
      "state": {}
     },
     "f9fc18990ffc47e68d3a40b2582da0ed": {
      "model_module": "@jupyter-widgets/controls",
      "model_module_version": "1.5.0",
      "model_name": "HTMLModel",
      "state": {
       "layout": "IPY_MODEL_55f4c86a96644738a710a1967c5da5b2",
       "style": "IPY_MODEL_2f0011bd00a74b288a575e4bc3ad4ea0",
       "value": " 25193/25193 [00:06&lt;00:00, 4902.04it/s]"
      }
     },
     "fab4a5512e5b4107adfe5a28171ee3d4": {
      "model_module": "@jupyter-widgets/controls",
      "model_module_version": "1.5.0",
      "model_name": "HBoxModel",
      "state": {
       "children": [
        "IPY_MODEL_579dda9589d34ee6990bd260dff1aa10",
        "IPY_MODEL_01c13405180a45d1b64cd914d990face",
        "IPY_MODEL_0d4584ea8cf041768f2a8161250da344"
       ],
       "layout": "IPY_MODEL_5ceef95d206641569831795ef565133b"
      }
     },
     "fd50a73799c340b48e3df9014f95ded0": {
      "model_module": "@jupyter-widgets/base",
      "model_module_version": "1.2.0",
      "model_name": "LayoutModel",
      "state": {}
     },
     "fd894a3e00a44fb2be4f6b388b4c429c": {
      "model_module": "@jupyter-widgets/controls",
      "model_module_version": "1.5.0",
      "model_name": "HTMLModel",
      "state": {
       "layout": "IPY_MODEL_caf3e7d0e0b64a169f54eabe4c30297b",
       "style": "IPY_MODEL_b5e737fe052b4294a3d5b3cd92966054",
       "value": " 25193/25193 [01:34&lt;00:00, 82.86it/s]"
      }
     }
    },
    "version_major": 2,
    "version_minor": 0
   }
  }
 },
 "nbformat": 4,
 "nbformat_minor": 4
}
