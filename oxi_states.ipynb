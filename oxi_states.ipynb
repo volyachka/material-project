{
 "cells": [
  {
   "cell_type": "code",
   "execution_count": 1,
   "metadata": {},
   "outputs": [
    {
     "name": "stderr",
     "output_type": "stream",
     "text": [
      "/usr/local/lib/python3.8/site-packages/tqdm/auto.py:21: TqdmWarning: IProgress not found. Please update jupyter and ipywidgets. See https://ipywidgets.readthedocs.io/en/stable/user_install.html\n",
      "  from .autonotebook import tqdm as notebook_tqdm\n"
     ]
    }
   ],
   "source": [
    "import pandas as pd\n",
    "import matplotlib.pyplot as plt\n",
    "import pymatgen as mg\n",
    "import numpy as np\n",
    "# from pymatgen.ext.matproj import MPRester\n",
    "from tqdm import tqdm\n",
    "import pickle\n",
    "from pymatgen.symmetry.groups import SpaceGroup\n",
    "from pymatgen.core.periodic_table import Species\n",
    "from pymatgen.electronic_structure.plotter import BSPlotter\n",
    "from pymatgen.io import ase\n",
    "from pymatgen.transformations.standard_transformations import OxidationStateDecorationTransformation\n",
    "from pymatgen.transformations.standard_transformations import AutoOxiStateDecorationTransformation\n",
    "import os\n",
    "from pymatgen.core.structure import Structure\n",
    "from pymatgen.symmetry.analyzer import SpacegroupAnalyzer\n",
    "from pymatgen.core.periodic_table import Element\n",
    "from pymatgen.core.periodic_table import Species, DummySpecie\n",
    "from pymatgen.core import Species\n",
    "\n",
    "from tqdm import notebook as tqdm\n",
    "from tqdm.auto import tqdm as tqdm_pandas\n",
    "tqdm_pandas.pandas()\n",
    "from oxi_states import *"
   ]
  },
  {
   "cell_type": "markdown",
   "metadata": {},
   "source": [
    "1a. Read in all Li-containing compounds from Materials Project"
   ]
  },
  {
   "cell_type": "code",
   "execution_count": 2,
   "metadata": {},
   "outputs": [],
   "source": [
    "save_path = os.path.join(os.getcwd(), 'mpr_test/testing_structures.pkl')\n",
    "open_file = open(save_path, 'rb')\n",
    "structures_df = pickle.load(open_file)\n",
    "open_file.close()"
   ]
  },
  {
   "cell_type": "markdown",
   "metadata": {},
   "source": [
    "Add spacegroup"
   ]
  },
  {
   "cell_type": "code",
   "execution_count": 9,
   "metadata": {},
   "outputs": [],
   "source": [
    "oxidation_dictionary = {\"H\":1, \"Li\": 1, \"Na\":1, \"K\":1, \"Rb\": 1, \"Cs\":1, \"Be\":2, \"Mg\":2, \"Ca\":2, \\\n",
    "                        \"Sr\":2, \"Ba\":2, \"Ra\": 2, \"B\":3, \"Al\":3, \"Ga\":3, \"In\":3, \"Tl\":3, \\\n",
    "                        \"C\":4, \"Si\": 4, \"Ge\": 4, \"Sn\": 4, \"Pb\": 4, \"N\":-3, \"P\":5, \"As\":5, \\\n",
    "                        \"Sb\": 5, \"Bi\":5, \"O\":-2, \"S\":-2, \"Se\":-2, \"Te\":-2, \"Po\":-2, \"F\":-1, \\\n",
    "                       \"Cl\":-1, \"Br\":-1, \"I\":-1, \"Sc\":3, \"Y\":3, \"Lu\":3, \"Ti\":4, \"Zr\":4, \"Hf\":4, \\\n",
    "                       \"V\":5, \"Nb\":5, \"Ta\":5, \"Cr\":6, \"Mo\":4, \"W\":6, \"Mn\":7, \"Tc\":7, \"Re\":7, \\\n",
    "                       \"Fe\":3, \"Ru\":3, \"Os\":3, \"Co\": 3, \"Rh\":3, \"Ir\":3, \"Cu\":2, \"Ag\":1, \"Au\":3, \\\n",
    "                       \"Zn\":2, \"Ni\":2, \"Cd\":2, \"Hg\":2, \"La\":3, \"Ce\":3, \"Pd\":2, \"Pm\":3, \"Ho\":3, \\\n",
    "                        \"Eu\":3, \"Np\":3, \"Pu\":4, \"Gd\":3, \"Sm\":2, \"Tb\":3, \"Tm\":3, \"Yb\":3, \"Ac\":3, \\\n",
    "                       \"Dy\": 3, \"Er\":3, \"Pr\":3, \"U\":6, \"Pt\":2, \"Nd\":3, \"Th\":4, \"Pa\":5}\n",
    "\n",
    "# two types of transformations taken from the pymatgen\n",
    "oxidation_decorator = OxidationStateDecorationTransformation(oxidation_dictionary)\n",
    "oxidation_auto_decorator = AutoOxiStateDecorationTransformation(distance_scale_factor=1)"
   ]
  },
  {
   "cell_type": "code",
   "execution_count": 12,
   "metadata": {},
   "outputs": [],
   "source": [
    "# the eight distinct simplification dictionary are hardcoded here\n",
    "simplification_dict_A = {'C':False, 'A':True, 'M':False, 'N':False, '40':False}\n",
    "simplification_dict_AM = {'C':False, 'A':True, 'M':True, 'N':False, '40':False}\n",
    "simplification_dict_CAN = {'C':True, 'A':True, 'M':False, 'N':True, '40':False}\n",
    "simplification_dict_CAMN = {'C':True, 'A':True, 'M':True, 'N':True, '40':False}\n",
    "simplification_dict_A40 = {'C':False, 'A':True, 'M':False, 'N':False, '40':True}\n",
    "simplification_dict_AM40 = {'C':False, 'A':True, 'M':True, 'N':False, '40':True}\n",
    "simplification_dict_CAN40 = {'C':True, 'A':True, 'M':False, 'N':True, '40':True}\n",
    "simplification_dict_CAMN40 = {'C':True, 'A':True, 'M':True, 'N':True, '40':True}"
   ]
  },
  {
   "cell_type": "code",
   "execution_count": 15,
   "metadata": {},
   "outputs": [
    {
     "name": "stderr",
     "output_type": "stream",
     "text": [
      "100%|██████████| 70/70 [00:00<00:00, 557.35it/s]\n",
      "100%|██████████| 70/70 [00:00<00:00, 539.87it/s]\n",
      "100%|██████████| 70/70 [00:00<00:00, 328.93it/s]\n",
      "100%|██████████| 70/70 [00:00<00:00, 550.11it/s]\n",
      "100%|██████████| 70/70 [00:00<00:00, 501.05it/s]\n",
      "100%|██████████| 70/70 [00:00<00:00, 484.22it/s]\n",
      "100%|██████████| 70/70 [00:00<00:00, 489.56it/s]\n",
      "100%|██████████| 70/70 [00:00<00:00, 440.23it/s]\n"
     ]
    }
   ],
   "source": [
    "for structures_df in [structures_df]:\n",
    "    structures_df['structure_A'] = structures_df['structure'].progress_apply(structure_simplifications, simplification_dict=simplification_dict_A)\n",
    "    structures_df['structure_AM'] = structures_df['structure'].progress_apply(structure_simplifications, simplification_dict=simplification_dict_AM)\n",
    "    structures_df['structure_CAN'] = structures_df['structure'].progress_apply(structure_simplifications, simplification_dict=simplification_dict_CAN)\n",
    "    structures_df['structure_CAMN'] = structures_df['structure'].progress_apply(structure_simplifications, simplification_dict=simplification_dict_CAMN)\n",
    "    structures_df['structure_A40'] = structures_df['structure'].progress_apply(structure_simplifications, simplification_dict=simplification_dict_A40)\n",
    "    structures_df['structure_AM40'] = structures_df['structure'].progress_apply(structure_simplifications, simplification_dict=simplification_dict_AM40)\n",
    "    structures_df['structure_CAN40'] = structures_df['structure'].progress_apply(structure_simplifications, simplification_dict=simplification_dict_CAN40)\n",
    "    structures_df['structure_CAMN40'] = structures_df['structure'].progress_apply(structure_simplifications, simplification_dict=simplification_dict_CAMN40)"
   ]
  },
  {
   "cell_type": "code",
   "execution_count": 21,
   "metadata": {},
   "outputs": [],
   "source": [
    "structures_df = structures_df[['composition', 'ICSD_ID', 'MP_ID', 'structure', 'structure_A',\n",
    "       'structure_AM', 'structure_CAN', 'structure_CAMN', 'structure_A40',\n",
    "       'structure_AM40', 'structure_CAN40', 'structure_CAMN40']]"
   ]
  },
  {
   "cell_type": "code",
   "execution_count": null,
   "metadata": {},
   "outputs": [],
   "source": [
    "save_path = os.path.join(os.getcwd(), f'mpr_test/testing_structures_oxi_state.pkl')\n",
    "save_file = open(save_path, 'wb')\n",
    "pickle.dump(structures_df, save_file)\n",
    "save_file.close()"
   ]
  }
 ],
 "metadata": {
  "kernelspec": {
   "display_name": "Python 3 (ipykernel)",
   "language": "python",
   "name": "python3"
  },
  "language_info": {
   "codemirror_mode": {
    "name": "ipython",
    "version": 3
   },
   "file_extension": ".py",
   "mimetype": "text/x-python",
   "name": "python",
   "nbconvert_exporter": "python",
   "pygments_lexer": "ipython3",
   "version": "3.8.10"
  },
  "orig_nbformat": 4
 },
 "nbformat": 4,
 "nbformat_minor": 2
}
