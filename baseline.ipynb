{
 "cells": [
  {
   "cell_type": "code",
   "execution_count": 1,
   "metadata": {},
   "outputs": [],
   "source": [
    "import os\n",
    "import pickle\n",
    "import numpy as np\n",
    "import pandas as pd\n",
    "from numpy import nan as Nan\n",
    "from numpy import inf as inf\n",
    "from tqdm import notebook as tqdm\n",
    "from scipy.sparse import csr_matrix\n",
    "from sklearn.model_selection import cross_val_predict\n",
    "from catboost import CatBoostClassifier\n",
    "from sklearn.model_selection import train_test_split\n",
    "from sklearn.metrics import roc_auc_score\n",
    "\n",
    "from sklearn.preprocessing import StandardScaler\n",
    "from sklearn.decomposition import PCA\n",
    "\n",
    "from sklearn.model_selection import LeaveOneOut\n",
    "from sklearn.feature_selection import SelectFromModel\n",
    "\n",
    "from catboost import CatBoostClassifier\n",
    "from xgboost import XGBClassifier\n",
    "from sklearn.ensemble import GradientBoostingClassifier\n",
    "from sklearn.linear_model import LogisticRegression\n",
    "from sklearn.tree import DecisionTreeClassifier\n",
    "from sklearn.neighbors import KNeighborsClassifier\n",
    "\n",
    "from data_preprocessing import *\n",
    "from scoring import bootstrap_roc_auc\n"
   ]
  },
  {
   "cell_type": "code",
   "execution_count": 3,
   "metadata": {},
   "outputs": [],
   "source": [
    "def load_csv(path):\n",
    "    save_path = os.path.join(os.getcwd(), path)\n",
    "    open_file = open(save_path, 'rb')\n",
    "    labels_df = pickle.load(open_file)\n",
    "    open_file.close()\n",
    "    return labels_df\n",
    "\n",
    "\n",
    "dfs = []\n",
    "for i in range(5):\n",
    "    dfs.append(load_csv(f\"groups_and_oxi_states_5_frames/df_features_with_barrier_step_{i}.pkl\"))"
   ]
  },
  {
   "cell_type": "code",
   "execution_count": 4,
   "metadata": {},
   "outputs": [],
   "source": [
    "df = dfs[0]\n",
    "X, y = (df.drop(['is_good', 'stru_label', 'stru_id', 'barrier'], axis=1).to_numpy(), df['is_good'].astype(int).to_numpy())\n",
    "scaler = StandardScaler()\n",
    "X_scaled = scaler.fit_transform(X)"
   ]
  },
  {
   "cell_type": "markdown",
   "metadata": {},
   "source": [
    "LogisticRegression"
   ]
  },
  {
   "cell_type": "code",
   "execution_count": 51,
   "metadata": {},
   "outputs": [
    {
     "name": "stdout",
     "output_type": "stream",
     "text": [
      "0.7169641516566989 0.048631328349811355\n"
     ]
    }
   ],
   "source": [
    "loo = LeaveOneOut()\n",
    "loo.get_n_splits(X_scaled)\n",
    "preds = np.zeros(len(y))\n",
    "for i, (train_index, test_index) in enumerate(loo.split(X)):\n",
    "    model = LogisticRegression(random_state = 42, max_iter = 300)\n",
    "    model.fit(X_scaled[train_index, :], y[train_index])\n",
    "    preds[test_index] = model.predict_proba(X_scaled[test_index])[:, 1]\n",
    "estimated_mean, estimated_std = bootstrap_roc_auc(1000, y, preds)\n",
    "print(estimated_mean, estimated_std)"
   ]
  },
  {
   "cell_type": "markdown",
   "metadata": {},
   "source": [
    "GradientBoostingClassifier"
   ]
  },
  {
   "cell_type": "code",
   "execution_count": 54,
   "metadata": {},
   "outputs": [
    {
     "name": "stdout",
     "output_type": "stream",
     "text": [
      "0.7157661007906527 0.04993538947895872\n"
     ]
    }
   ],
   "source": [
    "loo = LeaveOneOut()\n",
    "loo.get_n_splits(X_scaled)\n",
    "preds = np.zeros(len(y))\n",
    "for i, (train_index, test_index) in enumerate(loo.split(X)):\n",
    "    model = GradientBoostingClassifier(random_state = 42)\n",
    "    model.fit(X_scaled[train_index, :], y[train_index])\n",
    "    preds[test_index] = model.predict_proba(X_scaled[test_index])[:, 1]\n",
    "estimated_mean, estimated_std = bootstrap_roc_auc(1000, y, preds)\n",
    "print(estimated_mean, estimated_std)"
   ]
  },
  {
   "cell_type": "markdown",
   "metadata": {},
   "source": [
    "KNeighborsClassifier"
   ]
  },
  {
   "cell_type": "code",
   "execution_count": 55,
   "metadata": {},
   "outputs": [
    {
     "name": "stdout",
     "output_type": "stream",
     "text": [
      "0.6773745740002095 0.048099549669542656\n"
     ]
    }
   ],
   "source": [
    "loo = LeaveOneOut()\n",
    "loo.get_n_splits(X_scaled)\n",
    "preds = np.zeros(len(y))\n",
    "for i, (train_index, test_index) in enumerate(loo.split(X)):\n",
    "    model = KNeighborsClassifier()\n",
    "    model.fit(X_scaled[train_index, :], y[train_index])\n",
    "    preds[test_index] = model.predict_proba(X_scaled[test_index])[:, 1]\n",
    "estimated_mean, estimated_std = bootstrap_roc_auc(1000, y, preds)\n",
    "print(estimated_mean, estimated_std)"
   ]
  },
  {
   "cell_type": "markdown",
   "metadata": {},
   "source": [
    "XGBClassifier"
   ]
  },
  {
   "cell_type": "code",
   "execution_count": 7,
   "metadata": {},
   "outputs": [
    {
     "name": "stdout",
     "output_type": "stream",
     "text": [
      "0.7150331143299083 0.051139167732529016\n"
     ]
    }
   ],
   "source": [
    "loo = LeaveOneOut()\n",
    "loo.get_n_splits(X_scaled)\n",
    "preds = np.zeros(len(y))\n",
    "for i, (train_index, test_index) in enumerate(loo.split(X)):\n",
    "    model = XGBClassifier(objective='binary:logistic', n_estimators=250)\n",
    "    model.fit(X_scaled[train_index, :], y[train_index])\n",
    "    preds[test_index] = model.predict_proba(X_scaled[test_index])[:, 1]\n",
    "estimated_mean, estimated_std = bootstrap_roc_auc(1000, y, preds)\n",
    "print(estimated_mean, estimated_std)"
   ]
  },
  {
   "cell_type": "markdown",
   "metadata": {},
   "source": [
    "CatBoostClassifier"
   ]
  },
  {
   "cell_type": "code",
   "execution_count": 10,
   "metadata": {},
   "outputs": [
    {
     "name": "stdout",
     "output_type": "stream",
     "text": [
      "0.7302289835116726 0.04862945901674476\n"
     ]
    }
   ],
   "source": [
    "loo = LeaveOneOut()\n",
    "loo.get_n_splits(X_scaled)\n",
    "preds = np.zeros(len(y))\n",
    "for i, (train_index, test_index) in enumerate(loo.split(X)):\n",
    "    model = CatBoostClassifier(eval_metric='AUC', verbose = False, random_state = 42)\n",
    "    model.fit(X_scaled[train_index, :], y[train_index])\n",
    "    preds[test_index] = model.predict_proba(X_scaled[test_index])[:, 1]\n",
    "estimated_mean, estimated_std = bootstrap_roc_auc(1000, y, preds)\n",
    "print(estimated_mean, estimated_std)"
   ]
  },
  {
   "cell_type": "markdown",
   "metadata": {},
   "source": []
  },
  {
   "cell_type": "markdown",
   "metadata": {},
   "source": [
    " LogisticRegression with regularization"
   ]
  },
  {
   "cell_type": "code",
   "execution_count": null,
   "metadata": {},
   "outputs": [],
   "source": []
  }
 ],
 "metadata": {
  "kernelspec": {
   "display_name": "Python 3",
   "language": "python",
   "name": "python3"
  },
  "language_info": {
   "codemirror_mode": {
    "name": "ipython",
    "version": 3
   },
   "file_extension": ".py",
   "mimetype": "text/x-python",
   "name": "python",
   "nbconvert_exporter": "python",
   "pygments_lexer": "ipython3",
   "version": "3.8.10"
  },
  "orig_nbformat": 4
 },
 "nbformat": 4,
 "nbformat_minor": 2
}
