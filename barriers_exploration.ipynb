{
 "cells": [
  {
   "cell_type": "code",
   "execution_count": 1,
   "metadata": {},
   "outputs": [],
   "source": [
    "from data_preprocessing import *\n",
    "import os\n",
    "import io\n",
    "import sys\n",
    "import re\n",
    "import time\n",
    "import math\n",
    "import pickle\n",
    "\n",
    "import numpy as np\n",
    "import pandas as pd\n",
    "\n",
    "from numpy import nan as Nan\n",
    "from numpy import inf as inf\n",
    "from tqdm import notebook as tqdm\n",
    "from scipy.sparse import csr_matrix\n",
    "from catboost import CatBoostClassifier\n",
    "from sklearn.model_selection import train_test_split\n",
    "from sklearn.metrics import accuracy_score\n",
    "from sklearn.metrics import roc_auc_score\n",
    "from sklearn.preprocessing import StandardScaler\n",
    "from catboost import CatBoostRegressor, Pool, EShapCalcType, EFeaturesSelectionAlgorithm\n",
    "import matplotlib.pyplot as plt\n",
    "from catboost import CatBoostClassifier\n",
    "from sklearn.model_selection import train_test_split\n",
    "from sklearn.metrics import accuracy_score\n",
    "from sklearn.metrics import roc_auc_score\n",
    "from sklearn.decomposition import PCA\n",
    "from sklearn.ensemble import GradientBoostingClassifier\n",
    "from catboost import CatBoostRegressor, Pool, EShapCalcType, EFeaturesSelectionAlgorithm\n",
    "\n"
   ]
  },
  {
   "cell_type": "code",
   "execution_count": 2,
   "metadata": {},
   "outputs": [
    {
     "data": {
      "text/html": [
       "<div>\n",
       "<style scoped>\n",
       "    .dataframe tbody tr th:only-of-type {\n",
       "        vertical-align: middle;\n",
       "    }\n",
       "\n",
       "    .dataframe tbody tr th {\n",
       "        vertical-align: top;\n",
       "    }\n",
       "\n",
       "    .dataframe thead th {\n",
       "        text-align: right;\n",
       "    }\n",
       "</style>\n",
       "<table border=\"1\" class=\"dataframe\">\n",
       "  <thead>\n",
       "    <tr style=\"text-align: right;\">\n",
       "      <th></th>\n",
       "      <th>src_database</th>\n",
       "      <th>src_id</th>\n",
       "      <th>structure</th>\n",
       "      <th>mobile_id</th>\n",
       "      <th>barrier</th>\n",
       "    </tr>\n",
       "  </thead>\n",
       "  <tbody>\n",
       "    <tr>\n",
       "      <th>0</th>\n",
       "      <td>Crystallography Open Database</td>\n",
       "      <td>1537475</td>\n",
       "      <td>Li24Al8N16</td>\n",
       "      <td>0</td>\n",
       "      <td>10.122589</td>\n",
       "    </tr>\n",
       "    <tr>\n",
       "      <th>1</th>\n",
       "      <td>Crystallography Open Database</td>\n",
       "      <td>1537475</td>\n",
       "      <td>Li24Al8N16</td>\n",
       "      <td>1</td>\n",
       "      <td>10.139496</td>\n",
       "    </tr>\n",
       "    <tr>\n",
       "      <th>2</th>\n",
       "      <td>Crystallography Open Database</td>\n",
       "      <td>1537475</td>\n",
       "      <td>Li24Al8N16</td>\n",
       "      <td>2</td>\n",
       "      <td>10.142868</td>\n",
       "    </tr>\n",
       "    <tr>\n",
       "      <th>3</th>\n",
       "      <td>Crystallography Open Database</td>\n",
       "      <td>1537475</td>\n",
       "      <td>Li24Al8N16</td>\n",
       "      <td>3</td>\n",
       "      <td>10.129608</td>\n",
       "    </tr>\n",
       "    <tr>\n",
       "      <th>4</th>\n",
       "      <td>Crystallography Open Database</td>\n",
       "      <td>1537475</td>\n",
       "      <td>Li24Al8N16</td>\n",
       "      <td>4</td>\n",
       "      <td>10.131851</td>\n",
       "    </tr>\n",
       "    <tr>\n",
       "      <th>...</th>\n",
       "      <td>...</td>\n",
       "      <td>...</td>\n",
       "      <td>...</td>\n",
       "      <td>...</td>\n",
       "      <td>...</td>\n",
       "    </tr>\n",
       "    <tr>\n",
       "      <th>1148</th>\n",
       "      <td>Icsd</td>\n",
       "      <td>416956</td>\n",
       "      <td>Na4Li4B16O28</td>\n",
       "      <td>7</td>\n",
       "      <td>2.778259</td>\n",
       "    </tr>\n",
       "    <tr>\n",
       "      <th>1149</th>\n",
       "      <td>Icsd</td>\n",
       "      <td>291512</td>\n",
       "      <td>Na2Li4B2P4O16</td>\n",
       "      <td>2</td>\n",
       "      <td>1.564987</td>\n",
       "    </tr>\n",
       "    <tr>\n",
       "      <th>1150</th>\n",
       "      <td>Icsd</td>\n",
       "      <td>291512</td>\n",
       "      <td>Na2Li4B2P4O16</td>\n",
       "      <td>3</td>\n",
       "      <td>1.555054</td>\n",
       "    </tr>\n",
       "    <tr>\n",
       "      <th>1151</th>\n",
       "      <td>Icsd</td>\n",
       "      <td>291512</td>\n",
       "      <td>Na2Li4B2P4O16</td>\n",
       "      <td>4</td>\n",
       "      <td>2.649597</td>\n",
       "    </tr>\n",
       "    <tr>\n",
       "      <th>1152</th>\n",
       "      <td>Icsd</td>\n",
       "      <td>291512</td>\n",
       "      <td>Na2Li4B2P4O16</td>\n",
       "      <td>5</td>\n",
       "      <td>2.647491</td>\n",
       "    </tr>\n",
       "  </tbody>\n",
       "</table>\n",
       "<p>1153 rows × 5 columns</p>\n",
       "</div>"
      ],
      "text/plain": [
       "                       src_database   src_id      structure  mobile_id  \\\n",
       "0     Crystallography Open Database  1537475     Li24Al8N16          0   \n",
       "1     Crystallography Open Database  1537475     Li24Al8N16          1   \n",
       "2     Crystallography Open Database  1537475     Li24Al8N16          2   \n",
       "3     Crystallography Open Database  1537475     Li24Al8N16          3   \n",
       "4     Crystallography Open Database  1537475     Li24Al8N16          4   \n",
       "...                             ...      ...            ...        ...   \n",
       "1148                           Icsd   416956   Na4Li4B16O28          7   \n",
       "1149                           Icsd   291512  Na2Li4B2P4O16          2   \n",
       "1150                           Icsd   291512  Na2Li4B2P4O16          3   \n",
       "1151                           Icsd   291512  Na2Li4B2P4O16          4   \n",
       "1152                           Icsd   291512  Na2Li4B2P4O16          5   \n",
       "\n",
       "        barrier  \n",
       "0     10.122589  \n",
       "1     10.139496  \n",
       "2     10.142868  \n",
       "3     10.129608  \n",
       "4     10.131851  \n",
       "...         ...  \n",
       "1148   2.778259  \n",
       "1149   1.564987  \n",
       "1150   1.555054  \n",
       "1151   2.649597  \n",
       "1152   2.647491  \n",
       "\n",
       "[1153 rows x 5 columns]"
      ]
     },
     "execution_count": 2,
     "metadata": {},
     "output_type": "execute_result"
    }
   ],
   "source": [
    "import pandas as pd\n",
    "df = pd.read_csv('Kahle2020.predicted_barriers.csv')\n",
    "df"
   ]
  },
  {
   "cell_type": "code",
   "execution_count": 3,
   "metadata": {},
   "outputs": [],
   "source": [
    "def load_csv(path):\n",
    "    save_path = os.path.join(os.getcwd(), path)\n",
    "    open_file = open(save_path, 'rb')\n",
    "    labels_df = pickle.load(open_file)\n",
    "    open_file.close()\n",
    "    return labels_df\n",
    "\n",
    "\n",
    "dfs = []\n",
    "for i in range(5):\n",
    "    dfs.append(load_csv(f\"groups_and_oxi_states_5_frames/df_features_step_{i}.pkl\"))\n"
   ]
  },
  {
   "cell_type": "code",
   "execution_count": 4,
   "metadata": {},
   "outputs": [
    {
     "name": "stdout",
     "output_type": "stream",
     "text": [
      "121\n"
     ]
    }
   ],
   "source": [
    "df_modified = df.groupby(by=[\"structure\", \"src_id\"]).min().reset_index()\n",
    "print(len(df_modified))"
   ]
  },
  {
   "cell_type": "code",
   "execution_count": 5,
   "metadata": {},
   "outputs": [
    {
     "data": {
      "text/plain": [
       "True"
      ]
     },
     "execution_count": 5,
     "metadata": {},
     "output_type": "execute_result"
    }
   ],
   "source": [
    "dfs[0]['stru_label'].to_list() == dfs[1]['stru_label'].to_list() == dfs[2]['stru_label'].to_list() == dfs[3]['stru_label'].to_list() == dfs[4]['stru_label'].to_list()"
   ]
  },
  {
   "cell_type": "code",
   "execution_count": 6,
   "metadata": {},
   "outputs": [],
   "source": [
    "for i in range(5):\n",
    "    dfs[i] = dfs[i].merge(df_modified, left_on=['stru_label', 'stru_id'], right_on=['structure', 'src_id'])\n",
    "    dfs[i] = dfs[i].drop(['structure',\t'src_id', 'src_database', 'mobile_id'],axis=1)"
   ]
  },
  {
   "cell_type": "code",
   "execution_count": 7,
   "metadata": {},
   "outputs": [],
   "source": [
    "dfs = []\n",
    "for i in range(5):\n",
    "    path_to_save = 'groups_and_oxi_states_5_frames/df_features_with_barrier_step_{}.pkl'.format(i)\n",
    "    dfs.append(load_csv(path_to_save))"
   ]
  },
  {
   "cell_type": "code",
   "execution_count": 8,
   "metadata": {},
   "outputs": [
    {
     "name": "stderr",
     "output_type": "stream",
     "text": [
      "/usr/local/lib/python3.8/site-packages/tqdm/auto.py:21: TqdmWarning: IProgress not found. Please update jupyter and ipywidgets. See https://ipywidgets.readthedocs.io/en/stable/user_install.html\n",
      "  from .autonotebook import tqdm as notebook_tqdm\n",
      "/tmp/ipykernel_23159/3096521026.py:4: FutureWarning: Dropping invalid columns in DataFrameGroupBy.min is deprecated. In a future version, a TypeError will be raised. Before calling .min, select only columns which should be valid for the function.\n",
      "  data_slim = data_slim.groupby(by=[\"stru_label\", \"stru_id\"]).min().reset_index()\n"
     ]
    }
   ],
   "source": [
    "from aiida_utils.load_data import load_data_slim\n",
    "data_slim = load_data_slim()\n",
    "data_slim[data_slim['temp'] == 1000]\n",
    "data_slim = data_slim.groupby(by=[\"stru_label\", \"stru_id\"]).min().reset_index()\n"
   ]
  },
  {
   "cell_type": "code",
   "execution_count": 9,
   "metadata": {},
   "outputs": [],
   "source": [
    "data_slim = data_slim.merge(df_modified, left_on=['stru_label', 'stru_id'], right_on=['structure', 'src_id'])\n",
    "data_slim = data_slim.merge(dfs[0][['stru_label',  'stru_id', 'is_good']], left_on=['stru_label', 'stru_id'], right_on=['stru_label', 'stru_id'])"
   ]
  },
  {
   "cell_type": "code",
   "execution_count": 10,
   "metadata": {},
   "outputs": [
    {
     "data": {
      "text/html": [
       "<div>\n",
       "<style scoped>\n",
       "    .dataframe tbody tr th:only-of-type {\n",
       "        vertical-align: middle;\n",
       "    }\n",
       "\n",
       "    .dataframe tbody tr th {\n",
       "        vertical-align: top;\n",
       "    }\n",
       "\n",
       "    .dataframe thead th {\n",
       "        text-align: right;\n",
       "    }\n",
       "</style>\n",
       "<table border=\"1\" class=\"dataframe\">\n",
       "  <thead>\n",
       "    <tr style=\"text-align: right;\">\n",
       "      <th></th>\n",
       "      <th>stru_label</th>\n",
       "      <th>stru_id</th>\n",
       "      <th>stru_db</th>\n",
       "      <th>temp</th>\n",
       "      <th>diff_mean</th>\n",
       "      <th>diff_std</th>\n",
       "      <th>diff_sem</th>\n",
       "      <th>structure</th>\n",
       "      <th>src_id</th>\n",
       "      <th>src_database</th>\n",
       "      <th>mobile_id</th>\n",
       "      <th>barrier</th>\n",
       "      <th>is_good</th>\n",
       "    </tr>\n",
       "  </thead>\n",
       "  <tbody>\n",
       "    <tr>\n",
       "      <th>0</th>\n",
       "      <td>Ba4Li6Nb2N8</td>\n",
       "      <td>75516</td>\n",
       "      <td>Icsd</td>\n",
       "      <td>1000.0</td>\n",
       "      <td>-9.801221e-09</td>\n",
       "      <td>1.486174e-08</td>\n",
       "      <td>1.050883e-08</td>\n",
       "      <td>Ba4Li6Nb2N8</td>\n",
       "      <td>75516</td>\n",
       "      <td>Icsd</td>\n",
       "      <td>4</td>\n",
       "      <td>3.880035</td>\n",
       "      <td>False</td>\n",
       "    </tr>\n",
       "    <tr>\n",
       "      <th>1</th>\n",
       "      <td>Ba4Li6Ta2N8</td>\n",
       "      <td>75031</td>\n",
       "      <td>Icsd</td>\n",
       "      <td>1000.0</td>\n",
       "      <td>-2.874040e-08</td>\n",
       "      <td>2.562046e-08</td>\n",
       "      <td>1.811640e-08</td>\n",
       "      <td>Ba4Li6Ta2N8</td>\n",
       "      <td>75031</td>\n",
       "      <td>Icsd</td>\n",
       "      <td>4</td>\n",
       "      <td>3.897186</td>\n",
       "      <td>False</td>\n",
       "    </tr>\n",
       "    <tr>\n",
       "      <th>2</th>\n",
       "      <td>Cs2Li6Cl8</td>\n",
       "      <td>245975</td>\n",
       "      <td>Icsd</td>\n",
       "      <td>500.0</td>\n",
       "      <td>6.850619e-08</td>\n",
       "      <td>1.577688e-07</td>\n",
       "      <td>2.326175e-08</td>\n",
       "      <td>Cs2Li6Cl8</td>\n",
       "      <td>245975</td>\n",
       "      <td>Icsd</td>\n",
       "      <td>2</td>\n",
       "      <td>0.414459</td>\n",
       "      <td>True</td>\n",
       "    </tr>\n",
       "    <tr>\n",
       "      <th>3</th>\n",
       "      <td>Cs3Li2Br5</td>\n",
       "      <td>245978</td>\n",
       "      <td>Icsd</td>\n",
       "      <td>1000.0</td>\n",
       "      <td>-1.997376e-08</td>\n",
       "      <td>1.882750e-07</td>\n",
       "      <td>1.087006e-07</td>\n",
       "      <td>Cs3Li2Br5</td>\n",
       "      <td>245978</td>\n",
       "      <td>Icsd</td>\n",
       "      <td>3</td>\n",
       "      <td>0.514509</td>\n",
       "      <td>False</td>\n",
       "    </tr>\n",
       "    <tr>\n",
       "      <th>4</th>\n",
       "      <td>Cs4Li4B4P8O30</td>\n",
       "      <td>424281</td>\n",
       "      <td>Icsd</td>\n",
       "      <td>1000.0</td>\n",
       "      <td>-9.624829e-10</td>\n",
       "      <td>5.407914e-08</td>\n",
       "      <td>3.823973e-08</td>\n",
       "      <td>Cs4Li4B4P8O30</td>\n",
       "      <td>424281</td>\n",
       "      <td>Icsd</td>\n",
       "      <td>4</td>\n",
       "      <td>2.767853</td>\n",
       "      <td>False</td>\n",
       "    </tr>\n",
       "    <tr>\n",
       "      <th>...</th>\n",
       "      <td>...</td>\n",
       "      <td>...</td>\n",
       "      <td>...</td>\n",
       "      <td>...</td>\n",
       "      <td>...</td>\n",
       "      <td>...</td>\n",
       "      <td>...</td>\n",
       "      <td>...</td>\n",
       "      <td>...</td>\n",
       "      <td>...</td>\n",
       "      <td>...</td>\n",
       "      <td>...</td>\n",
       "      <td>...</td>\n",
       "    </tr>\n",
       "    <tr>\n",
       "      <th>111</th>\n",
       "      <td>Rb8Li4Ta4S16</td>\n",
       "      <td>1535645</td>\n",
       "      <td>Crystallography Open Database</td>\n",
       "      <td>1000.0</td>\n",
       "      <td>4.959528e-06</td>\n",
       "      <td>7.254926e-06</td>\n",
       "      <td>1.396211e-06</td>\n",
       "      <td>Rb8Li4Ta4S16</td>\n",
       "      <td>1535645</td>\n",
       "      <td>Crystallography Open Database</td>\n",
       "      <td>8</td>\n",
       "      <td>1.265625</td>\n",
       "      <td>True</td>\n",
       "    </tr>\n",
       "    <tr>\n",
       "      <th>112</th>\n",
       "      <td>Sr12Li24Si24N48</td>\n",
       "      <td>4002768</td>\n",
       "      <td>Crystallography Open Database</td>\n",
       "      <td>1000.0</td>\n",
       "      <td>-3.019376e-10</td>\n",
       "      <td>1.412826e-08</td>\n",
       "      <td>8.156953e-09</td>\n",
       "      <td>Sr12Li24Si24N48</td>\n",
       "      <td>4002768</td>\n",
       "      <td>Crystallography Open Database</td>\n",
       "      <td>12</td>\n",
       "      <td>6.694336</td>\n",
       "      <td>False</td>\n",
       "    </tr>\n",
       "    <tr>\n",
       "      <th>113</th>\n",
       "      <td>Sr2Li4Ta4O14</td>\n",
       "      <td>246277</td>\n",
       "      <td>Icsd</td>\n",
       "      <td>1000.0</td>\n",
       "      <td>-5.855213e-09</td>\n",
       "      <td>1.039611e-08</td>\n",
       "      <td>6.002195e-09</td>\n",
       "      <td>Sr2Li4Ta4O14</td>\n",
       "      <td>246277</td>\n",
       "      <td>Icsd</td>\n",
       "      <td>2</td>\n",
       "      <td>4.163895</td>\n",
       "      <td>False</td>\n",
       "    </tr>\n",
       "    <tr>\n",
       "      <th>114</th>\n",
       "      <td>Sr6Li12Ta4O22</td>\n",
       "      <td>4306193</td>\n",
       "      <td>Crystallography Open Database</td>\n",
       "      <td>1000.0</td>\n",
       "      <td>3.019660e-07</td>\n",
       "      <td>5.887853e-07</td>\n",
       "      <td>1.699677e-07</td>\n",
       "      <td>Sr6Li12Ta4O22</td>\n",
       "      <td>4306193</td>\n",
       "      <td>Crystallography Open Database</td>\n",
       "      <td>6</td>\n",
       "      <td>6.037476</td>\n",
       "      <td>False</td>\n",
       "    </tr>\n",
       "    <tr>\n",
       "      <th>115</th>\n",
       "      <td>SrLi4P2</td>\n",
       "      <td>416888</td>\n",
       "      <td>Icsd</td>\n",
       "      <td>1000.0</td>\n",
       "      <td>-6.918637e-09</td>\n",
       "      <td>2.412717e-08</td>\n",
       "      <td>1.392983e-08</td>\n",
       "      <td>SrLi4P2</td>\n",
       "      <td>416888</td>\n",
       "      <td>Icsd</td>\n",
       "      <td>1</td>\n",
       "      <td>3.127483</td>\n",
       "      <td>False</td>\n",
       "    </tr>\n",
       "  </tbody>\n",
       "</table>\n",
       "<p>116 rows × 13 columns</p>\n",
       "</div>"
      ],
      "text/plain": [
       "          stru_label  stru_id                        stru_db    temp  \\\n",
       "0        Ba4Li6Nb2N8    75516                           Icsd  1000.0   \n",
       "1        Ba4Li6Ta2N8    75031                           Icsd  1000.0   \n",
       "2          Cs2Li6Cl8   245975                           Icsd   500.0   \n",
       "3          Cs3Li2Br5   245978                           Icsd  1000.0   \n",
       "4      Cs4Li4B4P8O30   424281                           Icsd  1000.0   \n",
       "..               ...      ...                            ...     ...   \n",
       "111     Rb8Li4Ta4S16  1535645  Crystallography Open Database  1000.0   \n",
       "112  Sr12Li24Si24N48  4002768  Crystallography Open Database  1000.0   \n",
       "113     Sr2Li4Ta4O14   246277                           Icsd  1000.0   \n",
       "114    Sr6Li12Ta4O22  4306193  Crystallography Open Database  1000.0   \n",
       "115          SrLi4P2   416888                           Icsd  1000.0   \n",
       "\n",
       "        diff_mean      diff_std      diff_sem        structure   src_id  \\\n",
       "0   -9.801221e-09  1.486174e-08  1.050883e-08      Ba4Li6Nb2N8    75516   \n",
       "1   -2.874040e-08  2.562046e-08  1.811640e-08      Ba4Li6Ta2N8    75031   \n",
       "2    6.850619e-08  1.577688e-07  2.326175e-08        Cs2Li6Cl8   245975   \n",
       "3   -1.997376e-08  1.882750e-07  1.087006e-07        Cs3Li2Br5   245978   \n",
       "4   -9.624829e-10  5.407914e-08  3.823973e-08    Cs4Li4B4P8O30   424281   \n",
       "..            ...           ...           ...              ...      ...   \n",
       "111  4.959528e-06  7.254926e-06  1.396211e-06     Rb8Li4Ta4S16  1535645   \n",
       "112 -3.019376e-10  1.412826e-08  8.156953e-09  Sr12Li24Si24N48  4002768   \n",
       "113 -5.855213e-09  1.039611e-08  6.002195e-09     Sr2Li4Ta4O14   246277   \n",
       "114  3.019660e-07  5.887853e-07  1.699677e-07    Sr6Li12Ta4O22  4306193   \n",
       "115 -6.918637e-09  2.412717e-08  1.392983e-08          SrLi4P2   416888   \n",
       "\n",
       "                      src_database  mobile_id   barrier  is_good  \n",
       "0                             Icsd          4  3.880035    False  \n",
       "1                             Icsd          4  3.897186    False  \n",
       "2                             Icsd          2  0.414459     True  \n",
       "3                             Icsd          3  0.514509    False  \n",
       "4                             Icsd          4  2.767853    False  \n",
       "..                             ...        ...       ...      ...  \n",
       "111  Crystallography Open Database          8  1.265625     True  \n",
       "112  Crystallography Open Database         12  6.694336    False  \n",
       "113                           Icsd          2  4.163895    False  \n",
       "114  Crystallography Open Database          6  6.037476    False  \n",
       "115                           Icsd          1  3.127483    False  \n",
       "\n",
       "[116 rows x 13 columns]"
      ]
     },
     "execution_count": 10,
     "metadata": {},
     "output_type": "execute_result"
    }
   ],
   "source": [
    "data_slim"
   ]
  },
  {
   "cell_type": "code",
   "execution_count": 11,
   "metadata": {},
   "outputs": [],
   "source": [
    "data_slim = data_slim[['stru_label', 'stru_id', 'stru_db', 'temp', 'diff_mean', 'diff_std',\n",
    "       'diff_sem', 'is_good', 'barrier']]"
   ]
  },
  {
   "cell_type": "code",
   "execution_count": 12,
   "metadata": {},
   "outputs": [],
   "source": [
    "import seaborn as sns"
   ]
  },
  {
   "cell_type": "code",
   "execution_count": 13,
   "metadata": {},
   "outputs": [
    {
     "data": {
      "image/png": "[encoded data removed]",
      "text/plain": [
       "<Figure size 640x480 with 1 Axes>"
      ]
     },
     "metadata": {},
     "output_type": "display_data"
    }
   ],
   "source": [
    "sns.scatterplot(data=data_slim, x=\"barrier\", y=\"diff_mean\", hue = 'is_good')\n",
    "plt.title('Distribution of barrier feature and conductivity') \n",
    "plt.show()"
   ]
  },
  {
   "cell_type": "code",
   "execution_count": 14,
   "metadata": {},
   "outputs": [
    {
     "data": {
      "image/png": "[encoded data removed]",
      "text/plain": [
       "<Figure size 640x480 with 1 Axes>"
      ]
     },
     "metadata": {},
     "output_type": "display_data"
    }
   ],
   "source": [
    "data = dfs[0]\n",
    "bad_conductors = data[data['is_good'] == True]['barrier']\n",
    "good_conductors = data[data['is_good'] == False]['barrier']\n",
    "\n",
    "plt.hist(good_conductors, alpha=0.5, label='bad conductivity', density = True, stacked = True, bins = 40)\n",
    "plt.hist(bad_conductors, alpha=0.5, label='potential conductor', density = True, stacked = True, bins = 40)\n",
    "\n",
    "plt.legend(loc='upper right')\n",
    "plt.title('Distribution of barrier feature by conductivity')\n",
    "plt.xlabel('Barrier value')\n",
    "plt.ylabel('Normalized Frequency')\n",
    "plt.show()"
   ]
  },
  {
   "cell_type": "code",
   "execution_count": 15,
   "metadata": {},
   "outputs": [
    {
     "data": {
      "image/png": "[encoded data removed]",
      "text/plain": [
       "<Figure size 640x480 with 1 Axes>"
      ]
     },
     "metadata": {},
     "output_type": "display_data"
    }
   ],
   "source": [
    "data = dfs[0]\n",
    "bad_conductors = data[data['is_good'] == True]['barrier']\n",
    "good_conductors = data[data['is_good'] == False]['barrier']\n",
    "\n",
    "plt.hist(bad_conductors, alpha=0.5, label='potential conductor', density = True, stacked = True)\n",
    "plt.hist(good_conductors, alpha=0.5, label='bad conductivity', density = True, stacked = True)\n",
    "plt.legend(loc='upper right')\n",
    "plt.title('Distribution of barrier feature by conductivity')\n",
    "plt.xlabel('Barrier value')\n",
    "plt.ylabel('Normalized Frequency')\n",
    "plt.show()"
   ]
  },
  {
   "cell_type": "code",
   "execution_count": 16,
   "metadata": {},
   "outputs": [],
   "source": [
    "df = dfs[0]\n",
    "df.rename(columns={'barrier': 903}, inplace = True)\n",
    "df.drop(['stru_label', 'stru_id'], axis=1, inplace = True)"
   ]
  },
  {
   "cell_type": "code",
   "execution_count": 17,
   "metadata": {},
   "outputs": [],
   "source": [
    "X, y = (df.drop(['is_good'], axis=1), df['is_good'].astype(int))\n",
    "scaler = StandardScaler()\n",
    "X = X.to_numpy()\n",
    "X_scaled = scaler.fit_transform(X)"
   ]
  },
  {
   "cell_type": "code",
   "execution_count": 19,
   "metadata": {},
   "outputs": [
    {
     "name": "stdout",
     "output_type": "stream",
     "text": [
      "roc auc score 0.9248120300751879 for random_split 8334788\n",
      "roc auc score 0.9133064516129032 for random_split 9151291\n",
      "roc auc score 0.8113553113553112 for random_split 4517925\n",
      "roc auc score 0.8509803921568627 for random_split 5765657\n",
      "roc auc score 0.9745098039215686 for random_split 1797675\n",
      "mean roc auc 0.8949927978243668\n"
     ]
    }
   ],
   "source": [
    "from sklearn.model_selection import train_test_split\n",
    "splits = [8334788, 9151291, 4517925, 5765657, 1797675]\n",
    "roc_auc = []\n",
    "for random_split in splits:\n",
    "    assembled_pred = np.zeros(46)\n",
    "    X, y = (df.drop(['is_good'], axis=1), df['is_good'].astype(int))\n",
    "    X = X.to_numpy()\n",
    "    scaler = StandardScaler()\n",
    "    X_scaled = scaler.fit_transform(X)\n",
    "    X_tr, X_te, y_tr, y_te = train_test_split(X_scaled, y, test_size=0.4, random_state=random_split)\n",
    "    model = CatBoostClassifier(eval_metric='AUC', verbose = False)\n",
    "    feature_names = ['F{}'.format(i) for i in range(np.array(X_tr).shape[1])]\n",
    "    test_pool = Pool(np.array(X_te), y_te, feature_names=feature_names)\n",
    "    summary = model.select_features(\n",
    "        X = X_tr,\n",
    "        y=y_tr,\n",
    "        eval_set=test_pool,\n",
    "        features_for_select= np.arange(len(X_tr[0])),\n",
    "        num_features_to_select=50,\n",
    "        steps=6,\n",
    "        algorithm=EFeaturesSelectionAlgorithm.RecursiveByShapValues,\n",
    "        shap_calc_type=EShapCalcType.Regular,\n",
    "        train_final_model=True,\n",
    "        logging_level='Silent',\n",
    "        plot=False)\n",
    "    y_pred = model.predict_proba(X_te)[:, 1]\n",
    "    roc_auc.append(roc_auc_score(y_te, y_pred))\n",
    "    print(f\"roc auc score {roc_auc[-1]} for random_split {random_split}\")\n",
    "print(f\"mean roc auc {np.mean(roc_auc)}\")"
   ]
  },
  {
   "cell_type": "code",
   "execution_count": 28,
   "metadata": {},
   "outputs": [],
   "source": [
    "X, y = (df.drop(['is_good', 903], axis=1), df['is_good'].astype(int))\n",
    "scaler = StandardScaler()\n",
    "X = X.to_numpy()\n",
    "X_scaled = scaler.fit_transform(X)"
   ]
  },
  {
   "cell_type": "markdown",
   "metadata": {},
   "source": []
  },
  {
   "cell_type": "code",
   "execution_count": 29,
   "metadata": {},
   "outputs": [
    {
     "name": "stdout",
     "output_type": "stream",
     "text": [
      "roc auc score 0.9248120300751879 for random_split 8334788\n",
      "roc auc score 0.9133064516129032 for random_split 9151291\n",
      "roc auc score 0.8113553113553112 for random_split 4517925\n",
      "roc auc score 0.8509803921568627 for random_split 5765657\n",
      "roc auc score 0.9745098039215686 for random_split 1797675\n",
      "mean roc auc 0.8949927978243668\n"
     ]
    }
   ],
   "source": [
    "from sklearn.model_selection import train_test_split\n",
    "splits = [8334788, 9151291, 4517925, 5765657, 1797675]\n",
    "roc_auc = []\n",
    "for random_split in splits:\n",
    "    assembled_pred = np.zeros(46)\n",
    "    X, y = (df.drop(['is_good'], axis=1), df['is_good'].astype(int))\n",
    "    X = X.to_numpy()\n",
    "    scaler = StandardScaler()\n",
    "    X_scaled = scaler.fit_transform(X)\n",
    "    X_tr, X_te, y_tr, y_te = train_test_split(X_scaled, y, test_size=0.4, random_state=random_split)\n",
    "    model = CatBoostClassifier(eval_metric='AUC', verbose = False)\n",
    "    feature_names = ['F{}'.format(i) for i in range(np.array(X_tr).shape[1])]\n",
    "    test_pool = Pool(np.array(X_te), y_te, feature_names=feature_names)\n",
    "    summary = model.select_features(\n",
    "        X = X_tr,\n",
    "        y=y_tr,\n",
    "        eval_set=test_pool,\n",
    "        features_for_select= np.arange(len(X_tr[0])),\n",
    "        num_features_to_select=50,\n",
    "        steps=6,\n",
    "        algorithm=EFeaturesSelectionAlgorithm.RecursiveByShapValues,\n",
    "        shap_calc_type=EShapCalcType.Regular,\n",
    "        train_final_model=True,\n",
    "        logging_level='Silent',\n",
    "        plot=False)\n",
    "    y_pred = model.predict_proba(X_te)[:, 1]\n",
    "    roc_auc.append(roc_auc_score(y_te, y_pred))\n",
    "    print(f\"roc auc score {roc_auc[-1]} for random_split {random_split}\")\n",
    "print(f\"mean roc auc {np.mean(roc_auc)}\")"
   ]
  },
  {
   "cell_type": "code",
   "execution_count": 30,
   "metadata": {},
   "outputs": [],
   "source": [
    "X, y = (df[[903]], df['is_good'].astype(int))\n",
    "scaler = StandardScaler()\n",
    "X = X.to_numpy()\n",
    "X_scaled = scaler.fit_transform(X)"
   ]
  },
  {
   "cell_type": "code",
   "execution_count": null,
   "metadata": {},
   "outputs": [],
   "source": [
    "df.shape"
   ]
  },
  {
   "cell_type": "code",
   "execution_count": 35,
   "metadata": {},
   "outputs": [
    {
     "name": "stdout",
     "output_type": "stream",
     "text": [
      "train roc-auc: 1.0\n",
      "roc auc score 0.693609022556391 for random_split 8334788\n",
      "train roc-auc: 1.0\n",
      "roc auc score 0.7600806451612905 for random_split 9151291\n",
      "train roc-auc: 1.0\n",
      "roc auc score 0.7234432234432234 for random_split 4517925\n",
      "train roc-auc: 1.0\n",
      "roc auc score 0.7176470588235294 for random_split 5765657\n",
      "train roc-auc: 1.0\n",
      "roc auc score 0.8529411764705882 for random_split 1797675\n",
      "mean roc auc 0.7495442252910045\n"
     ]
    }
   ],
   "source": [
    "from sklearn.model_selection import train_test_split\n",
    "splits = [8334788, 9151291, 4517925, 5765657, 1797675]\n",
    "roc_auc = []\n",
    "for random_split in splits:\n",
    "    assembled_pred = np.zeros(46)\n",
    "    X, y = (df.drop(['is_good'], axis=1), df['is_good'].astype(int))\n",
    "    X = X.to_numpy()\n",
    "    scaler = StandardScaler()\n",
    "    X_scaled = scaler.fit_transform(X)\n",
    "    X_tr, X_te, y_tr, y_te = train_test_split(X_scaled, y, test_size=0.4, random_state=random_split)\n",
    "    model = CatBoostClassifier(eval_metric='AUC', verbose = False)\n",
    "    feature_names = ['F{}'.format(i) for i in range(np.array(X_tr).shape[1])]\n",
    "    test_pool = Pool(np.array(X_te), y_te, feature_names=feature_names)\n",
    "    # summary = model.select_features(\n",
    "    #     X = X_tr,\n",
    "    #     y=y_tr,\n",
    "    #     eval_set=test_pool,\n",
    "    #     features_for_select= np.arange(len(X_tr[0])),\n",
    "    #     num_features_to_select=50,\n",
    "    #     steps=6,\n",
    "    #     algorithm=EFeaturesSelectionAlgorithm.RecursiveByShapValues,\n",
    "    #     shap_calc_type=EShapCalcType.Regular,\n",
    "    #     train_final_model=True,\n",
    "    #     logging_level='Silent',\n",
    "    #     plot=False)\n",
    "    model.fit(X_tr, y_tr)\n",
    "    print(f'train roc-auc: {roc_auc_score(y_tr, model.predict_proba(X_tr)[:, 1])}')\n",
    "    y_pred = model.predict_proba(X_te)[:, 1]\n",
    "    roc_auc.append(roc_auc_score(y_te, y_pred))\n",
    "    print(f\"roc auc score {roc_auc[-1]} for random_split {random_split}\")\n",
    "print(f\"mean roc auc {np.mean(roc_auc)}\")"
   ]
  }
 ],
 "metadata": {
  "kernelspec": {
   "display_name": "Python 3",
   "language": "python",
   "name": "python3"
  },
  "language_info": {
   "codemirror_mode": {
    "name": "ipython",
    "version": 3
   },
   "file_extension": ".py",
   "mimetype": "text/x-python",
   "name": "python",
   "nbconvert_exporter": "python",
   "pygments_lexer": "ipython3",
   "version": "3.8.10"
  },
  "orig_nbformat": 4
 },
 "nbformat": 4,
 "nbformat_minor": 2
}
