{
 "cells": [
  {
   "cell_type": "code",
   "execution_count": 36,
   "metadata": {},
   "outputs": [],
   "source": [
    "import os\n",
    "import io\n",
    "import sys\n",
    "import re\n",
    "import time\n",
    "import math\n",
    "import pickle\n",
    "\n",
    "import numpy as np\n",
    "import pandas as pd\n",
    "\n",
    "import os\n",
    "import pickle\n",
    "import numpy as np\n",
    "from numpy import nan as Nan\n",
    "import pandas as pd\n",
    "\n",
    "from numpy import nan as Nan\n",
    "from numpy import inf as inf\n",
    "from tqdm import notebook as tqdm\n",
    "from scipy.sparse import csr_matrix\n",
    "\n",
    "from data_management import read_csv\n",
    "import pandas as pd\n",
    "import matplotlib.pyplot as plt\n",
    "import numpy as np\n",
    "from pymatgen.ext.matproj import MPRester\n",
    "from tqdm import tqdm\n",
    "import pickle\n",
    "from pymatgen.electronic_structure.plotter import BSPlotter\n",
    "from pymatgen.io import ase\n",
    "from pymatgen.transformations.standard_transformations import OxidationStateDecorationTransformation\n",
    "from pymatgen.transformations.standard_transformations import AutoOxiStateDecorationTransformation\n",
    "import os\n",
    "\n"
   ]
  },
  {
   "cell_type": "code",
   "execution_count": 37,
   "metadata": {},
   "outputs": [],
   "source": [
    "def load_csv(path):\n",
    "    save_path = os.path.join(os.getcwd(), path)\n",
    "    open_file = open(save_path, 'rb')\n",
    "    labels_df = pickle.load(open_file)\n",
    "    open_file.close()\n",
    "    return labels_df\n"
   ]
  },
  {
   "cell_type": "code",
   "execution_count": 38,
   "metadata": {},
   "outputs": [],
   "source": [
    "experimental_data = load_csv('groups_and_oxi_states_starting_structure/df.pkl')"
   ]
  },
  {
   "cell_type": "code",
   "execution_count": 39,
   "metadata": {},
   "outputs": [],
   "source": [
    "df_fall = load_csv('semi-supervised_supporting_files/labeled_data_BVSE.pkl')\n",
    "df_fall = df_fall[~df_fall['conductivity'].isna()]\n",
    "df_fall['composition'] = df_fall['composition'].apply(lambda x: x.replace(\" \", \"\"))\n",
    "df_fall.MP_ID.fillna(value='', inplace=True)\n",
    "df_fall['MP_ID'] = df_fall['MP_ID'].apply(lambda x: x.replace(\"mp-\", \"\"))\n",
    "labels = set(df_fall['composition'].to_list()) & set(experimental_data['label'].to_list())"
   ]
  },
  {
   "cell_type": "code",
   "execution_count": 42,
   "metadata": {},
   "outputs": [
    {
     "data": {
      "text/html": [
       "<div>\n",
       "<style scoped>\n",
       "    .dataframe tbody tr th:only-of-type {\n",
       "        vertical-align: middle;\n",
       "    }\n",
       "\n",
       "    .dataframe tbody tr th {\n",
       "        vertical-align: top;\n",
       "    }\n",
       "\n",
       "    .dataframe thead th {\n",
       "        text-align: right;\n",
       "    }\n",
       "</style>\n",
       "<table border=\"1\" class=\"dataframe\">\n",
       "  <thead>\n",
       "    <tr style=\"text-align: right;\">\n",
       "      <th></th>\n",
       "      <th>label</th>\n",
       "      <th>composition</th>\n",
       "      <th>ICSD_ID</th>\n",
       "      <th>MP_ID</th>\n",
       "      <th>src_id</th>\n",
       "      <th>conductivity</th>\n",
       "    </tr>\n",
       "  </thead>\n",
       "  <tbody>\n",
       "    <tr>\n",
       "      <th>1</th>\n",
       "      <td>Na2Li4B2P4O16</td>\n",
       "      <td>Na2Li4B2P4O16</td>\n",
       "      <td>291512</td>\n",
       "      <td>1020646</td>\n",
       "      <td>291512</td>\n",
       "      <td>0.0</td>\n",
       "    </tr>\n",
       "    <tr>\n",
       "      <th>3</th>\n",
       "      <td>Li12Zn2O8</td>\n",
       "      <td>Li12Zn2O8</td>\n",
       "      <td>62137</td>\n",
       "      <td>14495</td>\n",
       "      <td>62137</td>\n",
       "      <td>0.0</td>\n",
       "    </tr>\n",
       "    <tr>\n",
       "      <th>7</th>\n",
       "      <td>Li18Mg6P8O32F6</td>\n",
       "      <td>Li18Mg6P8O32F6</td>\n",
       "      <td>426103</td>\n",
       "      <td>1203004</td>\n",
       "      <td>426103</td>\n",
       "      <td>0.0</td>\n",
       "    </tr>\n",
       "    <tr>\n",
       "      <th>8</th>\n",
       "      <td>Li4Ga4Br16</td>\n",
       "      <td>Li4Ga4Br16</td>\n",
       "      <td>61337</td>\n",
       "      <td>28326</td>\n",
       "      <td>61337</td>\n",
       "      <td>0.000007</td>\n",
       "    </tr>\n",
       "  </tbody>\n",
       "</table>\n",
       "</div>"
      ],
      "text/plain": [
       "            label     composition  ICSD_ID    MP_ID  src_id conductivity\n",
       "1   Na2Li4B2P4O16   Na2Li4B2P4O16   291512  1020646  291512          0.0\n",
       "3       Li12Zn2O8       Li12Zn2O8    62137    14495   62137          0.0\n",
       "7  Li18Mg6P8O32F6  Li18Mg6P8O32F6   426103  1203004  426103          0.0\n",
       "8      Li4Ga4Br16      Li4Ga4Br16    61337    28326   61337     0.000007"
      ]
     },
     "execution_count": 42,
     "metadata": {},
     "output_type": "execute_result"
    }
   ],
   "source": [
    "df = df_fall.merge(experimental_data, how='inner', left_on='composition', right_on='label')[['label', 'composition', 'ICSD_ID', 'MP_ID', 'src_id', 'conductivity']]\n",
    "df[(df['ICSD_ID'] == df['src_id']) | (df['src_id'] == df['MP_ID'])]"
   ]
  },
  {
   "cell_type": "code",
   "execution_count": 51,
   "metadata": {},
   "outputs": [
    {
     "data": {
      "text/plain": [
       "['Li16Zn4P8O32',\n",
       " 'Na2Li4B2P4O16',\n",
       " 'Li4B4O8',\n",
       " 'Li12Zn2O8',\n",
       " 'Li20Ge2P4S24',\n",
       " 'Li20Ge2P4S24',\n",
       " 'Li20Ge2P4S24',\n",
       " 'Li18Mg6P8O32F6',\n",
       " 'Li4Ga4Br16',\n",
       " 'Li56P8N32',\n",
       " 'Li2Sn4P6O24',\n",
       " 'Li8P4O14',\n",
       " 'Li24Al8N16']"
      ]
     },
     "execution_count": 51,
     "metadata": {},
     "output_type": "execute_result"
    }
   ],
   "source": [
    "labels_in_table = df['label'].to_list()"
   ]
  },
  {
   "cell_type": "code",
   "execution_count": 52,
   "metadata": {},
   "outputs": [],
   "source": [
    "df_ = df_fall[~df_fall['composition'].isin(labels_in_table)]"
   ]
  },
  {
   "cell_type": "code",
   "execution_count": 53,
   "metadata": {},
   "outputs": [
    {
     "data": {
      "text/html": [
       "<div>\n",
       "<style scoped>\n",
       "    .dataframe tbody tr th:only-of-type {\n",
       "        vertical-align: middle;\n",
       "    }\n",
       "\n",
       "    .dataframe tbody tr th {\n",
       "        vertical-align: top;\n",
       "    }\n",
       "\n",
       "    .dataframe thead th {\n",
       "        text-align: right;\n",
       "    }\n",
       "</style>\n",
       "<table border=\"1\" class=\"dataframe\">\n",
       "  <thead>\n",
       "    <tr style=\"text-align: right;\">\n",
       "      <th></th>\n",
       "      <th>composition</th>\n",
       "      <th>conductivity</th>\n",
       "      <th>ICSD_ID</th>\n",
       "      <th>MP_ID</th>\n",
       "    </tr>\n",
       "  </thead>\n",
       "  <tbody>\n",
       "    <tr>\n",
       "      <th>17498</th>\n",
       "      <td>Li28Nd10Si22N38O14F4</td>\n",
       "      <td>0.0</td>\n",
       "      <td>262923</td>\n",
       "      <td></td>\n",
       "    </tr>\n",
       "    <tr>\n",
       "      <th>17508</th>\n",
       "      <td>Li12P4S16</td>\n",
       "      <td>0.0</td>\n",
       "      <td>35018</td>\n",
       "      <td></td>\n",
       "    </tr>\n",
       "    <tr>\n",
       "      <th>17575</th>\n",
       "      <td>Li1La1Nb2O7</td>\n",
       "      <td>0.0</td>\n",
       "      <td>72566</td>\n",
       "      <td></td>\n",
       "    </tr>\n",
       "    <tr>\n",
       "      <th>17658</th>\n",
       "      <td>Li2P2S6</td>\n",
       "      <td>0.0</td>\n",
       "      <td>253894</td>\n",
       "      <td></td>\n",
       "    </tr>\n",
       "    <tr>\n",
       "      <th>17688</th>\n",
       "      <td>Li3N1</td>\n",
       "      <td>0.0012</td>\n",
       "      <td>26540</td>\n",
       "      <td></td>\n",
       "    </tr>\n",
       "    <tr>\n",
       "      <th>...</th>\n",
       "      <td>...</td>\n",
       "      <td>...</td>\n",
       "      <td>...</td>\n",
       "      <td>...</td>\n",
       "    </tr>\n",
       "    <tr>\n",
       "      <th>25119</th>\n",
       "      <td>Li4La4O8</td>\n",
       "      <td>0.0</td>\n",
       "      <td>239278</td>\n",
       "      <td>1020057</td>\n",
       "    </tr>\n",
       "    <tr>\n",
       "      <th>25132</th>\n",
       "      <td>Li3N1</td>\n",
       "      <td>0.0003</td>\n",
       "      <td>156894</td>\n",
       "      <td>2251</td>\n",
       "    </tr>\n",
       "    <tr>\n",
       "      <th>25138</th>\n",
       "      <td>Li12B4N8</td>\n",
       "      <td>0.0</td>\n",
       "      <td>155126</td>\n",
       "      <td>5914</td>\n",
       "    </tr>\n",
       "    <tr>\n",
       "      <th>25141</th>\n",
       "      <td>Li1Sm9Si6O26</td>\n",
       "      <td>0.0</td>\n",
       "      <td>83279</td>\n",
       "      <td></td>\n",
       "    </tr>\n",
       "    <tr>\n",
       "      <th>25146</th>\n",
       "      <td>Li12P4S16</td>\n",
       "      <td>0.00016</td>\n",
       "      <td>180319</td>\n",
       "      <td></td>\n",
       "    </tr>\n",
       "  </tbody>\n",
       "</table>\n",
       "<p>207 rows × 4 columns</p>\n",
       "</div>"
      ],
      "text/plain": [
       "                composition conductivity  ICSD_ID    MP_ID\n",
       "17498  Li28Nd10Si22N38O14F4          0.0   262923         \n",
       "17508             Li12P4S16          0.0    35018         \n",
       "17575           Li1La1Nb2O7          0.0    72566         \n",
       "17658               Li2P2S6          0.0   253894         \n",
       "17688                 Li3N1       0.0012    26540         \n",
       "...                     ...          ...      ...      ...\n",
       "25119              Li4La4O8          0.0   239278  1020057\n",
       "25132                 Li3N1       0.0003   156894     2251\n",
       "25138              Li12B4N8          0.0   155126     5914\n",
       "25141          Li1Sm9Si6O26          0.0    83279         \n",
       "25146             Li12P4S16      0.00016   180319         \n",
       "\n",
       "[207 rows x 4 columns]"
      ]
     },
     "execution_count": 53,
     "metadata": {},
     "output_type": "execute_result"
    }
   ],
   "source": [
    "df_[['composition', 'conductivity', 'ICSD_ID', 'MP_ID']]"
   ]
  },
  {
   "cell_type": "code",
   "execution_count": 54,
   "metadata": {},
   "outputs": [],
   "source": [
    "icsds = df_['ICSD_ID'].to_list()"
   ]
  },
  {
   "cell_type": "code",
   "execution_count": 14,
   "metadata": {},
   "outputs": [
    {
     "name": "stderr",
     "output_type": "stream",
     "text": [
      "/usr/local/lib/python3.8/site-packages/mp_api/client/mprester.py:193: UserWarning: mpcontribs-client not installed. Install the package to query MPContribs data, or construct pourbaix diagrams: 'pip install mpcontribs-client'\n",
      "  warnings.warn(\n"
     ]
    },
    {
     "name": "stderr",
     "output_type": "stream",
     "text": [
      "Retrieving SummaryDoc documents: 100%|██████████| 21686/21686 [01:30<00:00, 238.89it/s]\n"
     ]
    }
   ],
   "source": [
    "APIKEY = \"gb6NLenjqf2uOU7MKjuudoEVbDQPKIKh\"\n",
    "with MPRester(APIKEY) as r:\n",
    "    docs = r.materials.summary.search(elements=[\"Li\"], fields=[\"material_id\", \"structure\", \"database_IDs\"])"
   ]
  },
  {
   "cell_type": "code",
   "execution_count": 57,
   "metadata": {},
   "outputs": [
    {
     "name": "stderr",
     "output_type": "stream",
     "text": [
      "/tmp/ipykernel_25636/2211972762.py:5: SettingWithCopyWarning: \n",
      "A value is trying to be set on a copy of a slice from a DataFrame.\n",
      "Try using .loc[row_indexer,col_indexer] = value instead\n",
      "\n",
      "See the caveats in the documentation: https://pandas.pydata.org/pandas-docs/stable/user_guide/indexing.html#returning-a-view-versus-a-copy\n",
      "  df_['structure'] = l\n"
     ]
    }
   ],
   "source": [
    "l = []\n",
    "doc = docs[0].structure\n",
    "for i in range(len(df_)):\n",
    "    l.append(doc)\n",
    "df_['structure'] = l\n"
   ]
  },
  {
   "cell_type": "code",
   "execution_count": 58,
   "metadata": {},
   "outputs": [
    {
     "name": "stderr",
     "output_type": "stream",
     "text": [
      "/tmp/ipykernel_25636/1439343119.py:1: SettingWithCopyWarning: \n",
      "A value is trying to be set on a copy of a slice from a DataFrame.\n",
      "Try using .loc[row_indexer,col_indexer] = value instead\n",
      "\n",
      "See the caveats in the documentation: https://pandas.pydata.org/pandas-docs/stable/user_guide/indexing.html#returning-a-view-versus-a-copy\n",
      "  df_['is_in_matminer'] = False\n"
     ]
    }
   ],
   "source": [
    "df_['is_in_matminer'] = False"
   ]
  },
  {
   "cell_type": "code",
   "execution_count": 59,
   "metadata": {},
   "outputs": [],
   "source": [
    "df_.set_index(np.arange(len(df_)), inplace=True)"
   ]
  },
  {
   "cell_type": "code",
   "execution_count": 60,
   "metadata": {},
   "outputs": [
    {
     "name": "stderr",
     "output_type": "stream",
     "text": [
      "/tmp/ipykernel_25636/11369577.py:11: SettingWithCopyWarning: \n",
      "A value is trying to be set on a copy of a slice from a DataFrame\n",
      "\n",
      "See the caveats in the documentation: https://pandas.pydata.org/pandas-docs/stable/user_guide/indexing.html#returning-a-view-versus-a-copy\n",
      "  df_['structure'].iloc[index] = doc.structure\n",
      "/tmp/ipykernel_25636/11369577.py:12: SettingWithCopyWarning: \n",
      "A value is trying to be set on a copy of a slice from a DataFrame\n",
      "\n",
      "See the caveats in the documentation: https://pandas.pydata.org/pandas-docs/stable/user_guide/indexing.html#returning-a-view-versus-a-copy\n",
      "  df_['is_in_matminer'].iloc[index] = True\n"
     ]
    },
    {
     "name": "stdout",
     "output_type": "stream",
     "text": [
      "70\n"
     ]
    }
   ],
   "source": [
    "summ = 0\n",
    "finded_icsds = []\n",
    "for doc in docs:\n",
    "    if 'icsd' not in doc.database_IDs.keys():\n",
    "        continue\n",
    "    new_list = list(map(lambda x: x.replace(\"icsd-\", \"\"), doc.database_IDs['icsd']))\n",
    "    for i, el in enumerate(new_list):\n",
    "        if float(el) in icsds:\n",
    "            for index, row in df_.iterrows():\n",
    "                if row['ICSD_ID'] == int(el):\n",
    "                    df_['structure'].iloc[index] = doc.structure\n",
    "                    df_['is_in_matminer'].iloc[index] = True\n",
    "                    summ += 1\n",
    "                    break\n",
    "print(summ)"
   ]
  },
  {
   "cell_type": "code",
   "execution_count": 61,
   "metadata": {},
   "outputs": [
    {
     "data": {
      "text/html": [
       "<div>\n",
       "<style scoped>\n",
       "    .dataframe tbody tr th:only-of-type {\n",
       "        vertical-align: middle;\n",
       "    }\n",
       "\n",
       "    .dataframe tbody tr th {\n",
       "        vertical-align: top;\n",
       "    }\n",
       "\n",
       "    .dataframe thead th {\n",
       "        text-align: right;\n",
       "    }\n",
       "</style>\n",
       "<table border=\"1\" class=\"dataframe\">\n",
       "  <thead>\n",
       "    <tr style=\"text-align: right;\">\n",
       "      <th></th>\n",
       "      <th>composition</th>\n",
       "      <th>ICSD_ID</th>\n",
       "      <th>MP_ID</th>\n",
       "      <th>conductivity</th>\n",
       "      <th>structure</th>\n",
       "    </tr>\n",
       "  </thead>\n",
       "  <tbody>\n",
       "    <tr>\n",
       "      <th>5</th>\n",
       "      <td>Li12Zr4O14</td>\n",
       "      <td>73835</td>\n",
       "      <td>5418</td>\n",
       "      <td>0.0</td>\n",
       "      <td>[[-0.85825271  5.63904289  5.85194445] Li, [-0...</td>\n",
       "    </tr>\n",
       "    <tr>\n",
       "      <th>12</th>\n",
       "      <td>Li18Al6F36</td>\n",
       "      <td>85171</td>\n",
       "      <td>15254</td>\n",
       "      <td>0.0</td>\n",
       "      <td>[[4.73361578 5.83973294 7.86019592] Li, [7.360...</td>\n",
       "    </tr>\n",
       "    <tr>\n",
       "      <th>13</th>\n",
       "      <td>Li8Te4O16</td>\n",
       "      <td>1485</td>\n",
       "      <td>13843</td>\n",
       "      <td>0.0</td>\n",
       "      <td>[[4.49567795 4.49567795 7.22131246] Li, [1.530...</td>\n",
       "    </tr>\n",
       "    <tr>\n",
       "      <th>15</th>\n",
       "      <td>Li64Si32N64</td>\n",
       "      <td>420126</td>\n",
       "      <td>684024</td>\n",
       "      <td>0.0</td>\n",
       "      <td>[[3.95075135 8.37199368 9.30733141] Li, [ 2.88...</td>\n",
       "    </tr>\n",
       "    <tr>\n",
       "      <th>19</th>\n",
       "      <td>Ba4Li8P8O28</td>\n",
       "      <td>280927</td>\n",
       "      <td>6175</td>\n",
       "      <td>0.0</td>\n",
       "      <td>[[-0.31560283  1.40625965  5.29856841] Ba, [-0...</td>\n",
       "    </tr>\n",
       "    <tr>\n",
       "      <th>...</th>\n",
       "      <td>...</td>\n",
       "      <td>...</td>\n",
       "      <td>...</td>\n",
       "      <td>...</td>\n",
       "      <td>...</td>\n",
       "    </tr>\n",
       "    <tr>\n",
       "      <th>198</th>\n",
       "      <td>Li8V8P12O48</td>\n",
       "      <td>240269</td>\n",
       "      <td>26957</td>\n",
       "      <td>0.0</td>\n",
       "      <td>[[1.94030835 6.77215733 2.22315602] Li, [2.420...</td>\n",
       "    </tr>\n",
       "    <tr>\n",
       "      <th>200</th>\n",
       "      <td>Na6Li6S6O24</td>\n",
       "      <td>14364</td>\n",
       "      <td>6783</td>\n",
       "      <td>0.0</td>\n",
       "      <td>[[ 5.52374029 -3.53673591  4.88220423] Na, [ 4...</td>\n",
       "    </tr>\n",
       "    <tr>\n",
       "      <th>202</th>\n",
       "      <td>Li4La4O8</td>\n",
       "      <td>239278</td>\n",
       "      <td>1020057</td>\n",
       "      <td>0.0</td>\n",
       "      <td>[[3.98597944 2.7942188  3.78374601] Li, [0.866...</td>\n",
       "    </tr>\n",
       "    <tr>\n",
       "      <th>203</th>\n",
       "      <td>Li3N1</td>\n",
       "      <td>156894</td>\n",
       "      <td>2251</td>\n",
       "      <td>0.0003</td>\n",
       "      <td>[[0.        0.        1.9273193] Li, [-2.14153...</td>\n",
       "    </tr>\n",
       "    <tr>\n",
       "      <th>204</th>\n",
       "      <td>Li12B4N8</td>\n",
       "      <td>155126</td>\n",
       "      <td>5914</td>\n",
       "      <td>0.0</td>\n",
       "      <td>[[0.         0.         6.49296948] Li, [3.316...</td>\n",
       "    </tr>\n",
       "  </tbody>\n",
       "</table>\n",
       "<p>70 rows × 5 columns</p>\n",
       "</div>"
      ],
      "text/plain": [
       "     composition  ICSD_ID    MP_ID conductivity  \\\n",
       "5     Li12Zr4O14    73835     5418          0.0   \n",
       "12    Li18Al6F36    85171    15254          0.0   \n",
       "13     Li8Te4O16     1485    13843          0.0   \n",
       "15   Li64Si32N64   420126   684024          0.0   \n",
       "19   Ba4Li8P8O28   280927     6175          0.0   \n",
       "..           ...      ...      ...          ...   \n",
       "198  Li8V8P12O48   240269    26957          0.0   \n",
       "200  Na6Li6S6O24    14364     6783          0.0   \n",
       "202     Li4La4O8   239278  1020057          0.0   \n",
       "203        Li3N1   156894     2251       0.0003   \n",
       "204     Li12B4N8   155126     5914          0.0   \n",
       "\n",
       "                                             structure  \n",
       "5    [[-0.85825271  5.63904289  5.85194445] Li, [-0...  \n",
       "12   [[4.73361578 5.83973294 7.86019592] Li, [7.360...  \n",
       "13   [[4.49567795 4.49567795 7.22131246] Li, [1.530...  \n",
       "15   [[3.95075135 8.37199368 9.30733141] Li, [ 2.88...  \n",
       "19   [[-0.31560283  1.40625965  5.29856841] Ba, [-0...  \n",
       "..                                                 ...  \n",
       "198  [[1.94030835 6.77215733 2.22315602] Li, [2.420...  \n",
       "200  [[ 5.52374029 -3.53673591  4.88220423] Na, [ 4...  \n",
       "202  [[3.98597944 2.7942188  3.78374601] Li, [0.866...  \n",
       "203  [[0.        0.        1.9273193] Li, [-2.14153...  \n",
       "204  [[0.         0.         6.49296948] Li, [3.316...  \n",
       "\n",
       "[70 rows x 5 columns]"
      ]
     },
     "execution_count": 61,
     "metadata": {},
     "output_type": "execute_result"
    }
   ],
   "source": [
    "df_ = df_[df_['is_in_matminer'] == True]\n",
    "df_[['composition', 'ICSD_ID', 'MP_ID', 'conductivity', 'structure']]"
   ]
  },
  {
   "cell_type": "code",
   "execution_count": 62,
   "metadata": {},
   "outputs": [],
   "source": [
    "save_path = os.path.join(os.getcwd(), 'mpr_test/testing_structures.pkl')\n",
    "save_file = open(save_path, 'wb')\n",
    "pickle.dump(df_, save_file)\n",
    "save_file.close()"
   ]
  }
 ],
 "metadata": {
  "kernelspec": {
   "display_name": "Python 3",
   "language": "python",
   "name": "python3"
  },
  "language_info": {
   "codemirror_mode": {
    "name": "ipython",
    "version": 3
   },
   "file_extension": ".py",
   "mimetype": "text/x-python",
   "name": "python",
   "nbconvert_exporter": "python",
   "pygments_lexer": "ipython3",
   "version": "3.8.10"
  },
  "orig_nbformat": 4
 },
 "nbformat": 4,
 "nbformat_minor": 2
}
